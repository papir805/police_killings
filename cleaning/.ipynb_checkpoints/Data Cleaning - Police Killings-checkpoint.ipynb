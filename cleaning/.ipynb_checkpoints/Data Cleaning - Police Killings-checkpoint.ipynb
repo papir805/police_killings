{
 "cells": [
  {
   "cell_type": "code",
   "execution_count": 1,
   "metadata": {},
   "outputs": [],
   "source": [
    "import pandas as pd\n",
    "import numpy as np\n",
    "import matplotlib.pyplot as plt\n",
    "import seaborn as sns\n",
    "from nameparser import HumanName\n",
    "import webbrowser\n",
    "%matplotlib inline"
   ]
  },
  {
   "cell_type": "markdown",
   "metadata": {},
   "source": [
    "Import CSV file of data that needs cleaning and check its shape."
   ]
  },
  {
   "cell_type": "code",
   "execution_count": 2,
   "metadata": {},
   "outputs": [
    {
     "data": {
      "text/plain": [
       "(7907, 66)"
      ]
     },
     "execution_count": 2,
     "metadata": {},
     "output_type": "execute_result"
    }
   ],
   "source": [
    "killings = pd.read_csv('./csv_files/police_killings_original.csv')\n",
    "killings.shape"
   ]
  },
  {
   "cell_type": "markdown",
   "metadata": {},
   "source": [
    "# Data Cleaning\n",
    "\n",
    "Drop rows that contain ALL null values, then drop columns that contain ALL null values"
   ]
  },
  {
   "cell_type": "code",
   "execution_count": 3,
   "metadata": {},
   "outputs": [
    {
     "data": {
      "text/plain": [
       "(7663, 27)"
      ]
     },
     "execution_count": 3,
     "metadata": {},
     "output_type": "execute_result"
    }
   ],
   "source": [
    "killings.dropna(how='all', axis=0, inplace=True)\n",
    "killings.dropna(how='all', axis=1, inplace=True)\n",
    "killings.shape"
   ]
  },
  {
   "cell_type": "code",
   "execution_count": 4,
   "metadata": {},
   "outputs": [
    {
     "data": {
      "text/plain": [
       "Index(['Victim's name', 'Victim's age', 'Victim's gender', 'Victim's race',\n",
       "       'URL of image of victim', 'Date of Incident (month/day/year)',\n",
       "       'Street Address of Incident', 'City', 'State', 'Zipcode', 'County',\n",
       "       'Agency responsible for death', 'Cause of death',\n",
       "       'A brief description of the circumstances surrounding the death',\n",
       "       'Official disposition of death (justified or other)',\n",
       "       'Criminal Charges?',\n",
       "       'Link to news article or photo of official document',\n",
       "       'Symptoms of mental illness?', 'Unarmed',\n",
       "       'Alleged Weapon (Source: WaPo)', 'Alleged Threat Level (Source: WaPo)',\n",
       "       'Fleeing (Source: WaPo)', 'Body Camera (Source: WaPo)',\n",
       "       'WaPo ID (If included in WaPo database)', 'Off-Duty Killing?',\n",
       "       'Geography (via Trulia methodology based on zipcode population density: http://jedkolko.com/wp-content/uploads/2015/05/full-ZCTA-urban-suburban-rural-classification.xlsx )',\n",
       "       'ID'],\n",
       "      dtype='object')"
      ]
     },
     "execution_count": 4,
     "metadata": {},
     "output_type": "execute_result"
    }
   ],
   "source": [
    "killings.columns"
   ]
  },
  {
   "cell_type": "markdown",
   "metadata": {},
   "source": [
    "## Cleaning column names and dropping unnecessary columns\n",
    "The column names are pretty messy, let's change that"
   ]
  },
  {
   "cell_type": "code",
   "execution_count": 5,
   "metadata": {},
   "outputs": [],
   "source": [
    "killings.rename(columns={\n",
    "    \"Victim's name\":\"victims_name\", \n",
    "    \"Victim's age\":\"victims_age\", \n",
    "    \"Victim's gender\":\"victims_gender\", \n",
    "    \"Victim's race\":\"victims_race\",\n",
    "    \"URL of image of victim\": \"victim_img_url\",\n",
    "    \"Date of Incident (month/day/year)\":\"date\",\n",
    "    \"Street Address of Incident\": \"street_address\",\n",
    "    \"City\":\"city\",\n",
    "    \"State\":\"state\",\n",
    "    \"Zipcode\":\"zipcode\",\n",
    "    \"County\":\"county\",\n",
    "    \"Agency responsible for death\":\"agency_resp_for_death\",\n",
    "    \"Cause of death\":\"cause_of_death\",\n",
    "    \"A brief description of the circumstances surrounding the death\":\"desc_of_circumstances\",\n",
    "    \"Official disposition of death (justified or other)\":\"official_disposition_of_death\",\n",
    "    \"Criminal Charges?\":\"criminal_charges\", \n",
    "    'Link to news article or photo of official document':\"news_article_link\",\n",
    "    'Symptoms of mental illness?':'mental_illness',\n",
    "    \"Unarmed\":\"unarmed\",\n",
    "    'Alleged Weapon (Source: WaPo)':'alleged_weapon',\n",
    "    'Alleged Threat Level (Source: WaPo)':'threat_level',\n",
    "    'Fleeing (Source: WaPo)': 'fleeing',\n",
    "    'Body Camera (Source: WaPo)':'video_surveillance',\n",
    "    'WaPo ID (If included in WaPo database)':'WaPo_id',\n",
    "    'Off-Duty Killing?':'off_duty_killing',\n",
    "    'Geography (via Trulia methodology based on zipcode population density: http://jedkolko.com/wp-content/uploads/2015/05/full-ZCTA-urban-suburban-rural-classification.xlsx )':'geo_type',\n",
    "    }, inplace=True)"
   ]
  },
  {
   "cell_type": "markdown",
   "metadata": {},
   "source": [
    "Check to see what percentage of null values are contained in each column that remains."
   ]
  },
  {
   "cell_type": "code",
   "execution_count": 6,
   "metadata": {},
   "outputs": [
    {
     "data": {
      "text/plain": [
       "victims_name                      0.000000\n",
       "victims_age                       0.874331\n",
       "victims_gender                    0.104398\n",
       "victims_race                      0.000000\n",
       "victim_img_url                   45.191178\n",
       "date                              0.000000\n",
       "street_address                    1.083127\n",
       "city                              0.078298\n",
       "state                             0.000000\n",
       "zipcode                           0.508939\n",
       "county                            0.195746\n",
       "agency_resp_for_death             0.208796\n",
       "cause_of_death                    0.000000\n",
       "desc_of_circumstances             0.260994\n",
       "official_disposition_of_death     3.340728\n",
       "criminal_charges                  0.000000\n",
       "news_article_link                 0.156597\n",
       "mental_illness                    0.143547\n",
       "unarmed                           0.000000\n",
       "alleged_weapon                    0.000000\n",
       "threat_level                     31.084432\n",
       "fleeing                          34.138066\n",
       "video_surveillance               37.439645\n",
       "WaPo_id                          36.343469\n",
       "off_duty_killing                 97.050763\n",
       "geo_type                          0.874331\n",
       "ID                                0.000000\n",
       "dtype: float64"
      ]
     },
     "execution_count": 6,
     "metadata": {},
     "output_type": "execute_result"
    }
   ],
   "source": [
    "(killings.isnull().sum() / len(killings)) * 100"
   ]
  },
  {
   "cell_type": "markdown",
   "metadata": {},
   "source": [
    "Because off_duty_killing is missing 97% of values, I'm going to drop it.\n",
    "\n",
    "Because we can use our df index to ID each row, we don't need the ID column and can drop it.\n",
    "\n",
    "I've also tried to access the WaPo database to look up cases based on WaPo_id, but it doesn't let me search using that parameter, so I'm going to drop that column too."
   ]
  },
  {
   "cell_type": "code",
   "execution_count": 7,
   "metadata": {},
   "outputs": [],
   "source": [
    "killings.drop(['WaPo_id', 'off_duty_killing', 'ID'], axis=1, inplace=True)"
   ]
  },
  {
   "cell_type": "markdown",
   "metadata": {},
   "source": [
    "Let's investigate what our columns are about and perform any necessary cleaning column by column"
   ]
  },
  {
   "cell_type": "code",
   "execution_count": 8,
   "metadata": {},
   "outputs": [
    {
     "name": "stdout",
     "output_type": "stream",
     "text": [
      "<class 'pandas.core.frame.DataFrame'>\n",
      "Int64Index: 7663 entries, 0 to 7662\n",
      "Data columns (total 24 columns):\n",
      " #   Column                         Non-Null Count  Dtype  \n",
      "---  ------                         --------------  -----  \n",
      " 0   victims_name                   7663 non-null   object \n",
      " 1   victims_age                    7596 non-null   object \n",
      " 2   victims_gender                 7655 non-null   object \n",
      " 3   victims_race                   7663 non-null   object \n",
      " 4   victim_img_url                 4200 non-null   object \n",
      " 5   date                           7663 non-null   object \n",
      " 6   street_address                 7580 non-null   object \n",
      " 7   city                           7657 non-null   object \n",
      " 8   state                          7663 non-null   object \n",
      " 9   zipcode                        7624 non-null   float64\n",
      " 10  county                         7648 non-null   object \n",
      " 11  agency_resp_for_death          7647 non-null   object \n",
      " 12  cause_of_death                 7663 non-null   object \n",
      " 13  desc_of_circumstances          7643 non-null   object \n",
      " 14  official_disposition_of_death  7407 non-null   object \n",
      " 15  criminal_charges               7663 non-null   object \n",
      " 16  news_article_link              7651 non-null   object \n",
      " 17  mental_illness                 7652 non-null   object \n",
      " 18  unarmed                        7663 non-null   object \n",
      " 19  alleged_weapon                 7663 non-null   object \n",
      " 20  threat_level                   5281 non-null   object \n",
      " 21  fleeing                        5047 non-null   object \n",
      " 22  video_surveillance             4794 non-null   object \n",
      " 23  geo_type                       7596 non-null   object \n",
      "dtypes: float64(1), object(23)\n",
      "memory usage: 1.5+ MB\n"
     ]
    }
   ],
   "source": [
    "killings.info()"
   ]
  },
  {
   "cell_type": "markdown",
   "metadata": {
    "tags": []
   },
   "source": [
    "## Cleaning column by column"
   ]
  },
  {
   "cell_type": "markdown",
   "metadata": {},
   "source": [
    "### Victim's name - splitting to first and last names"
   ]
  },
  {
   "cell_type": "code",
   "execution_count": 9,
   "metadata": {},
   "outputs": [],
   "source": [
    "names_without_police_in_them = killings.loc[killings['victims_name'].str.contains('police')==False, 'victims_name']\n",
    "\n",
    "killings['first_name'] = names_without_police_in_them.apply(lambda x: HumanName(x).first)\n",
    "\n",
    "killings['last_name'] = names_without_police_in_them.apply(lambda x: HumanName(x).last)"
   ]
  },
  {
   "cell_type": "code",
   "execution_count": 10,
   "metadata": {},
   "outputs": [],
   "source": [
    "# killings[['First Name', 'Last Name']] = killings['victims_name'].loc[killings['victims_name'].str.split().str.len() == 2].str.split(expand=True)\n",
    "\n",
    "# killings.loc[killings['victims_name'].str.split().str.len() != 2, 'First Name'] = killings['victims_name'].str.split().str[0]\n",
    "# killings.loc[killings['victims_name'].str.split().str.len() != 2, 'Last Name'] = killings['victims_name'].apply(lambda x: HumanName(x).last)\n",
    "\n",
    "# killings.loc[killings['victims_name'] == 'Name withheld by police', ['First Name', 'Last Name']] = ['Unknown', 'Unknown']\n",
    "\n",
    "# killings[['First Name', 'Last Name']]"
   ]
  },
  {
   "cell_type": "markdown",
   "metadata": {},
   "source": [
    "### Victim's age"
   ]
  },
  {
   "cell_type": "code",
   "execution_count": 11,
   "metadata": {},
   "outputs": [
    {
     "data": {
      "text/plain": [
       "array(['28', nan, '57', '23', '37', '49', '47', '51', '27', '50', '76',\n",
       "       '29', '34', '31', '52', '43', '42', '16', '35', '59', '56', '65',\n",
       "       '60', '38', '24', '46', '40', '26', '61', '44', '21', '25', '41',\n",
       "       '63', '22', '18', '30', '55', '66', '68', '17', '70', '58', '20',\n",
       "       '54', '48', '36', '32', '33', '39', '45', '62', '19', '53', '75',\n",
       "       '64', '67', '74', '77', '69', '73', '80', '14', '71', '81',\n",
       "       'Unknown', '6', '78', '72', '84', '15', '89', '1', '40s', '82',\n",
       "       '79', '91', '83', '13', '86', '10', '12', '95', '5', '93', '7',\n",
       "       '107', '87'], dtype=object)"
      ]
     },
     "execution_count": 11,
     "metadata": {},
     "output_type": "execute_result"
    }
   ],
   "source": [
    "killings['victims_age'].unique()"
   ]
  },
  {
   "cell_type": "code",
   "execution_count": 12,
   "metadata": {},
   "outputs": [],
   "source": [
    "killings.loc[killings[\"victims_age\"]=='Unknown', \"victims_age\"] = np.nan"
   ]
  },
  {
   "cell_type": "code",
   "execution_count": 13,
   "metadata": {},
   "outputs": [],
   "source": [
    "killings.loc[killings[\"victims_age\"]=='40s', \"victims_age\"] = 40.0"
   ]
  },
  {
   "cell_type": "markdown",
   "metadata": {},
   "source": [
    "### Victim's gender\n",
    "Let's try to determine what to do with the Null values for gender.  We'll begin by inspecting those that have a news article link present as that may have information we can use."
   ]
  },
  {
   "cell_type": "code",
   "execution_count": 14,
   "metadata": {},
   "outputs": [
    {
     "data": {
      "text/plain": [
       "array(['Male', 'Female', nan, 'Transgender', 'Unknown'], dtype=object)"
      ]
     },
     "execution_count": 14,
     "metadata": {},
     "output_type": "execute_result"
    }
   ],
   "source": [
    "killings['victims_gender'].unique()"
   ]
  },
  {
   "cell_type": "code",
   "execution_count": 15,
   "metadata": {},
   "outputs": [
    {
     "data": {
      "text/html": [
       "<div>\n",
       "<style scoped>\n",
       "    .dataframe tbody tr th:only-of-type {\n",
       "        vertical-align: middle;\n",
       "    }\n",
       "\n",
       "    .dataframe tbody tr th {\n",
       "        vertical-align: top;\n",
       "    }\n",
       "\n",
       "    .dataframe thead th {\n",
       "        text-align: right;\n",
       "    }\n",
       "</style>\n",
       "<table border=\"1\" class=\"dataframe\">\n",
       "  <thead>\n",
       "    <tr style=\"text-align: right;\">\n",
       "      <th></th>\n",
       "      <th>victims_name</th>\n",
       "      <th>victims_age</th>\n",
       "      <th>victims_gender</th>\n",
       "      <th>victims_race</th>\n",
       "      <th>victim_img_url</th>\n",
       "      <th>date</th>\n",
       "      <th>street_address</th>\n",
       "      <th>city</th>\n",
       "      <th>state</th>\n",
       "      <th>zipcode</th>\n",
       "      <th>...</th>\n",
       "      <th>news_article_link</th>\n",
       "      <th>mental_illness</th>\n",
       "      <th>unarmed</th>\n",
       "      <th>alleged_weapon</th>\n",
       "      <th>threat_level</th>\n",
       "      <th>fleeing</th>\n",
       "      <th>video_surveillance</th>\n",
       "      <th>geo_type</th>\n",
       "      <th>first_name</th>\n",
       "      <th>last_name</th>\n",
       "    </tr>\n",
       "  </thead>\n",
       "  <tbody>\n",
       "    <tr>\n",
       "      <th>13</th>\n",
       "      <td>Name withheld by police</td>\n",
       "      <td>NaN</td>\n",
       "      <td>NaN</td>\n",
       "      <td>Unknown race</td>\n",
       "      <td>NaN</td>\n",
       "      <td>29/12/2019</td>\n",
       "      <td>3015 Old State Rd 25</td>\n",
       "      <td>Lafayette</td>\n",
       "      <td>IN</td>\n",
       "      <td>47905.0</td>\n",
       "      <td>...</td>\n",
       "      <td>https://www.jconline.com/story/news/2019/12/30...</td>\n",
       "      <td>No</td>\n",
       "      <td>Allegedly Armed</td>\n",
       "      <td>gun</td>\n",
       "      <td>attack</td>\n",
       "      <td>not fleeing</td>\n",
       "      <td>no</td>\n",
       "      <td>Urban</td>\n",
       "      <td>NaN</td>\n",
       "      <td>NaN</td>\n",
       "    </tr>\n",
       "    <tr>\n",
       "      <th>112</th>\n",
       "      <td>Name withheld by police</td>\n",
       "      <td>NaN</td>\n",
       "      <td>NaN</td>\n",
       "      <td>White</td>\n",
       "      <td>NaN</td>\n",
       "      <td>29/11/2019</td>\n",
       "      <td>38300 Mountain Hwy E</td>\n",
       "      <td>Eatonville</td>\n",
       "      <td>WA</td>\n",
       "      <td>98328.0</td>\n",
       "      <td>...</td>\n",
       "      <td>https://katu.com/news/local/sheriff-suspect-ki...</td>\n",
       "      <td>No</td>\n",
       "      <td>Unclear</td>\n",
       "      <td>undetermined</td>\n",
       "      <td>undetermined</td>\n",
       "      <td>Car</td>\n",
       "      <td>No</td>\n",
       "      <td>Rural</td>\n",
       "      <td>NaN</td>\n",
       "      <td>NaN</td>\n",
       "    </tr>\n",
       "    <tr>\n",
       "      <th>806</th>\n",
       "      <td>Name withheld by police</td>\n",
       "      <td>NaN</td>\n",
       "      <td>NaN</td>\n",
       "      <td>Hispanic</td>\n",
       "      <td>NaN</td>\n",
       "      <td>06/04/2019</td>\n",
       "      <td>NM-9</td>\n",
       "      <td>Santa Teresa</td>\n",
       "      <td>NM</td>\n",
       "      <td>88021.0</td>\n",
       "      <td>...</td>\n",
       "      <td>https://www.elpasotimes.com/story/news/immigra...</td>\n",
       "      <td>No</td>\n",
       "      <td>Vehicle</td>\n",
       "      <td>vehicle</td>\n",
       "      <td>NaN</td>\n",
       "      <td>NaN</td>\n",
       "      <td>NaN</td>\n",
       "      <td>Rural</td>\n",
       "      <td>NaN</td>\n",
       "      <td>NaN</td>\n",
       "    </tr>\n",
       "    <tr>\n",
       "      <th>807</th>\n",
       "      <td>Name withheld by police</td>\n",
       "      <td>NaN</td>\n",
       "      <td>NaN</td>\n",
       "      <td>Hispanic</td>\n",
       "      <td>NaN</td>\n",
       "      <td>06/04/2019</td>\n",
       "      <td>NM-9</td>\n",
       "      <td>Santa Teresa</td>\n",
       "      <td>NM</td>\n",
       "      <td>88021.0</td>\n",
       "      <td>...</td>\n",
       "      <td>https://www.elpasotimes.com/story/news/immigra...</td>\n",
       "      <td>No</td>\n",
       "      <td>Vehicle</td>\n",
       "      <td>vehicle</td>\n",
       "      <td>NaN</td>\n",
       "      <td>NaN</td>\n",
       "      <td>NaN</td>\n",
       "      <td>Rural</td>\n",
       "      <td>NaN</td>\n",
       "      <td>NaN</td>\n",
       "    </tr>\n",
       "    <tr>\n",
       "      <th>1017</th>\n",
       "      <td>Name withheld by police</td>\n",
       "      <td>NaN</td>\n",
       "      <td>NaN</td>\n",
       "      <td>Native American</td>\n",
       "      <td>NaN</td>\n",
       "      <td>23/01/2019</td>\n",
       "      <td>US-491</td>\n",
       "      <td>Naschitti</td>\n",
       "      <td>NM</td>\n",
       "      <td>87325.0</td>\n",
       "      <td>...</td>\n",
       "      <td>https://navajotimes.com/reznews/police-confirm...</td>\n",
       "      <td>No</td>\n",
       "      <td>Unclear</td>\n",
       "      <td>undetermined</td>\n",
       "      <td>undetermined</td>\n",
       "      <td>0</td>\n",
       "      <td>No</td>\n",
       "      <td>Rural</td>\n",
       "      <td>NaN</td>\n",
       "      <td>NaN</td>\n",
       "    </tr>\n",
       "    <tr>\n",
       "      <th>1029</th>\n",
       "      <td>Jihad Merrick</td>\n",
       "      <td>NaN</td>\n",
       "      <td>NaN</td>\n",
       "      <td>Unknown race</td>\n",
       "      <td>NaN</td>\n",
       "      <td>16/01/2019</td>\n",
       "      <td>NaN</td>\n",
       "      <td>Nashua</td>\n",
       "      <td>IA</td>\n",
       "      <td>NaN</td>\n",
       "      <td>...</td>\n",
       "      <td>https://wcfcourier.com/news/local/crime-and-co...</td>\n",
       "      <td>Yes</td>\n",
       "      <td>Vehicle</td>\n",
       "      <td>vehicle</td>\n",
       "      <td>attack</td>\n",
       "      <td>Car</td>\n",
       "      <td>No</td>\n",
       "      <td>NaN</td>\n",
       "      <td>Jihad</td>\n",
       "      <td>Merrick</td>\n",
       "    </tr>\n",
       "  </tbody>\n",
       "</table>\n",
       "<p>6 rows × 26 columns</p>\n",
       "</div>"
      ],
      "text/plain": [
       "                 victims_name victims_age victims_gender     victims_race  \\\n",
       "13    Name withheld by police         NaN            NaN     Unknown race   \n",
       "112   Name withheld by police         NaN            NaN            White   \n",
       "806   Name withheld by police         NaN            NaN         Hispanic   \n",
       "807   Name withheld by police         NaN            NaN         Hispanic   \n",
       "1017  Name withheld by police         NaN            NaN  Native American   \n",
       "1029            Jihad Merrick         NaN            NaN     Unknown race   \n",
       "\n",
       "     victim_img_url        date        street_address          city state  \\\n",
       "13              NaN  29/12/2019  3015 Old State Rd 25     Lafayette    IN   \n",
       "112             NaN  29/11/2019  38300 Mountain Hwy E    Eatonville    WA   \n",
       "806             NaN  06/04/2019                  NM-9  Santa Teresa    NM   \n",
       "807             NaN  06/04/2019                  NM-9  Santa Teresa    NM   \n",
       "1017            NaN  23/01/2019                US-491     Naschitti    NM   \n",
       "1029            NaN  16/01/2019                   NaN        Nashua    IA   \n",
       "\n",
       "      zipcode  ...                                  news_article_link  \\\n",
       "13    47905.0  ...  https://www.jconline.com/story/news/2019/12/30...   \n",
       "112   98328.0  ...  https://katu.com/news/local/sheriff-suspect-ki...   \n",
       "806   88021.0  ...  https://www.elpasotimes.com/story/news/immigra...   \n",
       "807   88021.0  ...  https://www.elpasotimes.com/story/news/immigra...   \n",
       "1017  87325.0  ...  https://navajotimes.com/reznews/police-confirm...   \n",
       "1029      NaN  ...  https://wcfcourier.com/news/local/crime-and-co...   \n",
       "\n",
       "     mental_illness          unarmed alleged_weapon  threat_level  \\\n",
       "13               No  Allegedly Armed            gun        attack   \n",
       "112              No          Unclear   undetermined  undetermined   \n",
       "806              No          Vehicle        vehicle           NaN   \n",
       "807              No          Vehicle        vehicle           NaN   \n",
       "1017             No          Unclear   undetermined  undetermined   \n",
       "1029            Yes          Vehicle        vehicle        attack   \n",
       "\n",
       "          fleeing video_surveillance geo_type first_name last_name  \n",
       "13    not fleeing                 no    Urban        NaN       NaN  \n",
       "112           Car                 No    Rural        NaN       NaN  \n",
       "806           NaN                NaN    Rural        NaN       NaN  \n",
       "807           NaN                NaN    Rural        NaN       NaN  \n",
       "1017            0                 No    Rural        NaN       NaN  \n",
       "1029          Car                 No      NaN      Jihad   Merrick  \n",
       "\n",
       "[6 rows x 26 columns]"
      ]
     },
     "execution_count": 15,
     "metadata": {},
     "output_type": "execute_result"
    }
   ],
   "source": [
    "null_gender_df = killings[(killings[\"victims_gender\"].isnull()==True) & (killings['news_article_link'].isnull()==False)]\n",
    "\n",
    "null_gender_df"
   ]
  },
  {
   "cell_type": "markdown",
   "metadata": {},
   "source": [
    "While reading through each article, it would be good to know which columns are Null in case we find that information in the article.  To do this, we'll determine which columns are null for each of the distinct rows, then read the article and impute any information we find."
   ]
  },
  {
   "cell_type": "code",
   "execution_count": 16,
   "metadata": {},
   "outputs": [
    {
     "name": "stdout",
     "output_type": "stream",
     "text": [
      "Here are the links for news articles that contain links for rows with a null gender:\n",
      "--------------------------------------------------\n",
      "\n",
      "df_idx: 13\n",
      "victims_age       NaN\n",
      "victims_gender    NaN\n",
      "victim_img_url    NaN\n",
      "first_name        NaN\n",
      "last_name         NaN\n",
      "link: https://www.jconline.com/story/news/2019/12/30/2-dead-sunday-night-shootings-family-express-near-lafayette/2773121001/\n",
      "\n",
      "df_idx: 112\n",
      "victims_age       NaN\n",
      "victims_gender    NaN\n",
      "victim_img_url    NaN\n",
      "first_name        NaN\n",
      "last_name         NaN\n",
      "link: https://katu.com/news/local/sheriff-suspect-killed-in-deputy-involved-shooting-in-pierce-county-wash\n",
      "\n",
      "df_idx: 806\n",
      "victims_age           NaN\n",
      "victims_gender        NaN\n",
      "victim_img_url        NaN\n",
      "threat_level          NaN\n",
      "fleeing               NaN\n",
      "video_surveillance    NaN\n",
      "first_name            NaN\n",
      "last_name             NaN\n",
      "link: https://www.elpasotimes.com/story/news/immigration/2019/04/07/border-patrol-chase-ends-crash-2-migrants-killed-new-mexico/3394408002/\n",
      "\n",
      "df_idx: 807\n",
      "victims_age           NaN\n",
      "victims_gender        NaN\n",
      "victim_img_url        NaN\n",
      "threat_level          NaN\n",
      "fleeing               NaN\n",
      "video_surveillance    NaN\n",
      "first_name            NaN\n",
      "last_name             NaN\n",
      "link: https://www.elpasotimes.com/story/news/immigration/2019/04/07/border-patrol-chase-ends-crash-2-migrants-killed-new-mexico/3394408002/\n",
      "\n",
      "df_idx: 1017\n",
      "victims_age       NaN\n",
      "victims_gender    NaN\n",
      "victim_img_url    NaN\n",
      "first_name        NaN\n",
      "last_name         NaN\n",
      "link: https://navajotimes.com/reznews/police-confirm-shooting-death-involved-officer/\n",
      "\n",
      "df_idx: 1029\n",
      "victims_age       NaN\n",
      "victims_gender    NaN\n",
      "victim_img_url    NaN\n",
      "street_address    NaN\n",
      "zipcode           NaN\n",
      "geo_type          NaN\n",
      "link: https://wcfcourier.com/news/local/crime-and-courts/update-man-shot-by-cops-in-highway-incident-was-from/article_e135ef16-c2ae-5c71-9524-caeb7d5a2a02.html\n",
      "\n"
     ]
    }
   ],
   "source": [
    "null_gender_links = null_gender_df['news_article_link']\n",
    "\n",
    "null_gender_idx = null_gender_links.index\n",
    "null_gender_urls = null_gender_links.to_list()\n",
    "\n",
    "print(\"Here are the links for news articles that contain links for rows with a null gender:\")\n",
    "print(\"-\"*50)\n",
    "print()\n",
    "for idx, link in zip(null_gender_idx, null_gender_links):\n",
    "    null_col_mask = killings.loc[idx].isna()==True\n",
    "    print(F\"df_idx: {idx}\")\n",
    "    print(killings.loc[idx, null_col_mask].to_string())\n",
    "    print(F\"link: {link}\")\n",
    "    print()"
   ]
  },
  {
   "cell_type": "code",
   "execution_count": 17,
   "metadata": {},
   "outputs": [],
   "source": [
    "# news article says the victim was male, no age given\n",
    "killings.loc[13, 'victims_gender'] = 'male'"
   ]
  },
  {
   "cell_type": "code",
   "execution_count": 18,
   "metadata": {},
   "outputs": [],
   "source": [
    "# news article says the victim was male in his 40s\n",
    "killings.loc[112, ['victims_gender', 'victims_age']] = 'male', '40'"
   ]
  },
  {
   "cell_type": "code",
   "execution_count": 19,
   "metadata": {},
   "outputs": [],
   "source": [
    "# URL mentions male victim, but ad is behind paywall so can't investigate further\n",
    "killings.loc[1029, 'victims_gender'] = 'male'"
   ]
  },
  {
   "cell_type": "code",
   "execution_count": 20,
   "metadata": {},
   "outputs": [
    {
     "data": {
      "text/plain": [
       "victims_name                               Akeen Brown\n",
       "victims_age                                        NaN\n",
       "victims_gender                                     NaN\n",
       "victims_race                                     Black\n",
       "victim_img_url                                     NaN\n",
       "date                                        17/04/2019\n",
       "street_address                                     NaN\n",
       "city                                             Flint\n",
       "state                                               MI\n",
       "zipcode                                            NaN\n",
       "county                                             NaN\n",
       "agency_resp_for_death                              NaN\n",
       "cause_of_death                                 Gunshot\n",
       "desc_of_circumstances                              NaN\n",
       "official_disposition_of_death    Pending investigation\n",
       "criminal_charges                      No known charges\n",
       "news_article_link                                  NaN\n",
       "mental_illness                                     NaN\n",
       "unarmed                                Allegedly Armed\n",
       "alleged_weapon                                     gun\n",
       "threat_level                                    attack\n",
       "fleeing                                    Not fleeing\n",
       "video_surveillance                                  No\n",
       "geo_type                                           NaN\n",
       "first_name                                       Akeen\n",
       "last_name                                        Brown\n",
       "Name: 774, dtype: object"
      ]
     },
     "execution_count": 20,
     "metadata": {},
     "output_type": "execute_result"
    }
   ],
   "source": [
    "killings.loc[774]"
   ]
  },
  {
   "cell_type": "code",
   "execution_count": 21,
   "metadata": {},
   "outputs": [
    {
     "data": {
      "text/html": [
       "<div>\n",
       "<style scoped>\n",
       "    .dataframe tbody tr th:only-of-type {\n",
       "        vertical-align: middle;\n",
       "    }\n",
       "\n",
       "    .dataframe tbody tr th {\n",
       "        vertical-align: top;\n",
       "    }\n",
       "\n",
       "    .dataframe thead th {\n",
       "        text-align: right;\n",
       "    }\n",
       "</style>\n",
       "<table border=\"1\" class=\"dataframe\">\n",
       "  <thead>\n",
       "    <tr style=\"text-align: right;\">\n",
       "      <th></th>\n",
       "      <th>victims_name</th>\n",
       "      <th>victims_age</th>\n",
       "      <th>victims_gender</th>\n",
       "      <th>victims_race</th>\n",
       "      <th>victim_img_url</th>\n",
       "      <th>date</th>\n",
       "      <th>street_address</th>\n",
       "      <th>city</th>\n",
       "      <th>state</th>\n",
       "      <th>zipcode</th>\n",
       "      <th>...</th>\n",
       "      <th>news_article_link</th>\n",
       "      <th>mental_illness</th>\n",
       "      <th>unarmed</th>\n",
       "      <th>alleged_weapon</th>\n",
       "      <th>threat_level</th>\n",
       "      <th>fleeing</th>\n",
       "      <th>video_surveillance</th>\n",
       "      <th>geo_type</th>\n",
       "      <th>first_name</th>\n",
       "      <th>last_name</th>\n",
       "    </tr>\n",
       "  </thead>\n",
       "  <tbody>\n",
       "    <tr>\n",
       "      <th>528</th>\n",
       "      <td>Dennis Edwards</td>\n",
       "      <td>NaN</td>\n",
       "      <td>NaN</td>\n",
       "      <td>White</td>\n",
       "      <td>NaN</td>\n",
       "      <td>10/07/2019</td>\n",
       "      <td>NaN</td>\n",
       "      <td>Kansas City</td>\n",
       "      <td>KS</td>\n",
       "      <td>NaN</td>\n",
       "      <td>...</td>\n",
       "      <td>NaN</td>\n",
       "      <td>NaN</td>\n",
       "      <td>Allegedly Armed</td>\n",
       "      <td>gun</td>\n",
       "      <td>attack</td>\n",
       "      <td>Not fleeing</td>\n",
       "      <td>No</td>\n",
       "      <td>NaN</td>\n",
       "      <td>Dennis</td>\n",
       "      <td>Edwards</td>\n",
       "    </tr>\n",
       "    <tr>\n",
       "      <th>774</th>\n",
       "      <td>Akeen Brown</td>\n",
       "      <td>NaN</td>\n",
       "      <td>NaN</td>\n",
       "      <td>Black</td>\n",
       "      <td>NaN</td>\n",
       "      <td>17/04/2019</td>\n",
       "      <td>NaN</td>\n",
       "      <td>Flint</td>\n",
       "      <td>MI</td>\n",
       "      <td>NaN</td>\n",
       "      <td>...</td>\n",
       "      <td>NaN</td>\n",
       "      <td>NaN</td>\n",
       "      <td>Allegedly Armed</td>\n",
       "      <td>gun</td>\n",
       "      <td>attack</td>\n",
       "      <td>Not fleeing</td>\n",
       "      <td>No</td>\n",
       "      <td>NaN</td>\n",
       "      <td>Akeen</td>\n",
       "      <td>Brown</td>\n",
       "    </tr>\n",
       "  </tbody>\n",
       "</table>\n",
       "<p>2 rows × 26 columns</p>\n",
       "</div>"
      ],
      "text/plain": [
       "       victims_name victims_age victims_gender victims_race victim_img_url  \\\n",
       "528  Dennis Edwards         NaN            NaN        White            NaN   \n",
       "774     Akeen Brown         NaN            NaN        Black            NaN   \n",
       "\n",
       "           date street_address         city state  zipcode  ...  \\\n",
       "528  10/07/2019            NaN  Kansas City    KS      NaN  ...   \n",
       "774  17/04/2019            NaN        Flint    MI      NaN  ...   \n",
       "\n",
       "    news_article_link mental_illness          unarmed alleged_weapon  \\\n",
       "528               NaN            NaN  Allegedly Armed            gun   \n",
       "774               NaN            NaN  Allegedly Armed            gun   \n",
       "\n",
       "    threat_level      fleeing video_surveillance geo_type first_name last_name  \n",
       "528       attack  Not fleeing                 No      NaN     Dennis   Edwards  \n",
       "774       attack  Not fleeing                 No      NaN      Akeen     Brown  \n",
       "\n",
       "[2 rows x 26 columns]"
      ]
     },
     "execution_count": 21,
     "metadata": {},
     "output_type": "execute_result"
    }
   ],
   "source": [
    "killings[(killings['victims_gender'].isnull()==True) & (killings['news_article_link'].isnull()==True)]"
   ]
  },
  {
   "cell_type": "code",
   "execution_count": 22,
   "metadata": {},
   "outputs": [],
   "source": [
    "# Both names sound male, so I'll set the gender accordingly\n",
    "killings.loc[528, 'victims_gender'] = 'male'\n",
    "killings.loc[774, 'victims_gender'] = 'male'"
   ]
  },
  {
   "cell_type": "code",
   "execution_count": 23,
   "metadata": {},
   "outputs": [
    {
     "name": "stdout",
     "output_type": "stream",
     "text": [
      "There are only 3 rows with a null gender left, so we'll impute 'Unknown'\n"
     ]
    }
   ],
   "source": [
    "num_null_gender = killings['victims_gender'].isnull().sum()\n",
    "print(F\"There are only {num_null_gender} rows with a null gender left, so we'll impute 'Unknown'\")\n",
    "\n",
    "killings['victims_gender'].fillna('Unknown', inplace=True)"
   ]
  },
  {
   "cell_type": "code",
   "execution_count": 24,
   "metadata": {},
   "outputs": [],
   "source": [
    "killings['victims_gender'] = killings['victims_gender'].str.lower()"
   ]
  },
  {
   "cell_type": "markdown",
   "metadata": {},
   "source": [
    "### Victim's race"
   ]
  },
  {
   "cell_type": "code",
   "execution_count": 25,
   "metadata": {},
   "outputs": [
    {
     "data": {
      "text/plain": [
       "array(['White', 'Unknown race', 'Black', 'Hispanic', 'Pacific Islander',\n",
       "       'Asian', 'Native American', 'Unknown Race'], dtype=object)"
      ]
     },
     "execution_count": 25,
     "metadata": {},
     "output_type": "execute_result"
    }
   ],
   "source": [
    "killings['victims_race'].unique()"
   ]
  },
  {
   "cell_type": "code",
   "execution_count": 26,
   "metadata": {},
   "outputs": [],
   "source": [
    "killings['victims_race'] = killings['victims_race'].str.lower()"
   ]
  },
  {
   "cell_type": "code",
   "execution_count": 27,
   "metadata": {},
   "outputs": [],
   "source": [
    "killings.loc[killings[\"victims_race\"] == 'unknown race', \"victims_race\"] = 'unknown'"
   ]
  },
  {
   "cell_type": "code",
   "execution_count": 28,
   "metadata": {},
   "outputs": [],
   "source": [
    "killings.loc[killings[\"victims_race\"]=='asian', \"victims_race\"] = 'asian/pacific islander'\n",
    "killings.loc[killings[\"victims_race\"]=='pacific islander', \"victims_race\"] = 'asian/pacific islander'"
   ]
  },
  {
   "cell_type": "markdown",
   "metadata": {},
   "source": [
    "### Victim Image URL"
   ]
  },
  {
   "cell_type": "markdown",
   "metadata": {},
   "source": [
    "For rows that don't have a URL image of the victim, I'm going to impute \"None\""
   ]
  },
  {
   "cell_type": "code",
   "execution_count": 29,
   "metadata": {},
   "outputs": [],
   "source": [
    "killings['victim_img_url'].fillna('None', inplace=True)"
   ]
  },
  {
   "cell_type": "markdown",
   "metadata": {},
   "source": [
    "### Location Data"
   ]
  },
  {
   "cell_type": "markdown",
   "metadata": {},
   "source": [
    "#### City"
   ]
  },
  {
   "cell_type": "code",
   "execution_count": 30,
   "metadata": {},
   "outputs": [
    {
     "data": {
      "text/html": [
       "<div>\n",
       "<style scoped>\n",
       "    .dataframe tbody tr th:only-of-type {\n",
       "        vertical-align: middle;\n",
       "    }\n",
       "\n",
       "    .dataframe tbody tr th {\n",
       "        vertical-align: top;\n",
       "    }\n",
       "\n",
       "    .dataframe thead th {\n",
       "        text-align: right;\n",
       "    }\n",
       "</style>\n",
       "<table border=\"1\" class=\"dataframe\">\n",
       "  <thead>\n",
       "    <tr style=\"text-align: right;\">\n",
       "      <th></th>\n",
       "      <th>city</th>\n",
       "      <th>state</th>\n",
       "      <th>zipcode</th>\n",
       "    </tr>\n",
       "  </thead>\n",
       "  <tbody>\n",
       "    <tr>\n",
       "      <th>1755</th>\n",
       "      <td>NaN</td>\n",
       "      <td>ID</td>\n",
       "      <td>NaN</td>\n",
       "    </tr>\n",
       "    <tr>\n",
       "      <th>3339</th>\n",
       "      <td>NaN</td>\n",
       "      <td>FL</td>\n",
       "      <td>34639.0</td>\n",
       "    </tr>\n",
       "    <tr>\n",
       "      <th>3344</th>\n",
       "      <td>NaN</td>\n",
       "      <td>TX</td>\n",
       "      <td>NaN</td>\n",
       "    </tr>\n",
       "    <tr>\n",
       "      <th>3475</th>\n",
       "      <td>NaN</td>\n",
       "      <td>CO</td>\n",
       "      <td>NaN</td>\n",
       "    </tr>\n",
       "    <tr>\n",
       "      <th>5561</th>\n",
       "      <td>NaN</td>\n",
       "      <td>FL</td>\n",
       "      <td>32259.0</td>\n",
       "    </tr>\n",
       "    <tr>\n",
       "      <th>6511</th>\n",
       "      <td>NaN</td>\n",
       "      <td>AZ</td>\n",
       "      <td>85607.0</td>\n",
       "    </tr>\n",
       "  </tbody>\n",
       "</table>\n",
       "</div>"
      ],
      "text/plain": [
       "     city state  zipcode\n",
       "1755  NaN    ID      NaN\n",
       "3339  NaN    FL  34639.0\n",
       "3344  NaN    TX      NaN\n",
       "3475  NaN    CO      NaN\n",
       "5561  NaN    FL  32259.0\n",
       "6511  NaN    AZ  85607.0"
      ]
     },
     "execution_count": 30,
     "metadata": {},
     "output_type": "execute_result"
    }
   ],
   "source": [
    "killings.loc[killings['city'].isnull()==True,['city', 'state', 'zipcode']]"
   ]
  },
  {
   "cell_type": "markdown",
   "metadata": {},
   "source": [
    "Since we have a zipcode and state for several of these rows, we can look up the appropriate city"
   ]
  },
  {
   "cell_type": "code",
   "execution_count": 31,
   "metadata": {},
   "outputs": [],
   "source": [
    "killings.loc[3339, 'city'] = \"Land O' Lakes\"\n",
    "killings.loc[5561, 'city'] = \"Jacksonville\"\n",
    "killings.loc[6511, 'city'] = \"Douglas\""
   ]
  },
  {
   "cell_type": "markdown",
   "metadata": {},
   "source": [
    "#### County"
   ]
  },
  {
   "cell_type": "code",
   "execution_count": 32,
   "metadata": {},
   "outputs": [
    {
     "data": {
      "text/html": [
       "<div>\n",
       "<style scoped>\n",
       "    .dataframe tbody tr th:only-of-type {\n",
       "        vertical-align: middle;\n",
       "    }\n",
       "\n",
       "    .dataframe tbody tr th {\n",
       "        vertical-align: top;\n",
       "    }\n",
       "\n",
       "    .dataframe thead th {\n",
       "        text-align: right;\n",
       "    }\n",
       "</style>\n",
       "<table border=\"1\" class=\"dataframe\">\n",
       "  <thead>\n",
       "    <tr style=\"text-align: right;\">\n",
       "      <th></th>\n",
       "      <th>street_address</th>\n",
       "      <th>city</th>\n",
       "      <th>state</th>\n",
       "      <th>zipcode</th>\n",
       "      <th>county</th>\n",
       "    </tr>\n",
       "  </thead>\n",
       "  <tbody>\n",
       "    <tr>\n",
       "      <th>493</th>\n",
       "      <td>Bahalia Rd NE</td>\n",
       "      <td>Wesson</td>\n",
       "      <td>MS</td>\n",
       "      <td>39191.0</td>\n",
       "      <td>NaN</td>\n",
       "    </tr>\n",
       "    <tr>\n",
       "      <th>528</th>\n",
       "      <td>NaN</td>\n",
       "      <td>Kansas City</td>\n",
       "      <td>KS</td>\n",
       "      <td>NaN</td>\n",
       "      <td>NaN</td>\n",
       "    </tr>\n",
       "    <tr>\n",
       "      <th>774</th>\n",
       "      <td>NaN</td>\n",
       "      <td>Flint</td>\n",
       "      <td>MI</td>\n",
       "      <td>NaN</td>\n",
       "      <td>NaN</td>\n",
       "    </tr>\n",
       "    <tr>\n",
       "      <th>1250</th>\n",
       "      <td>NaN</td>\n",
       "      <td>Pratt</td>\n",
       "      <td>KS</td>\n",
       "      <td>NaN</td>\n",
       "      <td>NaN</td>\n",
       "    </tr>\n",
       "    <tr>\n",
       "      <th>1305</th>\n",
       "      <td>NaN</td>\n",
       "      <td>Quincy</td>\n",
       "      <td>FL</td>\n",
       "      <td>NaN</td>\n",
       "      <td>NaN</td>\n",
       "    </tr>\n",
       "    <tr>\n",
       "      <th>1322</th>\n",
       "      <td>NaN</td>\n",
       "      <td>Quinlan</td>\n",
       "      <td>TX</td>\n",
       "      <td>NaN</td>\n",
       "      <td>NaN</td>\n",
       "    </tr>\n",
       "    <tr>\n",
       "      <th>1336</th>\n",
       "      <td>NaN</td>\n",
       "      <td>Orem</td>\n",
       "      <td>OR</td>\n",
       "      <td>NaN</td>\n",
       "      <td>NaN</td>\n",
       "    </tr>\n",
       "    <tr>\n",
       "      <th>1346</th>\n",
       "      <td>NaN</td>\n",
       "      <td>Milwaukee</td>\n",
       "      <td>WI</td>\n",
       "      <td>NaN</td>\n",
       "      <td>NaN</td>\n",
       "    </tr>\n",
       "    <tr>\n",
       "      <th>1356</th>\n",
       "      <td>NaN</td>\n",
       "      <td>Hayti</td>\n",
       "      <td>MO</td>\n",
       "      <td>NaN</td>\n",
       "      <td>NaN</td>\n",
       "    </tr>\n",
       "    <tr>\n",
       "      <th>1367</th>\n",
       "      <td>NaN</td>\n",
       "      <td>Greenback</td>\n",
       "      <td>TN</td>\n",
       "      <td>NaN</td>\n",
       "      <td>NaN</td>\n",
       "    </tr>\n",
       "    <tr>\n",
       "      <th>1430</th>\n",
       "      <td>NaN</td>\n",
       "      <td>Spanaway</td>\n",
       "      <td>WA</td>\n",
       "      <td>NaN</td>\n",
       "      <td>NaN</td>\n",
       "    </tr>\n",
       "    <tr>\n",
       "      <th>1607</th>\n",
       "      <td>NaN</td>\n",
       "      <td>Lenoir</td>\n",
       "      <td>NC</td>\n",
       "      <td>NaN</td>\n",
       "      <td>NaN</td>\n",
       "    </tr>\n",
       "    <tr>\n",
       "      <th>1965</th>\n",
       "      <td>NaN</td>\n",
       "      <td>Scottsdale</td>\n",
       "      <td>AZ</td>\n",
       "      <td>NaN</td>\n",
       "      <td>NaN</td>\n",
       "    </tr>\n",
       "    <tr>\n",
       "      <th>1981</th>\n",
       "      <td>NaN</td>\n",
       "      <td>Utica</td>\n",
       "      <td>KY</td>\n",
       "      <td>NaN</td>\n",
       "      <td>NaN</td>\n",
       "    </tr>\n",
       "    <tr>\n",
       "      <th>3315</th>\n",
       "      <td>Lake Cook station</td>\n",
       "      <td>Deerfield</td>\n",
       "      <td>IL</td>\n",
       "      <td>NaN</td>\n",
       "      <td>NaN</td>\n",
       "    </tr>\n",
       "  </tbody>\n",
       "</table>\n",
       "</div>"
      ],
      "text/plain": [
       "         street_address         city state  zipcode county\n",
       "493       Bahalia Rd NE       Wesson    MS  39191.0    NaN\n",
       "528                 NaN  Kansas City    KS      NaN    NaN\n",
       "774                 NaN        Flint    MI      NaN    NaN\n",
       "1250                NaN        Pratt    KS      NaN    NaN\n",
       "1305                NaN       Quincy    FL      NaN    NaN\n",
       "1322                NaN      Quinlan    TX      NaN    NaN\n",
       "1336                NaN         Orem    OR      NaN    NaN\n",
       "1346                NaN    Milwaukee    WI      NaN    NaN\n",
       "1356                NaN        Hayti    MO      NaN    NaN\n",
       "1367                NaN    Greenback    TN      NaN    NaN\n",
       "1430                NaN     Spanaway    WA      NaN    NaN\n",
       "1607                NaN       Lenoir    NC      NaN    NaN\n",
       "1965                NaN   Scottsdale    AZ      NaN    NaN\n",
       "1981                NaN        Utica    KY      NaN    NaN\n",
       "3315  Lake Cook station    Deerfield    IL      NaN    NaN"
      ]
     },
     "execution_count": 32,
     "metadata": {},
     "output_type": "execute_result"
    }
   ],
   "source": [
    "killings.loc[killings['county'].isnull()==True,['street_address', 'city', 'state', 'zipcode', 'county']]"
   ]
  },
  {
   "cell_type": "markdown",
   "metadata": {},
   "source": [
    "Since we have city and state information for these rows, we can look up the appropriate county"
   ]
  },
  {
   "cell_type": "code",
   "execution_count": 33,
   "metadata": {},
   "outputs": [],
   "source": [
    "killings.loc[493,'county'] = 'Copiah'\n",
    "killings.loc[528,'county'] = 'Wyandotte'\n",
    "killings.loc[774,'county'] = 'Genesee'\n",
    "killings.loc[1250,'county'] = 'Pratt'\n",
    "killings.loc[1305,'county'] = 'Gadsden'\n",
    "killings.loc[1322,'county'] = 'Hunt'\n",
    "killings.loc[1336,'county'] = 'Utah'\n",
    "killings.loc[1346,'county'] = 'Milwaukee'\n",
    "killings.loc[1356,'county'] = 'Pemiscot'\n",
    "killings.loc[1367,'county'] = 'Loudon'\n",
    "killings.loc[1430,'county'] = 'Pierce'\n",
    "killings.loc[1607,'county'] = 'Caldwell'\n",
    "killings.loc[1965,'county'] = 'Maricopa'\n",
    "killings.loc[1981,'county'] = 'Daviess'\n",
    "killings.loc[3315,'county'] = 'Lake'"
   ]
  },
  {
   "cell_type": "markdown",
   "metadata": {},
   "source": [
    "#### Geography Type/Zipcode/Street Address"
   ]
  },
  {
   "cell_type": "code",
   "execution_count": 34,
   "metadata": {},
   "outputs": [
    {
     "data": {
      "text/plain": [
       "array(['Rural', 'Urban', 'Suburban', nan], dtype=object)"
      ]
     },
     "execution_count": 34,
     "metadata": {},
     "output_type": "execute_result"
    }
   ],
   "source": [
    "killings['geo_type'].unique()"
   ]
  },
  {
   "cell_type": "markdown",
   "metadata": {},
   "source": [
    "We'll start by looking at placed that have a street address listed so we can use Google maps and try to fill in missing data in these columns"
   ]
  },
  {
   "cell_type": "code",
   "execution_count": 35,
   "metadata": {},
   "outputs": [
    {
     "data": {
      "text/html": [
       "<div>\n",
       "<style scoped>\n",
       "    .dataframe tbody tr th:only-of-type {\n",
       "        vertical-align: middle;\n",
       "    }\n",
       "\n",
       "    .dataframe tbody tr th {\n",
       "        vertical-align: top;\n",
       "    }\n",
       "\n",
       "    .dataframe thead th {\n",
       "        text-align: right;\n",
       "    }\n",
       "</style>\n",
       "<table border=\"1\" class=\"dataframe\">\n",
       "  <thead>\n",
       "    <tr style=\"text-align: right;\">\n",
       "      <th></th>\n",
       "      <th>street_address</th>\n",
       "      <th>city</th>\n",
       "      <th>state</th>\n",
       "      <th>zipcode</th>\n",
       "      <th>geo_type</th>\n",
       "    </tr>\n",
       "  </thead>\n",
       "  <tbody>\n",
       "    <tr>\n",
       "      <th>522</th>\n",
       "      <td>1600 East J St</td>\n",
       "      <td>Tacoma</td>\n",
       "      <td>WA</td>\n",
       "      <td>98421.0</td>\n",
       "      <td>NaN</td>\n",
       "    </tr>\n",
       "    <tr>\n",
       "      <th>528</th>\n",
       "      <td>NaN</td>\n",
       "      <td>Kansas City</td>\n",
       "      <td>KS</td>\n",
       "      <td>NaN</td>\n",
       "      <td>NaN</td>\n",
       "    </tr>\n",
       "    <tr>\n",
       "      <th>595</th>\n",
       "      <td>1100 Commerce St</td>\n",
       "      <td>Dallas</td>\n",
       "      <td>TX</td>\n",
       "      <td>75242.0</td>\n",
       "      <td>NaN</td>\n",
       "    </tr>\n",
       "    <tr>\n",
       "      <th>774</th>\n",
       "      <td>NaN</td>\n",
       "      <td>Flint</td>\n",
       "      <td>MI</td>\n",
       "      <td>NaN</td>\n",
       "      <td>NaN</td>\n",
       "    </tr>\n",
       "    <tr>\n",
       "      <th>1000</th>\n",
       "      <td>CA-162 &amp; Aguas Frias Rd</td>\n",
       "      <td>Richvale</td>\n",
       "      <td>CA</td>\n",
       "      <td>95974.0</td>\n",
       "      <td>NaN</td>\n",
       "    </tr>\n",
       "    <tr>\n",
       "      <th>...</th>\n",
       "      <td>...</td>\n",
       "      <td>...</td>\n",
       "      <td>...</td>\n",
       "      <td>...</td>\n",
       "      <td>...</td>\n",
       "    </tr>\n",
       "    <tr>\n",
       "      <th>6848</th>\n",
       "      <td>1014 N St. SE</td>\n",
       "      <td>Washington</td>\n",
       "      <td>DC</td>\n",
       "      <td>20374.0</td>\n",
       "      <td>NaN</td>\n",
       "    </tr>\n",
       "    <tr>\n",
       "      <th>6862</th>\n",
       "      <td>4501 Torley St</td>\n",
       "      <td>Pittsburg</td>\n",
       "      <td>PA</td>\n",
       "      <td>NaN</td>\n",
       "      <td>NaN</td>\n",
       "    </tr>\n",
       "    <tr>\n",
       "      <th>6933</th>\n",
       "      <td>Boulder Highway and College Drive</td>\n",
       "      <td>Henderson</td>\n",
       "      <td>NV</td>\n",
       "      <td>89105.0</td>\n",
       "      <td>NaN</td>\n",
       "    </tr>\n",
       "    <tr>\n",
       "      <th>7099</th>\n",
       "      <td>NaN</td>\n",
       "      <td>Miami</td>\n",
       "      <td>FL</td>\n",
       "      <td>NaN</td>\n",
       "      <td>NaN</td>\n",
       "    </tr>\n",
       "    <tr>\n",
       "      <th>7461</th>\n",
       "      <td>NaN</td>\n",
       "      <td>Addison</td>\n",
       "      <td>TX</td>\n",
       "      <td>NaN</td>\n",
       "      <td>NaN</td>\n",
       "    </tr>\n",
       "  </tbody>\n",
       "</table>\n",
       "<p>67 rows × 5 columns</p>\n",
       "</div>"
      ],
      "text/plain": [
       "                         street_address         city state  zipcode geo_type\n",
       "522                      1600 East J St       Tacoma    WA  98421.0      NaN\n",
       "528                                 NaN  Kansas City    KS      NaN      NaN\n",
       "595                    1100 Commerce St       Dallas    TX  75242.0      NaN\n",
       "774                                 NaN        Flint    MI      NaN      NaN\n",
       "1000            CA-162 & Aguas Frias Rd     Richvale    CA  95974.0      NaN\n",
       "...                                 ...          ...   ...      ...      ...\n",
       "6848                      1014 N St. SE   Washington    DC  20374.0      NaN\n",
       "6862                     4501 Torley St    Pittsburg    PA      NaN      NaN\n",
       "6933  Boulder Highway and College Drive    Henderson    NV  89105.0      NaN\n",
       "7099                                NaN        Miami    FL      NaN      NaN\n",
       "7461                                NaN      Addison    TX      NaN      NaN\n",
       "\n",
       "[67 rows x 5 columns]"
      ]
     },
     "execution_count": 35,
     "metadata": {},
     "output_type": "execute_result"
    }
   ],
   "source": [
    "killings.loc[(killings['geo_type'].isnull()==True) & (killings['street_address'] != 'None'), ['street_address', 'city', 'state', 'zipcode', 'geo_type']]"
   ]
  },
  {
   "cell_type": "markdown",
   "metadata": {},
   "source": [
    "Time to update the null values in the geo_type column.  Note: The data in the data set uses households/sq mi based on zip codes to establish urban, suburban, or rural classification, but for the null values I used households/sq mi based on city instead as the information was more readily available.\n",
    "\n",
    "- urban: households per square mile >=2213.2 \n",
    "- suburban: households per square mile >=101.6 and < 2213.2\n",
    "- rural: households per square mile <101.6\n",
    "\n",
    "[Source for geo_type classifications](http://jedkolko.com/wp-content/uploads/2015/05/Data-and-methodological-details-052715.pdf)"
   ]
  },
  {
   "cell_type": "code",
   "execution_count": 36,
   "metadata": {},
   "outputs": [],
   "source": [
    "killings.loc[522, 'geo_type'] = 'Suburban' #82540 households / 62.42 sq mi = 1322 households / sq mi (suburban)"
   ]
  },
  {
   "cell_type": "code",
   "execution_count": 37,
   "metadata": {},
   "outputs": [],
   "source": [
    "killings.loc[595, 'geo_type'] = 'Suburban' #521198 households / 385.8 sq mi = 1351 households / sq mi (suburban)"
   ]
  },
  {
   "cell_type": "code",
   "execution_count": 38,
   "metadata": {},
   "outputs": [],
   "source": [
    "killings.loc[1000, 'geo_type'] = 'Rural'"
   ]
  },
  {
   "cell_type": "code",
   "execution_count": 39,
   "metadata": {},
   "outputs": [],
   "source": [
    "killings.loc[1004, 'geo_type'] = 'Rural'"
   ]
  },
  {
   "cell_type": "code",
   "execution_count": 40,
   "metadata": {},
   "outputs": [],
   "source": [
    "killings.loc[1281, 'geo_type'] = 'Suburban' # 156,482 households / 156.6 sq. mi = 999 households / sq mi (suburban)"
   ]
  },
  {
   "cell_type": "code",
   "execution_count": 41,
   "metadata": {},
   "outputs": [],
   "source": [
    "killings.loc[1947, 'geo_type'] = 'Suburban' # 48095 households / 108.3 sq. mi = 444 households / sq mi (suburban)"
   ]
  },
  {
   "cell_type": "code",
   "execution_count": 42,
   "metadata": {},
   "outputs": [],
   "source": [
    "killings.loc[2072, 'geo_type'] = 'Suburban' # 33 households / .22 sq. mi = 150 households / sq mi (suburban, but just barely)"
   ]
  },
  {
   "cell_type": "code",
   "execution_count": 43,
   "metadata": {},
   "outputs": [],
   "source": [
    "killings.loc[2207, 'geo_type'] = 'Suburban' # 321835 households / 181.4 sq. mi = 1774 households / sq mi (suburban, almost urban)"
   ]
  },
  {
   "cell_type": "code",
   "execution_count": 44,
   "metadata": {},
   "outputs": [],
   "source": [
    "killings.loc[2419, 'geo_type'] = 'Urban' # 130885 households / 22.78 sq. mi = 5745 households / sq mi (urban)"
   ]
  },
  {
   "cell_type": "code",
   "execution_count": 45,
   "metadata": {},
   "outputs": [],
   "source": [
    "killings.loc[2488, 'geo_type'] = 'Suburban' # 23 households / .14 sq. mi = 164 households / sq mi (Suburban, just barely)"
   ]
  },
  {
   "cell_type": "code",
   "execution_count": 46,
   "metadata": {},
   "outputs": [],
   "source": [
    "killings.loc[3315, 'geo_type'] = 'Suburban' # 7013 households / 5.598 sq. mi = 1263 households / sq mi (suburban)"
   ]
  },
  {
   "cell_type": "code",
   "execution_count": 47,
   "metadata": {},
   "outputs": [],
   "source": [
    "killings.loc[3347, 'geo_type'] = 'Suburban' # 3203 households / 7.14 sq. mi = 449 households / sq mi (Suburban)"
   ]
  },
  {
   "cell_type": "code",
   "execution_count": 48,
   "metadata": {},
   "outputs": [],
   "source": [
    "killings.loc[3581, 'geo_type'] = 'Suburban' # 125894 households / 740 sq. mi = 170 households / sq mi (Suburban)"
   ]
  },
  {
   "cell_type": "markdown",
   "metadata": {},
   "source": [
    "The next location is at Foxwoods Casino in CT, which is technically part of Mashantucket CT., I think because it's considered an indian reservation.  The casino is surrounded by Ledyard CT. and it might be a better idea to use that city as it may be more representative of the household popluation size and square mileage need to classify the geo_type."
   ]
  },
  {
   "cell_type": "code",
   "execution_count": 49,
   "metadata": {},
   "outputs": [],
   "source": [
    "killings.loc[3621, 'geo_type'] = 'Rural' # 62 households / 2.6 sq. mi = 24 households / sq mi (Rural)"
   ]
  },
  {
   "cell_type": "code",
   "execution_count": 50,
   "metadata": {},
   "outputs": [],
   "source": [
    "killings.loc[3699, 'geo_type'] = 'Rural' # 115 households / 1.5 sq. mi = 77 households / sq mi (Rural)"
   ]
  },
  {
   "cell_type": "code",
   "execution_count": 51,
   "metadata": {},
   "outputs": [],
   "source": [
    "killings.loc[3740, 'geo_type'] = 'Suburban' # 521198 households / 385.8 sq. mi = 1351 households / sq mi (Suburban)"
   ]
  },
  {
   "cell_type": "code",
   "execution_count": 52,
   "metadata": {},
   "outputs": [],
   "source": [
    "killings.loc[4409, ['geo_type', 'zipcode']] = 'Suburban', 32218.0 #359607 households / 875 sq mi = 411 (Suburban)"
   ]
  },
  {
   "cell_type": "code",
   "execution_count": 53,
   "metadata": {},
   "outputs": [],
   "source": [
    "killings.loc[4535, ['geo_type', 'zipcode']] = 'Suburban', 46368.0 #13992 households / 27.61 sq mi = 507 (Suburban)"
   ]
  },
  {
   "cell_type": "code",
   "execution_count": 54,
   "metadata": {},
   "outputs": [],
   "source": [
    "killings.loc[4571, ['geo_type', 'zipcode']] = 'Suburban', 97210.0 #264428 households / 145 sq mi = 1824 (Suburban)"
   ]
  },
  {
   "cell_type": "code",
   "execution_count": 55,
   "metadata": {},
   "outputs": [],
   "source": [
    "killings.loc[[4592, 4593], ['geo_type', 'zipcode']] = 'Suburban', 77014.0 #848340 households / 669 sq mi = 1268 (Suburban)"
   ]
  },
  {
   "cell_type": "code",
   "execution_count": 56,
   "metadata": {},
   "outputs": [],
   "source": [
    "killings.loc[4594, ['geo_type', 'zipcode']] = 'Suburban', 74434.0 #1639 households / 14.13 sq mi = 116 (Suburban)"
   ]
  },
  {
   "cell_type": "code",
   "execution_count": 57,
   "metadata": {},
   "outputs": [],
   "source": [
    "killings.loc[4640, ['geo_type', 'zipcode']] = 'Suburban', 30680.0 #5337 households / 14.15 sq mi = 377 (Suburban)"
   ]
  },
  {
   "cell_type": "code",
   "execution_count": 58,
   "metadata": {},
   "outputs": [],
   "source": [
    "killings.loc[5021, 'geo_type'] = 'Rural' # 268 households / 8.842 sq. mi = 30 households / sq mi (Rural)"
   ]
  },
  {
   "cell_type": "code",
   "execution_count": 59,
   "metadata": {},
   "outputs": [],
   "source": [
    "killings.loc[5164, ['geo_type', 'street_address']] = 'Rural', '182 N 4430 Rd' # No census data on household population, but on Google maps it looks very rural"
   ]
  },
  {
   "cell_type": "code",
   "execution_count": 60,
   "metadata": {},
   "outputs": [],
   "source": [
    "killings.loc[5192, 'geo_type'] = 'Suburban' # 39122 households / 22.99 sq. mi = 1702 households / sq mi (Suburban)"
   ]
  },
  {
   "cell_type": "code",
   "execution_count": 61,
   "metadata": {},
   "outputs": [],
   "source": [
    "killings.loc[5268, 'geo_type'] = 'Suburban' # 355 households / 0.74 sq. mi = 480 households / sq mi (Suburban)"
   ]
  },
  {
   "cell_type": "code",
   "execution_count": 62,
   "metadata": {},
   "outputs": [],
   "source": [
    "killings.loc[5371, ['geo_type', 'zipcode']] = 'Suburban', 77073.0 #848340 households / 669 sq mi = 1268 (Suburban)"
   ]
  },
  {
   "cell_type": "code",
   "execution_count": 63,
   "metadata": {},
   "outputs": [],
   "source": [
    "killings.loc[5623, 'geo_type'] = 'Suburban' # 63217 households / 103.1 sq. mi = 613 households / sq mi (Suburban)"
   ]
  },
  {
   "cell_type": "code",
   "execution_count": 64,
   "metadata": {},
   "outputs": [],
   "source": [
    "killings.loc[5709, 'geo_type'] = 'Rural' # Jean is just outside of Las Vegas.  Has no residents but is considered a commercial town.  Seems rural enough."
   ]
  },
  {
   "cell_type": "code",
   "execution_count": 65,
   "metadata": {},
   "outputs": [],
   "source": [
    "killings.loc[5805, 'geo_type'] = 'Suburban' # 3061 households / 13.13 sq. mi = 233 households / sq mi (Suburban)"
   ]
  },
  {
   "cell_type": "code",
   "execution_count": 66,
   "metadata": {},
   "outputs": [],
   "source": [
    "killings.loc[[4451, 6080], 'geo_type'] = 'Urban' # 323446 households / 142.5 sq. mi = 2270 households / sq mi (Urban)"
   ]
  },
  {
   "cell_type": "code",
   "execution_count": 67,
   "metadata": {},
   "outputs": [],
   "source": [
    "killings.loc[6188, 'geo_type'] = 'Urban' # 7229 households / 0.648 sq. mi = 11156 households / sq mi (Urban)\\"
   ]
  },
  {
   "cell_type": "code",
   "execution_count": 68,
   "metadata": {},
   "outputs": [],
   "source": [
    "killings.loc[6570, ['street_address', 'zipcode', 'geo_type']] = '12097 Veterans Memorial Dr', 77067.0, 'Suburban' #848340 households / 669 sq mi = 1268 (Suburban)"
   ]
  },
  {
   "cell_type": "code",
   "execution_count": 69,
   "metadata": {},
   "outputs": [],
   "source": [
    "killings.loc[6442, 'geo_type'] = 'Rural' # Outskirts of Las Vegas, seems very Rural"
   ]
  },
  {
   "cell_type": "code",
   "execution_count": 70,
   "metadata": {},
   "outputs": [],
   "source": [
    "killings.loc[6573, ['geo_type', 'zipcode', 'city']] = 'Suburban', 73104.0, 'Oklahoma City' # 240471 / 621 = 387 (Suburban)"
   ]
  },
  {
   "cell_type": "code",
   "execution_count": 71,
   "metadata": {},
   "outputs": [],
   "source": [
    "killings.loc[6637, ['geo_type', 'zipcode']] = 'Suburban', 70767.0 # 2162 / 3.328 = 650 (Suburban)"
   ]
  },
  {
   "cell_type": "code",
   "execution_count": 72,
   "metadata": {},
   "outputs": [],
   "source": [
    "killings.loc[6643, ['street_address', 'zipcode', 'geo_type']] = '32000 Westport Way', 92596.0, 'Suburban' # 8539 / 10.9 = 783 (Suburban)"
   ]
  },
  {
   "cell_type": "code",
   "execution_count": 73,
   "metadata": {},
   "outputs": [],
   "source": [
    "killings.loc[6697, ['street_address', 'geo_type']] = '2335 Union Dr', 'Suburban' # 25243 / 224.27 = 113 (Suburban)"
   ]
  },
  {
   "cell_type": "code",
   "execution_count": 74,
   "metadata": {},
   "outputs": [],
   "source": [
    "killings.loc[6746, 'geo_type'] = 'Suburban' # 199478 / 136.8 = 1458 (Suburban)"
   ]
  },
  {
   "cell_type": "code",
   "execution_count": 75,
   "metadata": {},
   "outputs": [],
   "source": [
    "killings.loc[6848, 'geo_type'] = 'Urban' # 281322 / 68.34 = 4117 (Urban)"
   ]
  },
  {
   "cell_type": "code",
   "execution_count": 76,
   "metadata": {},
   "outputs": [],
   "source": [
    "killings.loc[6862, ['zipcode', 'geo_type']] = 15224.0, 'Urban' # 136275 / 58.34 = 2336"
   ]
  },
  {
   "cell_type": "code",
   "execution_count": 77,
   "metadata": {},
   "outputs": [],
   "source": [
    "killings.loc[6933, 'geo_type'] = 'Suburban' # 113901 / 108 = 1055 (Suburban)"
   ]
  },
  {
   "cell_type": "code",
   "execution_count": 78,
   "metadata": {},
   "outputs": [
    {
     "data": {
      "text/html": [
       "<div>\n",
       "<style scoped>\n",
       "    .dataframe tbody tr th:only-of-type {\n",
       "        vertical-align: middle;\n",
       "    }\n",
       "\n",
       "    .dataframe tbody tr th {\n",
       "        vertical-align: top;\n",
       "    }\n",
       "\n",
       "    .dataframe thead th {\n",
       "        text-align: right;\n",
       "    }\n",
       "</style>\n",
       "<table border=\"1\" class=\"dataframe\">\n",
       "  <thead>\n",
       "    <tr style=\"text-align: right;\">\n",
       "      <th></th>\n",
       "      <th>street_address</th>\n",
       "      <th>city</th>\n",
       "      <th>state</th>\n",
       "      <th>zipcode</th>\n",
       "      <th>geo_type</th>\n",
       "      <th>news_article_link</th>\n",
       "    </tr>\n",
       "  </thead>\n",
       "  <tbody>\n",
       "    <tr>\n",
       "      <th>528</th>\n",
       "      <td>NaN</td>\n",
       "      <td>Kansas City</td>\n",
       "      <td>KS</td>\n",
       "      <td>NaN</td>\n",
       "      <td>NaN</td>\n",
       "      <td>NaN</td>\n",
       "    </tr>\n",
       "    <tr>\n",
       "      <th>774</th>\n",
       "      <td>NaN</td>\n",
       "      <td>Flint</td>\n",
       "      <td>MI</td>\n",
       "      <td>NaN</td>\n",
       "      <td>NaN</td>\n",
       "      <td>NaN</td>\n",
       "    </tr>\n",
       "    <tr>\n",
       "      <th>1029</th>\n",
       "      <td>NaN</td>\n",
       "      <td>Nashua</td>\n",
       "      <td>IA</td>\n",
       "      <td>NaN</td>\n",
       "      <td>NaN</td>\n",
       "      <td>https://wcfcourier.com/news/local/crime-and-co...</td>\n",
       "    </tr>\n",
       "    <tr>\n",
       "      <th>1250</th>\n",
       "      <td>NaN</td>\n",
       "      <td>Pratt</td>\n",
       "      <td>KS</td>\n",
       "      <td>NaN</td>\n",
       "      <td>NaN</td>\n",
       "      <td>https://www.kansas.com/news/local/crime/articl...</td>\n",
       "    </tr>\n",
       "    <tr>\n",
       "      <th>1305</th>\n",
       "      <td>NaN</td>\n",
       "      <td>Quincy</td>\n",
       "      <td>FL</td>\n",
       "      <td>NaN</td>\n",
       "      <td>NaN</td>\n",
       "      <td>NaN</td>\n",
       "    </tr>\n",
       "    <tr>\n",
       "      <th>1322</th>\n",
       "      <td>NaN</td>\n",
       "      <td>Quinlan</td>\n",
       "      <td>TX</td>\n",
       "      <td>NaN</td>\n",
       "      <td>NaN</td>\n",
       "      <td>NaN</td>\n",
       "    </tr>\n",
       "    <tr>\n",
       "      <th>1336</th>\n",
       "      <td>NaN</td>\n",
       "      <td>Orem</td>\n",
       "      <td>OR</td>\n",
       "      <td>NaN</td>\n",
       "      <td>NaN</td>\n",
       "      <td>NaN</td>\n",
       "    </tr>\n",
       "    <tr>\n",
       "      <th>1346</th>\n",
       "      <td>NaN</td>\n",
       "      <td>Milwaukee</td>\n",
       "      <td>WI</td>\n",
       "      <td>NaN</td>\n",
       "      <td>NaN</td>\n",
       "      <td>NaN</td>\n",
       "    </tr>\n",
       "    <tr>\n",
       "      <th>1356</th>\n",
       "      <td>NaN</td>\n",
       "      <td>Hayti</td>\n",
       "      <td>MO</td>\n",
       "      <td>NaN</td>\n",
       "      <td>NaN</td>\n",
       "      <td>NaN</td>\n",
       "    </tr>\n",
       "    <tr>\n",
       "      <th>1367</th>\n",
       "      <td>NaN</td>\n",
       "      <td>Greenback</td>\n",
       "      <td>TN</td>\n",
       "      <td>NaN</td>\n",
       "      <td>NaN</td>\n",
       "      <td>NaN</td>\n",
       "    </tr>\n",
       "    <tr>\n",
       "      <th>1430</th>\n",
       "      <td>NaN</td>\n",
       "      <td>Spanaway</td>\n",
       "      <td>WA</td>\n",
       "      <td>NaN</td>\n",
       "      <td>NaN</td>\n",
       "      <td>NaN</td>\n",
       "    </tr>\n",
       "    <tr>\n",
       "      <th>1607</th>\n",
       "      <td>NaN</td>\n",
       "      <td>Lenoir</td>\n",
       "      <td>NC</td>\n",
       "      <td>NaN</td>\n",
       "      <td>NaN</td>\n",
       "      <td>NaN</td>\n",
       "    </tr>\n",
       "    <tr>\n",
       "      <th>1755</th>\n",
       "      <td>NaN</td>\n",
       "      <td>NaN</td>\n",
       "      <td>ID</td>\n",
       "      <td>NaN</td>\n",
       "      <td>NaN</td>\n",
       "      <td>https://www.kivitv.com/news/1-man-killed-in-of...</td>\n",
       "    </tr>\n",
       "    <tr>\n",
       "      <th>1812</th>\n",
       "      <td>NaN</td>\n",
       "      <td>Fairview</td>\n",
       "      <td>OH</td>\n",
       "      <td>43736.0</td>\n",
       "      <td>NaN</td>\n",
       "      <td>http://www.the-review.com/news/20180507/fairvi...</td>\n",
       "    </tr>\n",
       "    <tr>\n",
       "      <th>1965</th>\n",
       "      <td>NaN</td>\n",
       "      <td>Scottsdale</td>\n",
       "      <td>AZ</td>\n",
       "      <td>NaN</td>\n",
       "      <td>NaN</td>\n",
       "      <td>NaN</td>\n",
       "    </tr>\n",
       "    <tr>\n",
       "      <th>1981</th>\n",
       "      <td>NaN</td>\n",
       "      <td>Utica</td>\n",
       "      <td>KY</td>\n",
       "      <td>NaN</td>\n",
       "      <td>NaN</td>\n",
       "      <td>NaN</td>\n",
       "    </tr>\n",
       "    <tr>\n",
       "      <th>2813</th>\n",
       "      <td>NaN</td>\n",
       "      <td>Seattle</td>\n",
       "      <td>WA</td>\n",
       "      <td>NaN</td>\n",
       "      <td>NaN</td>\n",
       "      <td>http://komonews.com/news/local/detectives-inve...</td>\n",
       "    </tr>\n",
       "    <tr>\n",
       "      <th>3344</th>\n",
       "      <td>NaN</td>\n",
       "      <td>NaN</td>\n",
       "      <td>TX</td>\n",
       "      <td>NaN</td>\n",
       "      <td>NaN</td>\n",
       "      <td>http://www.caller.com/story/news/crime/2016/12...</td>\n",
       "    </tr>\n",
       "    <tr>\n",
       "      <th>3346</th>\n",
       "      <td>NaN</td>\n",
       "      <td>Kyle</td>\n",
       "      <td>SD</td>\n",
       "      <td>NaN</td>\n",
       "      <td>NaN</td>\n",
       "      <td>http://www.newscenter1.tv/story/34149961/triba...</td>\n",
       "    </tr>\n",
       "    <tr>\n",
       "      <th>3475</th>\n",
       "      <td>NaN</td>\n",
       "      <td>NaN</td>\n",
       "      <td>CO</td>\n",
       "      <td>NaN</td>\n",
       "      <td>NaN</td>\n",
       "      <td>http://www.denverpost.com/2016/11/15/loveland-...</td>\n",
       "    </tr>\n",
       "    <tr>\n",
       "      <th>6812</th>\n",
       "      <td>NaN</td>\n",
       "      <td>Freeport</td>\n",
       "      <td>TX</td>\n",
       "      <td>NaN</td>\n",
       "      <td>NaN</td>\n",
       "      <td>http://abclocal.go.com/ktrk/story?section=news...</td>\n",
       "    </tr>\n",
       "    <tr>\n",
       "      <th>7099</th>\n",
       "      <td>NaN</td>\n",
       "      <td>Miami</td>\n",
       "      <td>FL</td>\n",
       "      <td>NaN</td>\n",
       "      <td>NaN</td>\n",
       "      <td>http://www.tampabay.com/projects/2017/investig...</td>\n",
       "    </tr>\n",
       "    <tr>\n",
       "      <th>7461</th>\n",
       "      <td>NaN</td>\n",
       "      <td>Addison</td>\n",
       "      <td>TX</td>\n",
       "      <td>NaN</td>\n",
       "      <td>NaN</td>\n",
       "      <td>https://www.dallasnews.com/news/crime/2016/09/...</td>\n",
       "    </tr>\n",
       "  </tbody>\n",
       "</table>\n",
       "</div>"
      ],
      "text/plain": [
       "     street_address         city state  zipcode geo_type  \\\n",
       "528             NaN  Kansas City    KS      NaN      NaN   \n",
       "774             NaN        Flint    MI      NaN      NaN   \n",
       "1029            NaN       Nashua    IA      NaN      NaN   \n",
       "1250            NaN        Pratt    KS      NaN      NaN   \n",
       "1305            NaN       Quincy    FL      NaN      NaN   \n",
       "1322            NaN      Quinlan    TX      NaN      NaN   \n",
       "1336            NaN         Orem    OR      NaN      NaN   \n",
       "1346            NaN    Milwaukee    WI      NaN      NaN   \n",
       "1356            NaN        Hayti    MO      NaN      NaN   \n",
       "1367            NaN    Greenback    TN      NaN      NaN   \n",
       "1430            NaN     Spanaway    WA      NaN      NaN   \n",
       "1607            NaN       Lenoir    NC      NaN      NaN   \n",
       "1755            NaN          NaN    ID      NaN      NaN   \n",
       "1812            NaN     Fairview    OH  43736.0      NaN   \n",
       "1965            NaN   Scottsdale    AZ      NaN      NaN   \n",
       "1981            NaN        Utica    KY      NaN      NaN   \n",
       "2813            NaN      Seattle    WA      NaN      NaN   \n",
       "3344            NaN          NaN    TX      NaN      NaN   \n",
       "3346            NaN         Kyle    SD      NaN      NaN   \n",
       "3475            NaN          NaN    CO      NaN      NaN   \n",
       "6812            NaN     Freeport    TX      NaN      NaN   \n",
       "7099            NaN        Miami    FL      NaN      NaN   \n",
       "7461            NaN      Addison    TX      NaN      NaN   \n",
       "\n",
       "                                      news_article_link  \n",
       "528                                                 NaN  \n",
       "774                                                 NaN  \n",
       "1029  https://wcfcourier.com/news/local/crime-and-co...  \n",
       "1250  https://www.kansas.com/news/local/crime/articl...  \n",
       "1305                                                NaN  \n",
       "1322                                                NaN  \n",
       "1336                                                NaN  \n",
       "1346                                                NaN  \n",
       "1356                                                NaN  \n",
       "1367                                                NaN  \n",
       "1430                                                NaN  \n",
       "1607                                                NaN  \n",
       "1755  https://www.kivitv.com/news/1-man-killed-in-of...  \n",
       "1812  http://www.the-review.com/news/20180507/fairvi...  \n",
       "1965                                                NaN  \n",
       "1981                                                NaN  \n",
       "2813  http://komonews.com/news/local/detectives-inve...  \n",
       "3344  http://www.caller.com/story/news/crime/2016/12...  \n",
       "3346  http://www.newscenter1.tv/story/34149961/triba...  \n",
       "3475  http://www.denverpost.com/2016/11/15/loveland-...  \n",
       "6812  http://abclocal.go.com/ktrk/story?section=news...  \n",
       "7099  http://www.tampabay.com/projects/2017/investig...  \n",
       "7461  https://www.dallasnews.com/news/crime/2016/09/...  "
      ]
     },
     "execution_count": 78,
     "metadata": {},
     "output_type": "execute_result"
    }
   ],
   "source": [
    "killings.loc[killings['geo_type'].isnull()==True, ['street_address', 'city', 'state', 'zipcode', 'geo_type', 'news_article_link']]"
   ]
  },
  {
   "cell_type": "code",
   "execution_count": 79,
   "metadata": {},
   "outputs": [],
   "source": [
    "killings.loc[528, 'geo_type'] = 'Suburban' # 53925 / 128.4 = 420 (Suburban)"
   ]
  },
  {
   "cell_type": "code",
   "execution_count": 80,
   "metadata": {},
   "outputs": [],
   "source": [
    "killings.loc[774, 'geo_type'] = 'Suburban' # 40035 / 34.11 = 1174 (Suburban)"
   ]
  },
  {
   "cell_type": "code",
   "execution_count": 81,
   "metadata": {},
   "outputs": [],
   "source": [
    "killings.loc[1029, 'geo_type'] = 'Suburban' # 682 / 3.14 = 217 (Suburban)"
   ]
  },
  {
   "cell_type": "code",
   "execution_count": 82,
   "metadata": {},
   "outputs": [],
   "source": [
    "killings.loc[1250, ['street_address', 'zipcode', 'geo_type']] = '500 N Main St', 67124.0, 'Suburban' # 2837 / 7.49 = 379 (Suburban)"
   ]
  },
  {
   "cell_type": "code",
   "execution_count": 83,
   "metadata": {},
   "outputs": [],
   "source": [
    "killings.loc[1305, 'geo_type'] = 'Suburban' # 2810 / 11.54 = 244 (Suburban)"
   ]
  },
  {
   "cell_type": "code",
   "execution_count": 84,
   "metadata": {},
   "outputs": [],
   "source": [
    "killings.loc[1322, 'geo_type'] = 'Suburban' # 574 / 1.324 = 434 (Suburban)"
   ]
  },
  {
   "cell_type": "code",
   "execution_count": 85,
   "metadata": {},
   "outputs": [],
   "source": [
    "killings.loc[1336, 'geo_type'] = 'Suburban' # 28177 / 18.57 = 1517 (Suburban)"
   ]
  },
  {
   "cell_type": "code",
   "execution_count": 86,
   "metadata": {},
   "outputs": [],
   "source": [
    "killings.loc[1346, 'geo_type'] = 'Urban' # 229556 / 96.81 = 2371 (Urban)"
   ]
  },
  {
   "cell_type": "code",
   "execution_count": 87,
   "metadata": {},
   "outputs": [],
   "source": [
    "killings.loc[1356, 'geo_type'] = 'Suburban' # 1258 / 2.31 = 545 (Suburban)"
   ]
  },
  {
   "cell_type": "code",
   "execution_count": 88,
   "metadata": {},
   "outputs": [],
   "source": [
    "killings.loc[1367, 'geo_type'] = 'Rural' # 394 / 8.452 = 47 (Rural)"
   ]
  },
  {
   "cell_type": "code",
   "execution_count": 89,
   "metadata": {},
   "outputs": [],
   "source": [
    "killings.loc[1430, 'geo_type'] = 'Suburban' # 10780 / 8.687 = 1241 (Suburban)"
   ]
  },
  {
   "cell_type": "code",
   "execution_count": 90,
   "metadata": {},
   "outputs": [],
   "source": [
    "killings.loc[1607, 'geo_type'] = 'Suburban' # 23121 / 19.7 = 1174 (Suburban)"
   ]
  },
  {
   "cell_type": "code",
   "execution_count": 91,
   "metadata": {},
   "outputs": [],
   "source": [
    "killings.loc[1812, ['geo_type']] = 'Rural' # 32 / .4 = 80 (Rural)"
   ]
  },
  {
   "cell_type": "code",
   "execution_count": 92,
   "metadata": {},
   "outputs": [],
   "source": [
    "killings.loc[1965, 'geo_type'] = 'Suburban' # 111221 / 184.4 = 603 (Suburban)"
   ]
  },
  {
   "cell_type": "code",
   "execution_count": 93,
   "metadata": {},
   "outputs": [],
   "source": [
    "killings.loc[1981, 'geo_type'] = 'Suburban' # 118 / 1.05 = 112 (Suburban)"
   ]
  },
  {
   "cell_type": "code",
   "execution_count": 94,
   "metadata": {},
   "outputs": [],
   "source": [
    "killings.loc[2813, ['street_address', 'zipcode', 'geo_type']] = '6800 62nd Ave NE', 98115.0, 'Urban' # 283510 / 83.78 = 3384 (Urban)"
   ]
  },
  {
   "cell_type": "code",
   "execution_count": 95,
   "metadata": {},
   "outputs": [],
   "source": [
    "killings.loc[3344, ['city', 'zipcode', 'geo_type']] = 'Campbellton', 78008.0, 'Rural' # 176 / 198.5 = 1 (Rural)"
   ]
  },
  {
   "cell_type": "code",
   "execution_count": 96,
   "metadata": {},
   "outputs": [],
   "source": [
    "killings.loc[3346, ['zipcode', 'geo_type']] = 57752.0, 'Rural' # 177 / 2.008 = 88 (Rural)"
   ]
  },
  {
   "cell_type": "code",
   "execution_count": 97,
   "metadata": {},
   "outputs": [],
   "source": [
    "killings.loc[3475, ['street_address', 'zipcode', 'geo_type', 'city']] = 'X4 Rd', 81411.0, 'Rural', 'Bedrock' #Out in the middle of nowhere"
   ]
  },
  {
   "cell_type": "code",
   "execution_count": 98,
   "metadata": {},
   "outputs": [],
   "source": [
    "killings.loc[6812, 'geo_type'] = 'Suburban' # 4034 / 17.1 = 236 (Suburban)"
   ]
  },
  {
   "cell_type": "code",
   "execution_count": 99,
   "metadata": {},
   "outputs": [],
   "source": [
    "killings.loc[7099, 'geo_type'] = 'Urban' # 870051 / 55.25 = 15748 (Urban)"
   ]
  },
  {
   "cell_type": "code",
   "execution_count": 100,
   "metadata": {},
   "outputs": [],
   "source": [
    "killings.loc[7461, 'geo_type'] = 'Suburban' # 8689 / 4.36 = 1993 (Suburban)"
   ]
  },
  {
   "cell_type": "markdown",
   "metadata": {},
   "source": [
    "#### Handling location fields that are still Null\n",
    "Since we've done as much as we can in the way of researching location data, we'll replace all null values that remain with 'unknown'"
   ]
  },
  {
   "cell_type": "code",
   "execution_count": 101,
   "metadata": {},
   "outputs": [
    {
     "name": "stdout",
     "output_type": "stream",
     "text": [
      "There are 80 null street addresses that will be filled with 'unknown'\n"
     ]
    }
   ],
   "source": [
    "num_null_street_address = killings['street_address'].isnull().sum()\n",
    "print(F\"There are {num_null_street_address} null street addresses that will be filled with 'unknown'\")\n",
    "killings['street_address'].fillna('unknown', inplace=True)"
   ]
  },
  {
   "cell_type": "code",
   "execution_count": 102,
   "metadata": {},
   "outputs": [],
   "source": [
    "killings.loc[killings['street_address']=='Unknown', 'street_address'] = 'unknown'"
   ]
  },
  {
   "cell_type": "code",
   "execution_count": 103,
   "metadata": {},
   "outputs": [
    {
     "name": "stdout",
     "output_type": "stream",
     "text": [
      "There are 1 cities that will be filled with 'unknown'\n"
     ]
    }
   ],
   "source": [
    "num_null_city = killings['city'].isnull().sum()\n",
    "print(F\"There are {num_null_city} cities that will be filled with 'unknown'\")\n",
    "\n",
    "killings['city'].fillna('unknown', inplace=True)"
   ]
  },
  {
   "cell_type": "code",
   "execution_count": 104,
   "metadata": {},
   "outputs": [],
   "source": [
    "# num_null_zip_codes = killings['zipcode'].isnull().sum()\n",
    "# print(F\"There are {num_null_zip_codes} zip_codes that will be filled with 'unknown'\")\n",
    "\n",
    "# killings['zipcode'].fillna('unknown', inplace=True)"
   ]
  },
  {
   "cell_type": "code",
   "execution_count": 105,
   "metadata": {},
   "outputs": [
    {
     "name": "stdout",
     "output_type": "stream",
     "text": [
      "There are 1 geo_types that will be filled with 'unknown'\n"
     ]
    }
   ],
   "source": [
    "num_null_geo_type = killings['geo_type'].isnull().sum()\n",
    "print(F\"There are {num_null_geo_type} geo_types that will be filled with 'unknown'\")\n",
    "\n",
    "killings['geo_type'].fillna('unknown', inplace=True)"
   ]
  },
  {
   "cell_type": "markdown",
   "metadata": {},
   "source": [
    "### Agency Responsible for death"
   ]
  },
  {
   "cell_type": "code",
   "execution_count": 106,
   "metadata": {},
   "outputs": [
    {
     "name": "stdout",
     "output_type": "stream",
     "text": [
      "There are 16 rows for agency responsible for death that will be filled with 'unknown'\n"
     ]
    }
   ],
   "source": [
    "num_null_agency_responsible = killings['agency_resp_for_death'].isnull().sum()\n",
    "print(F\"There are {num_null_agency_responsible} rows for agency responsible for death that will be filled with 'unknown'\")\n",
    "\n",
    "killings['agency_resp_for_death'].fillna('unknown', inplace=True)"
   ]
  },
  {
   "cell_type": "markdown",
   "metadata": {},
   "source": [
    "### Cause of death\n",
    "There are too many categories here to do a meaningful analysis, I'll distill them down to just a few categories"
   ]
  },
  {
   "cell_type": "code",
   "execution_count": 107,
   "metadata": {},
   "outputs": [
    {
     "data": {
      "text/plain": [
       "array(['Gunshot', 'Gunshot, Taser', 'Physical Restraint', 'Taser',\n",
       "       'Beaten/Bludgeoned with instrument', 'Beaten', 'Vehicle',\n",
       "       'Asphyxiated', 'Other', 'Gunshot, Beanbag Gun',\n",
       "       'Gunshot, Police Dog', 'Gunshot, Bean Bag Gun',\n",
       "       'Gunshot, Pepper Spray', 'Bean bag', 'Gunshot, Taser, Baton',\n",
       "       'Gunshot, Taser, Beanbag Shotgun', 'Pepper Spray',\n",
       "       'Gunshot, Unspecified Less Lethal Weapon', 'Physical restraint',\n",
       "       'Taser, Baton', 'Bomb', 'Taser, Physical Restraint',\n",
       "       'Baton, Pepper Spray, Physical Restraint', 'Gunshot, Vehicle',\n",
       "       'Gunshot, Stabbed', 'Gunshot, Taser, Pepper spray',\n",
       "       'Taser, Pepper Spray, Beaten', 'Taser, Beaten',\n",
       "       'Taser, Pepper spray, beaten', 'Tasered'], dtype=object)"
      ]
     },
     "execution_count": 107,
     "metadata": {},
     "output_type": "execute_result"
    }
   ],
   "source": [
    "killings['cause_of_death'].unique()"
   ]
  },
  {
   "cell_type": "code",
   "execution_count": 108,
   "metadata": {},
   "outputs": [],
   "source": [
    "killings['cause_of_death'] = killings['cause_of_death'].str.lower()"
   ]
  },
  {
   "cell_type": "code",
   "execution_count": 109,
   "metadata": {},
   "outputs": [],
   "source": [
    "cause_of_death_dict = {\"gunshot, bean bag gun\":\"gunshot, beanbag gun\",\n",
    "                       \"tasered\":\"taser\",\n",
    "                       \"beaten/bludgeoned with instrument\":\"beaten\",\n",
    "                       \"gunshot, taser\":\"gunshot\",\n",
    "                       \"gunshot, police dog\":\"gunshot\",\n",
    "                       \"gunshot, pepper spray\":\"gunshot\",\n",
    "                       \"gunshot, beanbag gun\":\"gunshot\",\n",
    "                       \"taser, pepper spray, beaten\":\"taser\",\n",
    "                       \"taser, physical restraint\":\"taser\",\n",
    "                       \"gunshot, taser, pepper spray\":\"gunshot\",\n",
    "                       \"gunshot, stabbed\":\"gunshot\",\n",
    "                       \"gunshot, vehicle\":\"gunshot\",\n",
    "                       \"gunshot, taser, baton\":\"gunshot\",\n",
    "                       \"gunshot, unspecified less lethal weapon\":\"gunshot\",\n",
    "                       \"gunshot, taser, beanbag shotgun\":\"gunshot\",\n",
    "                       \"gunshot, taser, beanbag shotgun\":\"gunshot\",\n",
    "                       \"taser, baton\":\"taser\",\n",
    "                       \"taser, beaten\":\"taser\",\n",
    "                       \"bomb\":\"other\",\n",
    "                       \"baton, pepper spray, physical restraint\":\"other\",\n",
    "                       \"pepper spray\":\"other\",\n",
    "                       \"bean bag\":\"other\"}\n",
    "\n",
    "killings['cause_of_death'] = killings['cause_of_death'].map(cause_of_death_dict).fillna(killings['cause_of_death'])"
   ]
  },
  {
   "cell_type": "code",
   "execution_count": 110,
   "metadata": {},
   "outputs": [
    {
     "data": {
      "text/plain": [
       "gunshot                 7298\n",
       "taser                    253\n",
       "vehicle                   33\n",
       "beaten                    31\n",
       "physical restraint        20\n",
       "asphyxiated               14\n",
       "other                     13\n",
       "gunshot, beanbag gun       1\n",
       "Name: cause_of_death, dtype: int64"
      ]
     },
     "execution_count": 110,
     "metadata": {},
     "output_type": "execute_result"
    }
   ],
   "source": [
    "killings['cause_of_death'].value_counts()"
   ]
  },
  {
   "cell_type": "markdown",
   "metadata": {},
   "source": [
    "### Description of Circumstances Surrounding Death\n",
    "It'll take too much time to research these missing entries and I don't think they'll contribute much to analysis, so I'll fill them with \"Unavailable\""
   ]
  },
  {
   "cell_type": "code",
   "execution_count": 111,
   "metadata": {},
   "outputs": [],
   "source": [
    "killings['desc_of_circumstances'].fillna('Unavailable', inplace=True)"
   ]
  },
  {
   "cell_type": "markdown",
   "metadata": {},
   "source": [
    "### Official Disposition of Death"
   ]
  },
  {
   "cell_type": "code",
   "execution_count": 112,
   "metadata": {},
   "outputs": [
    {
     "data": {
      "text/plain": [
       "array(['Pending investigation', 'Justified by Prosecuting Attorney',\n",
       "       'Criminal', 'Justified by County Prosecutor',\n",
       "       'Justified by District Attorney', 'Unreported',\n",
       "       \"Justified by State Attorney's Office\",\n",
       "       \"Justified by State's Attorney\", 'Justified by County Attorney',\n",
       "       'Justified by outside agency', 'Charged with a crime',\n",
       "       'Administrative discipline', 'Murder/suicide',\n",
       "       'Justified by internal review', 'Charged with manslaughter',\n",
       "       'Justified by Prosecutor', 'Officer indicted/Pending', nan,\n",
       "       'Charged with murder', 'Charged with voluntary manslaughter',\n",
       "       'Charged', 'Charged, Convicted of Third Degree Murder',\n",
       "       'Charged with involuntary manslaughter',\n",
       "       'Charged with first-degree murder', 'Charged, Convicted',\n",
       "       'Accidental', 'Charged with murder, Acquitted',\n",
       "       'Charged with second-degree murder',\n",
       "       'Charged with reckless homicide', 'Charged, charges dismissed',\n",
       "       'Justified', 'Charged with manslaughter, acquitted',\n",
       "       'No indictment from federal prosecutors, local prosecutors still deciding',\n",
       "       'Charged with felony murder',\n",
       "       'Indicted, charged with manslaughter',\n",
       "       'Unjustified, Officer fired',\n",
       "       'Charged with criminal homicide, assault, and reckless endangerment',\n",
       "       'Charged, Convicted, Sentenced to 5 years in prison',\n",
       "       'Pending Investigation', 'Charged, convicted of manslaughter',\n",
       "       'Charged, Convicted of voluntary manslaughter, Sentenced to 3 months in jail',\n",
       "       'No Charges', 'Under investigation', 'Pending investigaton',\n",
       "       'Charged, Mistrial declared', 'Pending investigation ', 'Unknown',\n",
       "       'Charged, Convicted of aggravated manslaughter and child endangerment, Sentenced to 30 years in prison',\n",
       "       'Indicted', 'Pending investigations', ' Pending investigation',\n",
       "       'Pending investigation; Georgia Bureau of Investigation',\n",
       "       'Pending investigation; Snohomish County Multiagency Response Team',\n",
       "       \"Pending investigation; Minnesota Bureau of Criminal Apprehension, Minnesota State Patrol, Anoka County Sheriff's Office, Fridley Police Department, Lino Lakes Police Department\",\n",
       "       \"Justified; New York State Police investigation; Schwalm's brother offered condolences to the deputy because of his brother's illness.\",\n",
       "       'Charged with 1st degree murder',\n",
       "       'Unreported; Police Department Regulations Changed',\n",
       "       'Ongoing investigation',\n",
       "       'Charged, Convicted of manslaughter, Sentenced to 2.5 years in prison',\n",
       "       \"Charged, Mistrial declared, Pled Guilty for Violating Scott's Civil Rights\",\n",
       "       'Charged, Convicted of 2nd degree manslaughter, Sentenced to 4 years',\n",
       "       'Pending investigation  ', 'Charged, Acquitted',\n",
       "       'Charged with negligent homicide, Acquitted', 'No Known Charges',\n",
       "       'Charged with felony negligent homicide',\n",
       "       'Charged, Convicted of second-degree manslaughter and one count of official misconduct, Sentenced to five years probation.',\n",
       "       'Charged, Convicted of second-degree murder, Sentenced to 20 years in prison',\n",
       "       'Charged, Convicted of second-degree murder', 'Found Excusable',\n",
       "       'Charged, Convicted of felony murder, Sentenced to life without parole, plus 16 years',\n",
       "       'Charged, Convicted of misdemeanor reckless conduct with a firearm, Sentenced to 1 year in prison',\n",
       "       'Found Not Guilty', 'Charged, Convicted of murder',\n",
       "       'Charged with manslaughter, Acquitted',\n",
       "       'Charged, Convicted of felony murder, Sentenced to life in prison',\n",
       "       'Charged with murder and involuntary manslaughter, Convicted, Sentenced to Life in Prison',\n",
       "       'Charged with murder, aquitted', 'No indictment',\n",
       "       'Charged, Convicted of misdemeanor misconduct in office, Sentenced to 3 years probation ',\n",
       "       'Charged, Convicted of murder, Sentenced to 30 years in prison',\n",
       "       'Charged with 2nd degreee murder', 'Insufficient Evidence',\n",
       "       'justified', 'Grand jury/No bill or Cleared',\n",
       "       'Charged, Convicted of involuntary manslaugher, Sentenced to 1 year in jail, 3 years suspended',\n",
       "       'Charged, Convicted of first-degree murder, Sentenced to life in prison',\n",
       "       'Charged, Convicted of murder, Sentenced to 50 years',\n",
       "       'Charged, convicted of manslaughter, Sentenced to five years probation.',\n",
       "       'Charged with manslaughter, Charges Tossed under Stand Your Ground law',\n",
       "       'Charged with manslaughter, Charges Dismissed in Federal Court',\n",
       "       'Justified; Civil Suit',\n",
       "       'Charged, Convicted, Sentenced to 18 months',\n",
       "       'Charged with 1st degree murder, armed criminal action and two counts of child endangerment, Acquitted',\n",
       "       'Charged, Convicted of voluntary manslaughter, Sentenced to 6 years',\n",
       "       'unknown',\n",
       "       'Charged with homicide and felony firearm charges, Acquitted',\n",
       "       'Charged with criminally negligent homicide, Acquitted',\n",
       "       'Cleared by district attorney',\n",
       "       'Charged with murder and aggravated assault',\n",
       "       'No Charges; Civil Suit finds officers were negligent and partially responsible'],\n",
       "      dtype=object)"
      ]
     },
     "execution_count": 112,
     "metadata": {},
     "output_type": "execute_result"
    }
   ],
   "source": [
    "killings['official_disposition_of_death'].unique()"
   ]
  },
  {
   "cell_type": "markdown",
   "metadata": {},
   "source": [
    "There are way too many unique entries in this column, let's reduce the number of categories down"
   ]
  },
  {
   "cell_type": "code",
   "execution_count": 113,
   "metadata": {},
   "outputs": [],
   "source": [
    "# off_disp_dict = {\"pending investigaton\":\"pending investigation\",\n",
    "#                  \"ongoing investigation\":\"under investigation\",\n",
    "#                  }"
   ]
  },
  {
   "cell_type": "code",
   "execution_count": 114,
   "metadata": {},
   "outputs": [
    {
     "name": "stdout",
     "output_type": "stream",
     "text": [
      "There are 256 rows for official disposition of death that will be filled with 'unknown'\n"
     ]
    }
   ],
   "source": [
    "num_null_disp_of_death = killings['official_disposition_of_death'].isnull().sum()\n",
    "print(F\"There are {num_null_disp_of_death} rows for official disposition of death that will be filled with 'unknown'\")\n",
    "\n",
    "killings['official_disposition_of_death'].fillna('unknown', inplace=True)"
   ]
  },
  {
   "cell_type": "code",
   "execution_count": 115,
   "metadata": {},
   "outputs": [],
   "source": [
    "killings.loc[killings['official_disposition_of_death'].str.lower().str.contains('unjustified'), 'official_disposition_of_death'] = 'unjustified'"
   ]
  },
  {
   "cell_type": "code",
   "execution_count": 116,
   "metadata": {},
   "outputs": [],
   "source": [
    "killings.loc[killings['official_disposition_of_death'].str.lower().str.contains('justified'), 'official_disposition_of_death'] = 'justified'"
   ]
  },
  {
   "cell_type": "code",
   "execution_count": 117,
   "metadata": {},
   "outputs": [],
   "source": [
    "killings.loc[killings['official_disposition_of_death'].str.lower().str.contains('convicted'), 'official_disposition_of_death'] = 'convicted'"
   ]
  },
  {
   "cell_type": "code",
   "execution_count": 118,
   "metadata": {},
   "outputs": [],
   "source": [
    "killings.loc[killings['official_disposition_of_death'].str.lower().str.contains('acquitted'), 'official_disposition_of_death'] = 'acquitted'"
   ]
  },
  {
   "cell_type": "code",
   "execution_count": 119,
   "metadata": {},
   "outputs": [],
   "source": [
    "killings.loc[killings['official_disposition_of_death'].str.lower().str.contains('pending investigation'), 'official_disposition_of_death'] = 'pending investigation'"
   ]
  },
  {
   "cell_type": "code",
   "execution_count": 120,
   "metadata": {},
   "outputs": [],
   "source": [
    "killings.loc[killings['official_disposition_of_death'].str.lower().str.contains('pending investigaton'), 'official_disposition_of_death'] = 'pending investigation'"
   ]
  },
  {
   "cell_type": "code",
   "execution_count": 121,
   "metadata": {},
   "outputs": [],
   "source": [
    "killings.loc[killings['official_disposition_of_death'].str.lower().str.contains('ongoing investigation'), 'official_disposition_of_death'] = 'under investigation'"
   ]
  },
  {
   "cell_type": "code",
   "execution_count": 122,
   "metadata": {},
   "outputs": [],
   "source": [
    "killings.loc[killings['official_disposition_of_death'].str.lower().str.contains('under investigation'), 'official_disposition_of_death'] = 'under investigation'"
   ]
  },
  {
   "cell_type": "code",
   "execution_count": 123,
   "metadata": {},
   "outputs": [],
   "source": [
    "killings.loc[killings['official_disposition_of_death'].str.lower().str.contains('no indictment'), 'official_disposition_of_death'] = 'no indictment'"
   ]
  },
  {
   "cell_type": "code",
   "execution_count": 124,
   "metadata": {},
   "outputs": [],
   "source": [
    "killings.loc[killings['official_disposition_of_death'].str.lower().str.contains('indicted'), 'official_disposition_of_death'] = 'indicted'"
   ]
  },
  {
   "cell_type": "code",
   "execution_count": 125,
   "metadata": {},
   "outputs": [],
   "source": [
    "killings.loc[killings['official_disposition_of_death'].str.lower().str.contains('charged'), 'official_disposition_of_death'] = 'charged'"
   ]
  },
  {
   "cell_type": "code",
   "execution_count": 126,
   "metadata": {},
   "outputs": [],
   "source": [
    "killings.loc[killings['official_disposition_of_death'].str.lower().str.contains('No charges'), 'official_disposition_of_death'] = 'no charges'"
   ]
  },
  {
   "cell_type": "code",
   "execution_count": 127,
   "metadata": {},
   "outputs": [],
   "source": [
    "killings.loc[killings['official_disposition_of_death'].str.lower().str.contains('no charges'), 'official_disposition_of_death'] = 'no charges'"
   ]
  },
  {
   "cell_type": "code",
   "execution_count": 128,
   "metadata": {},
   "outputs": [],
   "source": [
    "killings.loc[killings['official_disposition_of_death'].str.lower().str.contains('no known charges'), 'official_disposition_of_death'] = 'no charges'"
   ]
  },
  {
   "cell_type": "code",
   "execution_count": 129,
   "metadata": {},
   "outputs": [],
   "source": [
    "killings.loc[killings['official_disposition_of_death'].str.lower().str.contains('unreported'), 'official_disposition_of_death'] = 'unreported'"
   ]
  },
  {
   "cell_type": "code",
   "execution_count": 130,
   "metadata": {},
   "outputs": [],
   "source": [
    "killings.loc[killings['official_disposition_of_death'].str.lower().str.contains('unknown'), 'official_disposition_of_death'] = 'unknown'"
   ]
  },
  {
   "cell_type": "code",
   "execution_count": 131,
   "metadata": {},
   "outputs": [],
   "source": [
    "killings.loc[killings['official_disposition_of_death'].str.lower().str.contains('unknown'), 'official_disposition_of_death'] = 'unknown'"
   ]
  },
  {
   "cell_type": "code",
   "execution_count": 132,
   "metadata": {},
   "outputs": [],
   "source": [
    "killings['official_disposition_of_death'] = killings['official_disposition_of_death'].str.lower()"
   ]
  },
  {
   "cell_type": "code",
   "execution_count": 133,
   "metadata": {},
   "outputs": [
    {
     "data": {
      "text/plain": [
       "pending investigation            5136\n",
       "unreported                       1140\n",
       "justified                         687\n",
       "unknown                           510\n",
       "charged                            52\n",
       "murder/suicide                     25\n",
       "convicted                          25\n",
       "criminal                           22\n",
       "under investigation                17\n",
       "grand jury/no bill or cleared      14\n",
       "acquitted                          12\n",
       "found excusable                     6\n",
       "no charges                          5\n",
       "indicted                            3\n",
       "found not guilty                    2\n",
       "cleared by district attorney        2\n",
       "no indictment                       2\n",
       "insufficient evidence               1\n",
       "administrative discipline           1\n",
       "accidental                          1\n",
       "Name: official_disposition_of_death, dtype: int64"
      ]
     },
     "execution_count": 133,
     "metadata": {},
     "output_type": "execute_result"
    }
   ],
   "source": [
    "killings['official_disposition_of_death'].value_counts()"
   ]
  },
  {
   "cell_type": "markdown",
   "metadata": {},
   "source": [
    "### Criminal Charges"
   ]
  },
  {
   "cell_type": "code",
   "execution_count": 134,
   "metadata": {},
   "outputs": [
    {
     "data": {
      "text/plain": [
       "No known charges                                                                 7524\n",
       "Charged with a crime                                                               49\n",
       "No                                                                                 37\n",
       "Charged, Acquitted                                                                 17\n",
       "Charged, Mistrial                                                                   5\n",
       "Charged, Convicted                                                                  4\n",
       "Charged, Convicted, Sentenced to 5 years probation.                                 2\n",
       "Charged, Charges Tossed                                                             2\n",
       "Charged, Convicted, Sentenced to life in prison                                     2\n",
       "Charged, Convicted, Sentenced to 30 years in prison                                 2\n",
       "Charged, Convicted, Sentenced to 1 year in prison                                   1\n",
       "Charged, Convicted, Sentenced to 3 years probation                                  1\n",
       "Charged, Convicted, Sentenced to Life in Prison                                     1\n",
       "Charged, Convicted, Sentenced to 16 years in prison                                 1\n",
       "Charged, Convicted, Sentenced to 1 year in jail, 3 years suspended                  1\n",
       "Charged, Convicted, Sentenced to 50 years                                           1\n",
       "Charged, Convicted, Sentenced to 18 months                                          1\n",
       "Charged, Convicted, Sentenced to life in prison without parole, plus 16 years       1\n",
       "Charged, Mistrial, Plead Guilty to Civil Rights Charges                             1\n",
       "Charged, Convicted, Sentenced to 20 years in prison                                 1\n",
       "Charged, Convicted, Sentenced to 4 years                                            1\n",
       "Charged, Convicted, Sentenced to 2.5 years in prison                                1\n",
       "Charged, Convicted, Sentenced to 3 months in jail                                   1\n",
       "Charged, Convicted, Sentenced to 40 years in prison                                 1\n",
       "Charged, Convicted, Sentenced to 5 years in prison                                  1\n",
       "Charged, Charges Dropped                                                            1\n",
       "NO                                                                                  1\n",
       "Charged with manslaughter                                                           1\n",
       "Charged, Convicted, Sentenced to 6 years                                            1\n",
       "Name: criminal_charges, dtype: int64"
      ]
     },
     "execution_count": 134,
     "metadata": {},
     "output_type": "execute_result"
    }
   ],
   "source": [
    "killings['criminal_charges'].value_counts()"
   ]
  },
  {
   "cell_type": "code",
   "execution_count": 135,
   "metadata": {},
   "outputs": [],
   "source": [
    "killings['criminal_charges'] = killings['criminal_charges'].str.lower()"
   ]
  },
  {
   "cell_type": "code",
   "execution_count": 136,
   "metadata": {},
   "outputs": [],
   "source": [
    "killings.loc[killings['criminal_charges'] == 'no known charges', 'criminal_charges'] = 'no charges'\n",
    "killings.loc[killings['criminal_charges'] == 'no', 'criminal_charges'] = 'no charges'"
   ]
  },
  {
   "cell_type": "code",
   "execution_count": 137,
   "metadata": {},
   "outputs": [],
   "source": [
    "killings.loc[killings['criminal_charges'].str.contains('charged, convicted'), 'criminal_charges'] = 'charged, convicted'"
   ]
  },
  {
   "cell_type": "code",
   "execution_count": 138,
   "metadata": {},
   "outputs": [],
   "source": [
    "killings.loc[killings['criminal_charges'].str.contains('charged, mistrial'), 'criminal_charges'] = 'charged, mistrial'"
   ]
  },
  {
   "cell_type": "code",
   "execution_count": 139,
   "metadata": {},
   "outputs": [],
   "source": [
    "killings.loc[killings['criminal_charges'].str.contains('charged, charges tossed'), 'criminal_charges'] = 'charged, charges dropped'"
   ]
  },
  {
   "cell_type": "code",
   "execution_count": 140,
   "metadata": {},
   "outputs": [],
   "source": [
    "killings.loc[killings['criminal_charges'].str.contains('charged with manslaughter'), 'criminal_charges'] = 'charged with a crime'"
   ]
  },
  {
   "cell_type": "code",
   "execution_count": 141,
   "metadata": {},
   "outputs": [
    {
     "data": {
      "text/plain": [
       "no charges                  7562\n",
       "charged with a crime          50\n",
       "charged, convicted            25\n",
       "charged, acquitted            17\n",
       "charged, mistrial              6\n",
       "charged, charges dropped       3\n",
       "Name: criminal_charges, dtype: int64"
      ]
     },
     "execution_count": 141,
     "metadata": {},
     "output_type": "execute_result"
    }
   ],
   "source": [
    "killings['criminal_charges'].value_counts()"
   ]
  },
  {
   "cell_type": "markdown",
   "metadata": {},
   "source": [
    "### News Article Link\n",
    "It's going to be near impossible to research links for these rows, so we'll also fill them with \"Unavailable\""
   ]
  },
  {
   "cell_type": "code",
   "execution_count": 142,
   "metadata": {},
   "outputs": [],
   "source": [
    "killings['news_article_link'].fillna('Unavailable', inplace=True)"
   ]
  },
  {
   "cell_type": "markdown",
   "metadata": {
    "tags": []
   },
   "source": [
    "### Symptoms of Mental Illness"
   ]
  },
  {
   "cell_type": "code",
   "execution_count": 143,
   "metadata": {},
   "outputs": [
    {
     "data": {
      "text/plain": [
       "array(['No', 'Unknown', 'Yes', 'Drug or alcohol use', nan, 'Unkown',\n",
       "       'Unknown ', 'unknown'], dtype=object)"
      ]
     },
     "execution_count": 143,
     "metadata": {},
     "output_type": "execute_result"
    }
   ],
   "source": [
    "killings['mental_illness'].unique()"
   ]
  },
  {
   "cell_type": "markdown",
   "metadata": {},
   "source": [
    "Because \"Unknown\", \"Unkown\", \"Unknown \", and \"unknown\" all represent the same idea, we need to distill them down to a single category."
   ]
  },
  {
   "cell_type": "code",
   "execution_count": 144,
   "metadata": {},
   "outputs": [],
   "source": [
    "killings['mental_illness'] = killings['mental_illness'].str.lower()"
   ]
  },
  {
   "cell_type": "code",
   "execution_count": 145,
   "metadata": {},
   "outputs": [],
   "source": [
    "mental_illness_dict = {\"unkown\":\"unknown\",\n",
    "                       \"unknown \":\"unknown\"}\n",
    "\n",
    "killings['mental_illness'] = killings['mental_illness'].map(mental_illness_dict).fillna(killings['mental_illness'])"
   ]
  },
  {
   "cell_type": "code",
   "execution_count": 146,
   "metadata": {},
   "outputs": [
    {
     "name": "stdout",
     "output_type": "stream",
     "text": [
      "There are 11 null rows for mental_illness that will be filled with 'unknown'\n"
     ]
    }
   ],
   "source": [
    "num_null_killings = killings['mental_illness'].isnull().sum()\n",
    "print(F\"There are {num_null_killings} null rows for mental_illness that will be filled with 'unknown'\")\n",
    "\n",
    "killings['mental_illness'].fillna('unknown', inplace=True)"
   ]
  },
  {
   "cell_type": "markdown",
   "metadata": {},
   "source": [
    "### Unarmed"
   ]
  },
  {
   "cell_type": "code",
   "execution_count": 147,
   "metadata": {},
   "outputs": [
    {
     "data": {
      "text/plain": [
       "array(['Allegedly Armed', 'Unclear', 'Vehicle', 'Unarmed'], dtype=object)"
      ]
     },
     "execution_count": 147,
     "metadata": {},
     "output_type": "execute_result"
    }
   ],
   "source": [
    "killings['unarmed'].unique()"
   ]
  },
  {
   "cell_type": "code",
   "execution_count": 148,
   "metadata": {},
   "outputs": [],
   "source": [
    "killings['unarmed'] = killings['unarmed'].str.lower()"
   ]
  },
  {
   "cell_type": "markdown",
   "metadata": {},
   "source": [
    "### Alleged Weapon - need to do"
   ]
  },
  {
   "cell_type": "code",
   "execution_count": 163,
   "metadata": {},
   "outputs": [
    {
     "data": {
      "text/plain": [
       "array(['knife', 'unknown', 'gun', 'vehicle', 'chain', 'taser',\n",
       "       'gun and vehicle', 'shovel', 'gun and car', 'toy weapon',\n",
       "       'unarmed', 'baseball bat', 'hatchet', 'car, knife and mace',\n",
       "       'sword', 'vehicle and machete', 'screwdriver', 'vehicle and gun',\n",
       "       'bb gun', 'sharp object', 'box cutter', 'ax', 'hammer', 'crowbar',\n",
       "       'chair', 'scissors', 'toy', 'baseball bat and knife',\n",
       "       'straight edge razor', 'machete', 'baton', 'airsoft pistol',\n",
       "       'air pistol', 'wasp spray', 'bb gun and vehicle', 'piece of wood',\n",
       "       'gun and knife', 'garden tool', 'barstool', 'walking stick',\n",
       "       'wrench', 'beer bottle', 'meat cleaver', 'metal pipe', 'flag pole',\n",
       "       'rock', 'lawn mower blade', 'crossbow', 'metal object',\n",
       "       'bow and arrow', 'pick-axe', 'lamp', 'glass shard',\n",
       "       'incendiary device', 'pipe', 'pole and knife', 'lighter fluid',\n",
       "       'pitchfork', 'gun and sword', 'blunt object', 'chainsaw', 'pen',\n",
       "       'fireworks', 'gun and hatchet', 'baseball bat and bottle',\n",
       "       'electric razor on cord', 'metal stick', 'golf club',\n",
       "       'air conditioner and glass bottle', 'tire iron', 'gun and machete',\n",
       "       'oar', 'bat', 'bottle', 'metal rake', 'brick', 'motorcycle',\n",
       "       'chain saw', 'bayonet', 'metal pole', 'spear', 'stick',\n",
       "       'knife, toy', 'flashlight', 'pole', 'hand torch',\n",
       "       'baseball bat and fireplace poker', 'toy broomstick',\n",
       "       'bean-bag gun', 'binoculars', 'stapler', 'railroad spike',\n",
       "       'guns and explosives', \"contractor's level\", 'carjack', 'vehicle ',\n",
       "       'flagpole', 'metal hand tool', 'cordless drill', 'nail gun',\n",
       "       'sock', 'edged weapon', 'wooden nightstand', 'knife and rocks',\n",
       "       'cell phone', 'baseball bat and screwdriver', 'metal bar',\n",
       "       'knife and crowbar', 'knife and screwdriver', 'axe', 'metal post',\n",
       "       'pepper spray', 'knives', 'toy sword', 'rocks', 'claw hammer',\n",
       "       'cologne', 'broken glass bottle', 'cane and knife',\n",
       "       'knife and stick', 'blade', 'gun and explosives', 'lighter',\n",
       "       'hockey stick', 'garden shears', 'gun ', 'wood stick ',\n",
       "       'knife and gun', 'ax and knife', 'cane', 'cleaver',\n",
       "       'game controller', 'screw driver', 'unclear weapon', 'guns',\n",
       "       'mallett', 'machete and pipe', 'knife and hammer',\n",
       "       'taser, baton, gun', 'hunting bow', 'wooden stick', 'unclear ',\n",
       "       'knife and bat', 'gun and knives', 'knife and taser',\n",
       "       'hammer and knife', 'knife and scissors', 'fireworks and gun',\n",
       "       'metal tool', 'explosives and guns', 'flare gun', 'knife/scissors',\n",
       "       'probe', 'tree branch', 'bike', 'table leg', 'unknown object',\n",
       "       'tool', 'gun, vehicle', 'sticks', 'hot glue gun', 'club',\n",
       "       'blunt weapon'], dtype=object)"
      ]
     },
     "execution_count": 163,
     "metadata": {},
     "output_type": "execute_result"
    }
   ],
   "source": [
    "killings['alleged_weapon'].unique()"
   ]
  },
  {
   "cell_type": "code",
   "execution_count": 160,
   "metadata": {},
   "outputs": [],
   "source": [
    "killings['alleged_weapon'] = killings['alleged_weapon'].str.lower()"
   ]
  },
  {
   "cell_type": "code",
   "execution_count": 162,
   "metadata": {},
   "outputs": [],
   "source": [
    "alleged_weapon_dict = {\"unclear\":\"unknown\",\n",
    "                       \"unknown weapon\":\"unknown\",\n",
    "                       \"undetermined\":\"unknown\",\n",
    "                       }\n",
    "\n",
    "killings['alleged_weapon'] = killings['alleged_weapon'].map(alleged_weapon_dict).fillna(killings['alleged_weapon'])"
   ]
  },
  {
   "cell_type": "markdown",
   "metadata": {},
   "source": [
    "### Threat Level"
   ]
  },
  {
   "cell_type": "code",
   "execution_count": 149,
   "metadata": {},
   "outputs": [
    {
     "data": {
      "text/plain": [
       "array(['other', 'attack', nan, 'undetermined'], dtype=object)"
      ]
     },
     "execution_count": 149,
     "metadata": {},
     "output_type": "execute_result"
    }
   ],
   "source": [
    "killings['threat_level'].unique()"
   ]
  },
  {
   "cell_type": "code",
   "execution_count": 150,
   "metadata": {},
   "outputs": [
    {
     "name": "stdout",
     "output_type": "stream",
     "text": [
      "There are 2382 rows for threat level that will be filled with 'unknown'\n"
     ]
    }
   ],
   "source": [
    "num_null_threat_level = killings['threat_level'].isnull().sum()\n",
    "print(F\"There are {num_null_threat_level} rows for threat level that will be filled with 'unknown'\")\n",
    "\n",
    "killings['threat_level'].fillna('unknown', inplace=True)"
   ]
  },
  {
   "cell_type": "markdown",
   "metadata": {},
   "source": [
    "### Fleeing"
   ]
  },
  {
   "cell_type": "code",
   "execution_count": 153,
   "metadata": {},
   "outputs": [
    {
     "data": {
      "text/plain": [
       "array(['not fleeing', 'unknown', 'car', 'foot', 'other'], dtype=object)"
      ]
     },
     "execution_count": 153,
     "metadata": {},
     "output_type": "execute_result"
    }
   ],
   "source": [
    "killings['fleeing'].unique()"
   ]
  },
  {
   "cell_type": "code",
   "execution_count": 152,
   "metadata": {},
   "outputs": [],
   "source": [
    "killings['fleeing'] = killings['fleeing'].str.lower()\n",
    "\n",
    "killings.loc[killings['fleeing']=='0', 'fleeing'] = 'unknown'\n",
    "# fleeing_dict = {'Foot':'foot',\n",
    "#                 'Not fleeing':'not fleeing',\n",
    "#                 '0':'unknown',\n",
    "#                 'Car':'car',\n",
    "#                 'Other':'other'}\n",
    "\n",
    "# killings['fleeing'] = killings['fleeing'].map(fleeing_dict).fillna(killings['fleeing'])\n",
    "killings['fleeing'].fillna('unknown', inplace=True)"
   ]
  },
  {
   "cell_type": "markdown",
   "metadata": {},
   "source": [
    "### Video surveillance"
   ]
  },
  {
   "cell_type": "code",
   "execution_count": 156,
   "metadata": {},
   "outputs": [
    {
     "data": {
      "text/plain": [
       "array(['no', 'unknown', 'body camera', 'bystander video',\n",
       "       'surveillance video'], dtype=object)"
      ]
     },
     "execution_count": 156,
     "metadata": {},
     "output_type": "execute_result"
    }
   ],
   "source": [
    "killings['video_surveillance'].unique()"
   ]
  },
  {
   "cell_type": "code",
   "execution_count": 155,
   "metadata": {},
   "outputs": [],
   "source": [
    "killings['video_surveillance'] = killings['video_surveillance'].str.lower()\n",
    "killings['video_surveillance'] = killings['video_surveillance'].str.replace('yes', 'body camera')\n",
    "killings['video_surveillance'].fillna('unknown', inplace=True)"
   ]
  },
  {
   "cell_type": "markdown",
   "metadata": {},
   "source": [
    "## Converting data types"
   ]
  },
  {
   "cell_type": "code",
   "execution_count": null,
   "metadata": {},
   "outputs": [],
   "source": [
    "killings.dtypes"
   ]
  },
  {
   "cell_type": "markdown",
   "metadata": {},
   "source": [
    "### Age"
   ]
  },
  {
   "cell_type": "code",
   "execution_count": null,
   "metadata": {},
   "outputs": [],
   "source": [
    "killings[\"victims_age\"] = killings[\"victims_age\"].astype('float64')"
   ]
  },
  {
   "cell_type": "markdown",
   "metadata": {},
   "source": [
    "### Date"
   ]
  },
  {
   "cell_type": "markdown",
   "metadata": {},
   "source": [
    "We can convert the dates in the date column to Python datetime objects"
   ]
  },
  {
   "cell_type": "code",
   "execution_count": null,
   "metadata": {},
   "outputs": [],
   "source": [
    "killings[\"date\"] = pd.to_datetime(killings[\"date\"], infer_datetime_format=True)"
   ]
  },
  {
   "cell_type": "code",
   "execution_count": null,
   "metadata": {},
   "outputs": [],
   "source": [
    "killings.dtypes"
   ]
  },
  {
   "cell_type": "code",
   "execution_count": null,
   "metadata": {},
   "outputs": [],
   "source": []
  },
  {
   "cell_type": "code",
   "execution_count": null,
   "metadata": {},
   "outputs": [],
   "source": []
  },
  {
   "cell_type": "code",
   "execution_count": null,
   "metadata": {},
   "outputs": [],
   "source": [
    "killings.columns"
   ]
  },
  {
   "cell_type": "code",
   "execution_count": null,
   "metadata": {},
   "outputs": [],
   "source": []
  },
  {
   "cell_type": "code",
   "execution_count": null,
   "metadata": {},
   "outputs": [],
   "source": []
  },
  {
   "cell_type": "code",
   "execution_count": null,
   "metadata": {},
   "outputs": [],
   "source": [
    "killings['unarmed'].unique()"
   ]
  },
  {
   "cell_type": "code",
   "execution_count": null,
   "metadata": {},
   "outputs": [],
   "source": [
    "killings['alleged_weapon'].unique()"
   ]
  },
  {
   "cell_type": "code",
   "execution_count": null,
   "metadata": {},
   "outputs": [],
   "source": []
  },
  {
   "cell_type": "code",
   "execution_count": null,
   "metadata": {},
   "outputs": [],
   "source": [
    "zipcode_null = killings.loc[killings['Zipcode'].isnull()==True,:].index\n",
    "killings.drop(zipcode_null,inplace=True)"
   ]
  },
  {
   "cell_type": "code",
   "execution_count": null,
   "metadata": {},
   "outputs": [],
   "source": [
    "killings.isnull().sum()"
   ]
  },
  {
   "cell_type": "code",
   "execution_count": null,
   "metadata": {},
   "outputs": [],
   "source": [
    "killings.head()"
   ]
  },
  {
   "cell_type": "code",
   "execution_count": null,
   "metadata": {},
   "outputs": [],
   "source": []
  },
  {
   "cell_type": "code",
   "execution_count": null,
   "metadata": {},
   "outputs": [],
   "source": []
  },
  {
   "cell_type": "code",
   "execution_count": null,
   "metadata": {},
   "outputs": [],
   "source": [
    "killings.head()"
   ]
  },
  {
   "cell_type": "code",
   "execution_count": null,
   "metadata": {},
   "outputs": [],
   "source": [
    "killings.to_csv('./csv_files/police_killings_clean.csv', index=False)"
   ]
  },
  {
   "cell_type": "code",
   "execution_count": null,
   "metadata": {},
   "outputs": [],
   "source": []
  },
  {
   "cell_type": "code",
   "execution_count": null,
   "metadata": {},
   "outputs": [],
   "source": []
  },
  {
   "cell_type": "markdown",
   "metadata": {},
   "source": [
    "# Scratch Work"
   ]
  },
  {
   "cell_type": "code",
   "execution_count": null,
   "metadata": {},
   "outputs": [],
   "source": [
    "# This code will open all links so we can inspect them manually\n",
    "try:\n",
    "    for url in null_gender_urls:\n",
    "        webbrowser.open_new_tab(url)\n",
    "except:\n",
    "    pass"
   ]
  },
  {
   "cell_type": "code",
   "execution_count": null,
   "metadata": {},
   "outputs": [],
   "source": [
    "import urllib.request\n",
    "\n",
    "def is_url_working(x):\n",
    "    import urllib.request\n",
    "    print('starting')\n",
    "    try:\n",
    "        test_url = urllib.request.urlopen(x)\n",
    "        return test_url\n",
    "    except:\n",
    "        return 'No'\n",
    "    \n",
    "# killings['URL working?'] = killings['Link to news article or photo of official document'].apply(is_url_working)"
   ]
  },
  {
   "cell_type": "code",
   "execution_count": null,
   "metadata": {},
   "outputs": [],
   "source": [
    "null_address_df = killings[(killings[\"street_address\"].isnull() == True) & (killings[\"news_article_link\"].isnull()==False)]\n",
    "\n",
    "null_address_links = null_address_df['news_article_link']\n",
    "\n",
    "null_address_idx = null_address_links.index\n",
    "null_address_urls = null_address_links.to_list()\n",
    "\n",
    "print(\"Here are the links for news articles that contain links for rows with a null street_address:\")\n",
    "print(\"-\"*50)\n",
    "print()\n",
    "for idx, link in zip(null_address_idx[0:10], null_address_links[0:10]):\n",
    "    null_col_mask = killings.loc[idx].isna()==True\n",
    "    print(F\"df_idx: {idx}\")\n",
    "    print(killings.loc[idx, null_col_mask].to_string())\n",
    "    print(F\"link: {link}\")\n",
    "    print()"
   ]
  }
 ],
 "metadata": {
  "jupytext": {
   "formats": "ipynb,auto:percent"
  },
  "kernelspec": {
   "display_name": "Python 3 (ipykernel)",
   "language": "python",
   "name": "python3"
  },
  "language_info": {
   "codemirror_mode": {
    "name": "ipython",
    "version": 3
   },
   "file_extension": ".py",
   "mimetype": "text/x-python",
   "name": "python",
   "nbconvert_exporter": "python",
   "pygments_lexer": "ipython3",
   "version": "3.9.9"
  }
 },
 "nbformat": 4,
 "nbformat_minor": 4
}
