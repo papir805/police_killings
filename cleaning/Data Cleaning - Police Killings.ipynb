{
 "cells": [
  {
   "cell_type": "code",
   "execution_count": 2,
   "metadata": {},
   "outputs": [],
   "source": [
    "import pandas as pd\n",
    "import numpy as np\n",
    "import matplotlib.pyplot as plt\n",
    "import seaborn as sns\n",
    "from nameparser import HumanName\n",
    "%matplotlib inline\n",
    "\n",
    "killings = pd.read_csv('./csv_files/police_killings_original.csv')"
   ]
  },
  {
   "cell_type": "code",
   "execution_count": 167,
   "metadata": {},
   "outputs": [
    {
     "data": {
      "text/plain": [
       "(7642, 23)"
      ]
     },
     "execution_count": 167,
     "metadata": {},
     "output_type": "execute_result"
    }
   ],
   "source": [
    "killings.shape"
   ]
  },
  {
   "cell_type": "code",
   "execution_count": 4,
   "metadata": {},
   "outputs": [
    {
     "data": {
      "text/plain": [
       "(7663, 27)"
      ]
     },
     "execution_count": 4,
     "metadata": {},
     "output_type": "execute_result"
    }
   ],
   "source": [
    "killings.dropna(how='all', inplace=True)\n",
    "killings.dropna(how='all', axis=1, inplace=True)\n",
    "killings.shape"
   ]
  },
  {
   "cell_type": "code",
   "execution_count": 5,
   "metadata": {},
   "outputs": [
    {
     "data": {
      "text/plain": [
       "Victim's name                                                                                                                                                                  0.000000\n",
       "Victim's age                                                                                                                                                                   0.874331\n",
       "Victim's gender                                                                                                                                                                0.104398\n",
       "Victim's race                                                                                                                                                                  0.000000\n",
       "URL of image of victim                                                                                                                                                        45.191178\n",
       "Date of Incident (month/day/year)                                                                                                                                              0.000000\n",
       "Street Address of Incident                                                                                                                                                     1.083127\n",
       "City                                                                                                                                                                           0.078298\n",
       "State                                                                                                                                                                          0.000000\n",
       "Zipcode                                                                                                                                                                        0.508939\n",
       "County                                                                                                                                                                         0.195746\n",
       "Agency responsible for death                                                                                                                                                   0.208796\n",
       "Cause of death                                                                                                                                                                 0.000000\n",
       "A brief description of the circumstances surrounding the death                                                                                                                 0.260994\n",
       "Official disposition of death (justified or other)                                                                                                                             3.340728\n",
       "Criminal Charges?                                                                                                                                                              0.000000\n",
       "Link to news article or photo of official document                                                                                                                             0.156597\n",
       "Symptoms of mental illness?                                                                                                                                                    0.143547\n",
       "Unarmed                                                                                                                                                                        0.000000\n",
       "Alleged Weapon (Source: WaPo)                                                                                                                                                  0.000000\n",
       "Alleged Threat Level (Source: WaPo)                                                                                                                                           31.084432\n",
       "Fleeing (Source: WaPo)                                                                                                                                                        34.138066\n",
       "Body Camera (Source: WaPo)                                                                                                                                                    37.439645\n",
       "WaPo ID (If included in WaPo database)                                                                                                                                        36.343469\n",
       "Off-Duty Killing?                                                                                                                                                             97.050763\n",
       "Geography (via Trulia methodology based on zipcode population density: http://jedkolko.com/wp-content/uploads/2015/05/full-ZCTA-urban-suburban-rural-classification.xlsx )     0.874331\n",
       "ID                                                                                                                                                                             0.000000\n",
       "dtype: float64"
      ]
     },
     "execution_count": 5,
     "metadata": {},
     "output_type": "execute_result"
    }
   ],
   "source": [
    "(killings.isnull().sum() / len(killings)) * 100"
   ]
  },
  {
   "cell_type": "code",
   "execution_count": 6,
   "metadata": {},
   "outputs": [],
   "source": [
    "killings.drop(['Alleged Threat Level (Source: WaPo)', \n",
    "               'Fleeing (Source: WaPo)', \n",
    "               'Body Camera (Source: WaPo)', \n",
    "               'WaPo ID (If included in WaPo database)',\n",
    "              'Off-Duty Killing?',\n",
    "              'ID'], axis=1, inplace=True)"
   ]
  },
  {
   "cell_type": "code",
   "execution_count": 7,
   "metadata": {},
   "outputs": [
    {
     "data": {
      "text/plain": [
       "Index(['Victim's name', 'Victim's age', 'Victim's gender', 'Victim's race',\n",
       "       'URL of image of victim', 'Date of Incident (month/day/year)',\n",
       "       'Street Address of Incident', 'City', 'State', 'Zipcode', 'County',\n",
       "       'Agency responsible for death', 'Cause of death',\n",
       "       'A brief description of the circumstances surrounding the death',\n",
       "       'Official disposition of death (justified or other)',\n",
       "       'Criminal Charges?',\n",
       "       'Link to news article or photo of official document',\n",
       "       'Symptoms of mental illness?', 'Unarmed',\n",
       "       'Alleged Weapon (Source: WaPo)',\n",
       "       'Geography (via Trulia methodology based on zipcode population density: http://jedkolko.com/wp-content/uploads/2015/05/full-ZCTA-urban-suburban-rural-classification.xlsx )'],\n",
       "      dtype='object')"
      ]
     },
     "execution_count": 7,
     "metadata": {},
     "output_type": "execute_result"
    }
   ],
   "source": [
    "killings.columns"
   ]
  },
  {
   "cell_type": "code",
   "execution_count": 8,
   "metadata": {},
   "outputs": [],
   "source": [
    "killings.rename(columns={\n",
    "    \"Victim's name\":\"Victims Name\", \n",
    "    \"Victim's age\":\"Victims Age\", \n",
    "    \"Victim's gender\":\"Victims Gender\", \n",
    "    \"Victim's race\":\"Victims Race\", \n",
    "    \"Date of Incident (month/day/year)\":\"Date\", \n",
    "    \"A brief description of the circumstances surrounding the death\":\"Description of Circumstances\",\n",
    "    \"Official disposition of death (justified or other)\":\"Official Disposition of Death\",\n",
    "    \"Criminal Charges?\":\"Criminal Charges\", \n",
    "    'Link to news article or photo of official document':\"News Article Link\",\n",
    "    'Geography (via Trulia methodology based on zipcode population density: http://jedkolko.com/wp-content/uploads/2015/05/full-ZCTA-urban-suburban-rural-classification.xlsx )':'Geography Type',\n",
    "    'Alleged Weapon (Source: WaPo)':'Alleged Weapon'}, inplace=True)"
   ]
  },
  {
   "cell_type": "code",
   "execution_count": 9,
   "metadata": {},
   "outputs": [
    {
     "name": "stdout",
     "output_type": "stream",
     "text": [
      "<class 'pandas.core.frame.DataFrame'>\n",
      "Int64Index: 7663 entries, 0 to 7662\n",
      "Data columns (total 21 columns):\n",
      " #   Column                         Non-Null Count  Dtype  \n",
      "---  ------                         --------------  -----  \n",
      " 0   Victims Name                   7663 non-null   object \n",
      " 1   Victims Age                    7596 non-null   object \n",
      " 2   Victims Gender                 7655 non-null   object \n",
      " 3   Victims Race                   7663 non-null   object \n",
      " 4   URL of image of victim         4200 non-null   object \n",
      " 5   Date                           7663 non-null   object \n",
      " 6   Street Address of Incident     7580 non-null   object \n",
      " 7   City                           7657 non-null   object \n",
      " 8   State                          7663 non-null   object \n",
      " 9   Zipcode                        7624 non-null   float64\n",
      " 10  County                         7648 non-null   object \n",
      " 11  Agency responsible for death   7647 non-null   object \n",
      " 12  Cause of death                 7663 non-null   object \n",
      " 13  Description of Circumstances   7643 non-null   object \n",
      " 14  Official Disposition of Death  7407 non-null   object \n",
      " 15  Criminal Charges               7663 non-null   object \n",
      " 16  News Article Link              7651 non-null   object \n",
      " 17  Symptoms of mental illness?    7652 non-null   object \n",
      " 18  Unarmed                        7663 non-null   object \n",
      " 19  Alleged Weapon                 7663 non-null   object \n",
      " 20  Geography Type                 7596 non-null   object \n",
      "dtypes: float64(1), object(20)\n",
      "memory usage: 1.3+ MB\n"
     ]
    }
   ],
   "source": [
    "killings.info()"
   ]
  },
  {
   "cell_type": "code",
   "execution_count": 10,
   "metadata": {},
   "outputs": [],
   "source": [
    "killings[\"Date\"] = pd.to_datetime(killings[\"Date\"], infer_datetime_format=True)"
   ]
  },
  {
   "cell_type": "code",
   "execution_count": 11,
   "metadata": {},
   "outputs": [
    {
     "data": {
      "text/plain": [
       "Victims Name                        0\n",
       "Victims Age                        67\n",
       "Victims Gender                      8\n",
       "Victims Race                        0\n",
       "URL of image of victim           3463\n",
       "Date                                0\n",
       "Street Address of Incident         83\n",
       "City                                6\n",
       "State                               0\n",
       "Zipcode                            39\n",
       "County                             15\n",
       "Agency responsible for death       16\n",
       "Cause of death                      0\n",
       "Description of Circumstances       20\n",
       "Official Disposition of Death     256\n",
       "Criminal Charges                    0\n",
       "News Article Link                  12\n",
       "Symptoms of mental illness?        11\n",
       "Unarmed                             0\n",
       "Alleged Weapon                      0\n",
       "Geography Type                     67\n",
       "dtype: int64"
      ]
     },
     "execution_count": 11,
     "metadata": {},
     "output_type": "execute_result"
    }
   ],
   "source": [
    "killings.isnull().sum()"
   ]
  },
  {
   "cell_type": "code",
   "execution_count": 12,
   "metadata": {},
   "outputs": [
    {
     "data": {
      "text/plain": [
       "Victims Name                      0.000000\n",
       "Victims Age                       0.874331\n",
       "Victims Gender                    0.104398\n",
       "Victims Race                      0.000000\n",
       "URL of image of victim           45.191178\n",
       "Date                              0.000000\n",
       "Street Address of Incident        1.083127\n",
       "City                              0.078298\n",
       "State                             0.000000\n",
       "Zipcode                           0.508939\n",
       "County                            0.195746\n",
       "Agency responsible for death      0.208796\n",
       "Cause of death                    0.000000\n",
       "Description of Circumstances      0.260994\n",
       "Official Disposition of Death     3.340728\n",
       "Criminal Charges                  0.000000\n",
       "News Article Link                 0.156597\n",
       "Symptoms of mental illness?       0.143547\n",
       "Unarmed                           0.000000\n",
       "Alleged Weapon                    0.000000\n",
       "Geography Type                    0.874331\n",
       "dtype: float64"
      ]
     },
     "execution_count": 12,
     "metadata": {},
     "output_type": "execute_result"
    }
   ],
   "source": [
    "(killings.isnull().sum() / len(killings)) * 100"
   ]
  },
  {
   "cell_type": "code",
   "execution_count": 13,
   "metadata": {},
   "outputs": [],
   "source": [
    "# null_image = killings[killings['URL of image of victim'].isnull() == True].index\n",
    "# killings.loc[null_image,['URL of image of victim']] = 'None'\n",
    "killings['URL of image of victim'].fillna('None', inplace=True)"
   ]
  },
  {
   "cell_type": "code",
   "execution_count": 14,
   "metadata": {},
   "outputs": [
    {
     "data": {
      "text/plain": [
       "Victims Name                       0\n",
       "Victims Age                       67\n",
       "Victims Gender                     8\n",
       "Victims Race                       0\n",
       "URL of image of victim             0\n",
       "Date                               0\n",
       "Street Address of Incident        83\n",
       "City                               6\n",
       "State                              0\n",
       "Zipcode                           39\n",
       "County                            15\n",
       "Agency responsible for death      16\n",
       "Cause of death                     0\n",
       "Description of Circumstances      20\n",
       "Official Disposition of Death    256\n",
       "Criminal Charges                   0\n",
       "News Article Link                 12\n",
       "Symptoms of mental illness?       11\n",
       "Unarmed                            0\n",
       "Alleged Weapon                     0\n",
       "Geography Type                    67\n",
       "dtype: int64"
      ]
     },
     "execution_count": 14,
     "metadata": {},
     "output_type": "execute_result"
    }
   ],
   "source": [
    "killings.isnull().sum()"
   ]
  },
  {
   "cell_type": "code",
   "execution_count": 15,
   "metadata": {},
   "outputs": [
    {
     "data": {
      "text/html": [
       "<div>\n",
       "<style scoped>\n",
       "    .dataframe tbody tr th:only-of-type {\n",
       "        vertical-align: middle;\n",
       "    }\n",
       "\n",
       "    .dataframe tbody tr th {\n",
       "        vertical-align: top;\n",
       "    }\n",
       "\n",
       "    .dataframe thead th {\n",
       "        text-align: right;\n",
       "    }\n",
       "</style>\n",
       "<table border=\"1\" class=\"dataframe\">\n",
       "  <thead>\n",
       "    <tr style=\"text-align: right;\">\n",
       "      <th></th>\n",
       "      <th>Victims Name</th>\n",
       "      <th>Victims Age</th>\n",
       "      <th>Victims Gender</th>\n",
       "      <th>Victims Race</th>\n",
       "      <th>URL of image of victim</th>\n",
       "      <th>Date</th>\n",
       "      <th>Street Address of Incident</th>\n",
       "      <th>City</th>\n",
       "      <th>State</th>\n",
       "      <th>Zipcode</th>\n",
       "      <th>...</th>\n",
       "      <th>Agency responsible for death</th>\n",
       "      <th>Cause of death</th>\n",
       "      <th>Description of Circumstances</th>\n",
       "      <th>Official Disposition of Death</th>\n",
       "      <th>Criminal Charges</th>\n",
       "      <th>News Article Link</th>\n",
       "      <th>Symptoms of mental illness?</th>\n",
       "      <th>Unarmed</th>\n",
       "      <th>Alleged Weapon</th>\n",
       "      <th>Geography Type</th>\n",
       "    </tr>\n",
       "  </thead>\n",
       "  <tbody>\n",
       "    <tr>\n",
       "      <th>13</th>\n",
       "      <td>Name withheld by police</td>\n",
       "      <td>NaN</td>\n",
       "      <td>NaN</td>\n",
       "      <td>Unknown race</td>\n",
       "      <td>None</td>\n",
       "      <td>2019-12-29</td>\n",
       "      <td>3015 Old State Rd 25</td>\n",
       "      <td>Lafayette</td>\n",
       "      <td>IN</td>\n",
       "      <td>47905.0</td>\n",
       "      <td>...</td>\n",
       "      <td>Tippecanoe County Sheriff’s Office</td>\n",
       "      <td>Gunshot</td>\n",
       "      <td>Two men who were shot and killed at a Family E...</td>\n",
       "      <td>Pending investigation</td>\n",
       "      <td>No known charges</td>\n",
       "      <td>https://www.jconline.com/story/news/2019/12/30...</td>\n",
       "      <td>No</td>\n",
       "      <td>Allegedly Armed</td>\n",
       "      <td>gun</td>\n",
       "      <td>Urban</td>\n",
       "    </tr>\n",
       "    <tr>\n",
       "      <th>112</th>\n",
       "      <td>Name withheld by police</td>\n",
       "      <td>NaN</td>\n",
       "      <td>NaN</td>\n",
       "      <td>White</td>\n",
       "      <td>None</td>\n",
       "      <td>2019-11-29</td>\n",
       "      <td>38300 Mountain Hwy E</td>\n",
       "      <td>Eatonville</td>\n",
       "      <td>WA</td>\n",
       "      <td>98328.0</td>\n",
       "      <td>...</td>\n",
       "      <td>Pierce County Sheriff's Office</td>\n",
       "      <td>Gunshot</td>\n",
       "      <td>A man was reportedly chased from a driveway. W...</td>\n",
       "      <td>Pending investigation</td>\n",
       "      <td>No known charges</td>\n",
       "      <td>https://katu.com/news/local/sheriff-suspect-ki...</td>\n",
       "      <td>No</td>\n",
       "      <td>Unclear</td>\n",
       "      <td>undetermined</td>\n",
       "      <td>Rural</td>\n",
       "    </tr>\n",
       "    <tr>\n",
       "      <th>528</th>\n",
       "      <td>Dennis Edwards</td>\n",
       "      <td>NaN</td>\n",
       "      <td>NaN</td>\n",
       "      <td>White</td>\n",
       "      <td>None</td>\n",
       "      <td>2019-07-10</td>\n",
       "      <td>NaN</td>\n",
       "      <td>Kansas City</td>\n",
       "      <td>KS</td>\n",
       "      <td>NaN</td>\n",
       "      <td>...</td>\n",
       "      <td>NaN</td>\n",
       "      <td>Gunshot</td>\n",
       "      <td>NaN</td>\n",
       "      <td>Pending investigation</td>\n",
       "      <td>No known charges</td>\n",
       "      <td>NaN</td>\n",
       "      <td>NaN</td>\n",
       "      <td>Allegedly Armed</td>\n",
       "      <td>gun</td>\n",
       "      <td>NaN</td>\n",
       "    </tr>\n",
       "    <tr>\n",
       "      <th>774</th>\n",
       "      <td>Akeen Brown</td>\n",
       "      <td>NaN</td>\n",
       "      <td>NaN</td>\n",
       "      <td>Black</td>\n",
       "      <td>None</td>\n",
       "      <td>2019-04-17</td>\n",
       "      <td>NaN</td>\n",
       "      <td>Flint</td>\n",
       "      <td>MI</td>\n",
       "      <td>NaN</td>\n",
       "      <td>...</td>\n",
       "      <td>NaN</td>\n",
       "      <td>Gunshot</td>\n",
       "      <td>NaN</td>\n",
       "      <td>Pending investigation</td>\n",
       "      <td>No known charges</td>\n",
       "      <td>NaN</td>\n",
       "      <td>NaN</td>\n",
       "      <td>Allegedly Armed</td>\n",
       "      <td>gun</td>\n",
       "      <td>NaN</td>\n",
       "    </tr>\n",
       "    <tr>\n",
       "      <th>806</th>\n",
       "      <td>Name withheld by police</td>\n",
       "      <td>NaN</td>\n",
       "      <td>NaN</td>\n",
       "      <td>Hispanic</td>\n",
       "      <td>None</td>\n",
       "      <td>2019-04-06</td>\n",
       "      <td>NM-9</td>\n",
       "      <td>Santa Teresa</td>\n",
       "      <td>NM</td>\n",
       "      <td>88021.0</td>\n",
       "      <td>...</td>\n",
       "      <td>U.S. Customs and Border Protection</td>\n",
       "      <td>Vehicle</td>\n",
       "      <td>Robert Acevedo, 27, was charged with two count...</td>\n",
       "      <td>Criminal</td>\n",
       "      <td>No known charges</td>\n",
       "      <td>https://www.elpasotimes.com/story/news/immigra...</td>\n",
       "      <td>No</td>\n",
       "      <td>Vehicle</td>\n",
       "      <td>vehicle</td>\n",
       "      <td>Rural</td>\n",
       "    </tr>\n",
       "    <tr>\n",
       "      <th>807</th>\n",
       "      <td>Name withheld by police</td>\n",
       "      <td>NaN</td>\n",
       "      <td>NaN</td>\n",
       "      <td>Hispanic</td>\n",
       "      <td>None</td>\n",
       "      <td>2019-04-06</td>\n",
       "      <td>NM-9</td>\n",
       "      <td>Santa Teresa</td>\n",
       "      <td>NM</td>\n",
       "      <td>88021.0</td>\n",
       "      <td>...</td>\n",
       "      <td>U.S. Customs and Border Protection</td>\n",
       "      <td>Vehicle</td>\n",
       "      <td>Robert Acevedo, 27, was charged with two count...</td>\n",
       "      <td>Criminal</td>\n",
       "      <td>No known charges</td>\n",
       "      <td>https://www.elpasotimes.com/story/news/immigra...</td>\n",
       "      <td>No</td>\n",
       "      <td>Vehicle</td>\n",
       "      <td>vehicle</td>\n",
       "      <td>Rural</td>\n",
       "    </tr>\n",
       "    <tr>\n",
       "      <th>1017</th>\n",
       "      <td>Name withheld by police</td>\n",
       "      <td>NaN</td>\n",
       "      <td>NaN</td>\n",
       "      <td>Native American</td>\n",
       "      <td>None</td>\n",
       "      <td>2019-01-23</td>\n",
       "      <td>US-491</td>\n",
       "      <td>Naschitti</td>\n",
       "      <td>NM</td>\n",
       "      <td>87325.0</td>\n",
       "      <td>...</td>\n",
       "      <td>Navajo Police Department</td>\n",
       "      <td>Gunshot</td>\n",
       "      <td>Navajo Nation Police confirmed that a police o...</td>\n",
       "      <td>Pending investigation</td>\n",
       "      <td>No known charges</td>\n",
       "      <td>https://navajotimes.com/reznews/police-confirm...</td>\n",
       "      <td>No</td>\n",
       "      <td>Unclear</td>\n",
       "      <td>undetermined</td>\n",
       "      <td>Rural</td>\n",
       "    </tr>\n",
       "    <tr>\n",
       "      <th>1029</th>\n",
       "      <td>Jihad Merrick</td>\n",
       "      <td>NaN</td>\n",
       "      <td>NaN</td>\n",
       "      <td>Unknown race</td>\n",
       "      <td>None</td>\n",
       "      <td>2019-01-16</td>\n",
       "      <td>NaN</td>\n",
       "      <td>Nashua</td>\n",
       "      <td>IA</td>\n",
       "      <td>NaN</td>\n",
       "      <td>...</td>\n",
       "      <td>Bremer County Sheriff’s Office, Chickasaw Coun...</td>\n",
       "      <td>Gunshot</td>\n",
       "      <td>Officers then approached the vehicle and found...</td>\n",
       "      <td>Pending investigation</td>\n",
       "      <td>No known charges</td>\n",
       "      <td>https://wcfcourier.com/news/local/crime-and-co...</td>\n",
       "      <td>Yes</td>\n",
       "      <td>Vehicle</td>\n",
       "      <td>vehicle</td>\n",
       "      <td>NaN</td>\n",
       "    </tr>\n",
       "  </tbody>\n",
       "</table>\n",
       "<p>8 rows × 21 columns</p>\n",
       "</div>"
      ],
      "text/plain": [
       "                 Victims Name Victims Age Victims Gender     Victims Race  \\\n",
       "13    Name withheld by police         NaN            NaN     Unknown race   \n",
       "112   Name withheld by police         NaN            NaN            White   \n",
       "528            Dennis Edwards         NaN            NaN            White   \n",
       "774               Akeen Brown         NaN            NaN            Black   \n",
       "806   Name withheld by police         NaN            NaN         Hispanic   \n",
       "807   Name withheld by police         NaN            NaN         Hispanic   \n",
       "1017  Name withheld by police         NaN            NaN  Native American   \n",
       "1029            Jihad Merrick         NaN            NaN     Unknown race   \n",
       "\n",
       "     URL of image of victim       Date Street Address of Incident  \\\n",
       "13                     None 2019-12-29       3015 Old State Rd 25   \n",
       "112                    None 2019-11-29       38300 Mountain Hwy E   \n",
       "528                    None 2019-07-10                        NaN   \n",
       "774                    None 2019-04-17                        NaN   \n",
       "806                    None 2019-04-06                       NM-9   \n",
       "807                    None 2019-04-06                       NM-9   \n",
       "1017                   None 2019-01-23                     US-491   \n",
       "1029                   None 2019-01-16                        NaN   \n",
       "\n",
       "              City State  Zipcode  ...  \\\n",
       "13       Lafayette    IN  47905.0  ...   \n",
       "112     Eatonville    WA  98328.0  ...   \n",
       "528    Kansas City    KS      NaN  ...   \n",
       "774          Flint    MI      NaN  ...   \n",
       "806   Santa Teresa    NM  88021.0  ...   \n",
       "807   Santa Teresa    NM  88021.0  ...   \n",
       "1017     Naschitti    NM  87325.0  ...   \n",
       "1029        Nashua    IA      NaN  ...   \n",
       "\n",
       "                           Agency responsible for death Cause of death  \\\n",
       "13                   Tippecanoe County Sheriff’s Office        Gunshot   \n",
       "112                      Pierce County Sheriff's Office        Gunshot   \n",
       "528                                                 NaN        Gunshot   \n",
       "774                                                 NaN        Gunshot   \n",
       "806                  U.S. Customs and Border Protection        Vehicle   \n",
       "807                  U.S. Customs and Border Protection        Vehicle   \n",
       "1017                           Navajo Police Department        Gunshot   \n",
       "1029  Bremer County Sheriff’s Office, Chickasaw Coun...        Gunshot   \n",
       "\n",
       "                           Description of Circumstances  \\\n",
       "13    Two men who were shot and killed at a Family E...   \n",
       "112   A man was reportedly chased from a driveway. W...   \n",
       "528                                                 NaN   \n",
       "774                                                 NaN   \n",
       "806   Robert Acevedo, 27, was charged with two count...   \n",
       "807   Robert Acevedo, 27, was charged with two count...   \n",
       "1017  Navajo Nation Police confirmed that a police o...   \n",
       "1029  Officers then approached the vehicle and found...   \n",
       "\n",
       "     Official Disposition of Death  Criminal Charges  \\\n",
       "13           Pending investigation  No known charges   \n",
       "112          Pending investigation  No known charges   \n",
       "528          Pending investigation  No known charges   \n",
       "774          Pending investigation  No known charges   \n",
       "806                       Criminal  No known charges   \n",
       "807                       Criminal  No known charges   \n",
       "1017         Pending investigation  No known charges   \n",
       "1029         Pending investigation  No known charges   \n",
       "\n",
       "                                      News Article Link  \\\n",
       "13    https://www.jconline.com/story/news/2019/12/30...   \n",
       "112   https://katu.com/news/local/sheriff-suspect-ki...   \n",
       "528                                                 NaN   \n",
       "774                                                 NaN   \n",
       "806   https://www.elpasotimes.com/story/news/immigra...   \n",
       "807   https://www.elpasotimes.com/story/news/immigra...   \n",
       "1017  https://navajotimes.com/reznews/police-confirm...   \n",
       "1029  https://wcfcourier.com/news/local/crime-and-co...   \n",
       "\n",
       "     Symptoms of mental illness?          Unarmed Alleged Weapon  \\\n",
       "13                            No  Allegedly Armed            gun   \n",
       "112                           No          Unclear   undetermined   \n",
       "528                          NaN  Allegedly Armed            gun   \n",
       "774                          NaN  Allegedly Armed            gun   \n",
       "806                           No          Vehicle        vehicle   \n",
       "807                           No          Vehicle        vehicle   \n",
       "1017                          No          Unclear   undetermined   \n",
       "1029                         Yes          Vehicle        vehicle   \n",
       "\n",
       "     Geography Type  \n",
       "13            Urban  \n",
       "112           Rural  \n",
       "528             NaN  \n",
       "774             NaN  \n",
       "806           Rural  \n",
       "807           Rural  \n",
       "1017          Rural  \n",
       "1029            NaN  \n",
       "\n",
       "[8 rows x 21 columns]"
      ]
     },
     "execution_count": 15,
     "metadata": {},
     "output_type": "execute_result"
    }
   ],
   "source": [
    "killings[killings[\"Victims Gender\"].isnull()==True]"
   ]
  },
  {
   "cell_type": "code",
   "execution_count": 16,
   "metadata": {},
   "outputs": [
    {
     "data": {
      "text/plain": [
       "1029    https://wcfcourier.com/news/local/crime-and-co...\n",
       "2184    https://kchanews.com/2018/01/18/iowa-dci-to-in...\n",
       "Name: News Article Link, dtype: object"
      ]
     },
     "execution_count": 16,
     "metadata": {},
     "output_type": "execute_result"
    }
   ],
   "source": [
    "killings[killings['Victims Name']=='Jihad Merrick']['News Article Link']"
   ]
  },
  {
   "cell_type": "code",
   "execution_count": 17,
   "metadata": {},
   "outputs": [],
   "source": [
    "killings.drop(1029, inplace=True)"
   ]
  },
  {
   "cell_type": "code",
   "execution_count": 18,
   "metadata": {},
   "outputs": [],
   "source": [
    "killings.loc[528, 'Victims Gender'] = 'Male'\n",
    "killings.loc[774, 'Victims Gender'] = 'Male'"
   ]
  },
  {
   "cell_type": "code",
   "execution_count": 19,
   "metadata": {},
   "outputs": [
    {
     "data": {
      "text/plain": [
       "13      https://www.jconline.com/story/news/2019/12/30...\n",
       "112     https://katu.com/news/local/sheriff-suspect-ki...\n",
       "806     https://www.elpasotimes.com/story/news/immigra...\n",
       "807     https://www.elpasotimes.com/story/news/immigra...\n",
       "1017    https://navajotimes.com/reznews/police-confirm...\n",
       "Name: News Article Link, dtype: object"
      ]
     },
     "execution_count": 19,
     "metadata": {},
     "output_type": "execute_result"
    }
   ],
   "source": [
    "killings[killings[\"Victims Gender\"].isnull()==True]['News Article Link']"
   ]
  },
  {
   "cell_type": "code",
   "execution_count": 20,
   "metadata": {},
   "outputs": [],
   "source": [
    "killings['Victims Gender'].fillna('Unknown', inplace=True)"
   ]
  },
  {
   "cell_type": "code",
   "execution_count": 21,
   "metadata": {},
   "outputs": [
    {
     "data": {
      "text/plain": [
       "Victims Name                       0\n",
       "Victims Age                       66\n",
       "Victims Gender                     0\n",
       "Victims Race                       0\n",
       "URL of image of victim             0\n",
       "Date                               0\n",
       "Street Address of Incident        82\n",
       "City                               6\n",
       "State                              0\n",
       "Zipcode                           38\n",
       "County                            15\n",
       "Agency responsible for death      16\n",
       "Cause of death                     0\n",
       "Description of Circumstances      20\n",
       "Official Disposition of Death    256\n",
       "Criminal Charges                   0\n",
       "News Article Link                 12\n",
       "Symptoms of mental illness?       11\n",
       "Unarmed                            0\n",
       "Alleged Weapon                     0\n",
       "Geography Type                    66\n",
       "dtype: int64"
      ]
     },
     "execution_count": 21,
     "metadata": {},
     "output_type": "execute_result"
    }
   ],
   "source": [
    "killings.isnull().sum()"
   ]
  },
  {
   "cell_type": "code",
   "execution_count": 22,
   "metadata": {},
   "outputs": [
    {
     "data": {
      "text/html": [
       "<div>\n",
       "<style scoped>\n",
       "    .dataframe tbody tr th:only-of-type {\n",
       "        vertical-align: middle;\n",
       "    }\n",
       "\n",
       "    .dataframe tbody tr th {\n",
       "        vertical-align: top;\n",
       "    }\n",
       "\n",
       "    .dataframe thead th {\n",
       "        text-align: right;\n",
       "    }\n",
       "</style>\n",
       "<table border=\"1\" class=\"dataframe\">\n",
       "  <thead>\n",
       "    <tr style=\"text-align: right;\">\n",
       "      <th></th>\n",
       "      <th>Victims Name</th>\n",
       "      <th>Victims Age</th>\n",
       "      <th>Victims Gender</th>\n",
       "      <th>Victims Race</th>\n",
       "      <th>URL of image of victim</th>\n",
       "      <th>Date</th>\n",
       "      <th>Street Address of Incident</th>\n",
       "      <th>City</th>\n",
       "      <th>State</th>\n",
       "      <th>Zipcode</th>\n",
       "      <th>...</th>\n",
       "      <th>Agency responsible for death</th>\n",
       "      <th>Cause of death</th>\n",
       "      <th>Description of Circumstances</th>\n",
       "      <th>Official Disposition of Death</th>\n",
       "      <th>Criminal Charges</th>\n",
       "      <th>News Article Link</th>\n",
       "      <th>Symptoms of mental illness?</th>\n",
       "      <th>Unarmed</th>\n",
       "      <th>Alleged Weapon</th>\n",
       "      <th>Geography Type</th>\n",
       "    </tr>\n",
       "  </thead>\n",
       "  <tbody>\n",
       "    <tr>\n",
       "      <th>455</th>\n",
       "      <td>William Biggs</td>\n",
       "      <td>43</td>\n",
       "      <td>Male</td>\n",
       "      <td>White</td>\n",
       "      <td>None</td>\n",
       "      <td>2019-08-05</td>\n",
       "      <td>NaN</td>\n",
       "      <td>Edray</td>\n",
       "      <td>WV</td>\n",
       "      <td>24954.0</td>\n",
       "      <td>...</td>\n",
       "      <td>West Virginia State Police</td>\n",
       "      <td>Gunshot</td>\n",
       "      <td>At approximately 6 p.m., Pocahontas County She...</td>\n",
       "      <td>Pending investigation</td>\n",
       "      <td>No known charges</td>\n",
       "      <td>https://www.wboy.com/news/crime/suspect-dead-a...</td>\n",
       "      <td>No</td>\n",
       "      <td>Allegedly Armed</td>\n",
       "      <td>gun</td>\n",
       "      <td>Rural</td>\n",
       "    </tr>\n",
       "    <tr>\n",
       "      <th>528</th>\n",
       "      <td>Dennis Edwards</td>\n",
       "      <td>NaN</td>\n",
       "      <td>Male</td>\n",
       "      <td>White</td>\n",
       "      <td>None</td>\n",
       "      <td>2019-07-10</td>\n",
       "      <td>NaN</td>\n",
       "      <td>Kansas City</td>\n",
       "      <td>KS</td>\n",
       "      <td>NaN</td>\n",
       "      <td>...</td>\n",
       "      <td>NaN</td>\n",
       "      <td>Gunshot</td>\n",
       "      <td>NaN</td>\n",
       "      <td>Pending investigation</td>\n",
       "      <td>No known charges</td>\n",
       "      <td>NaN</td>\n",
       "      <td>NaN</td>\n",
       "      <td>Allegedly Armed</td>\n",
       "      <td>gun</td>\n",
       "      <td>NaN</td>\n",
       "    </tr>\n",
       "    <tr>\n",
       "      <th>745</th>\n",
       "      <td>Shawna Widemann</td>\n",
       "      <td>49</td>\n",
       "      <td>Female</td>\n",
       "      <td>Asian</td>\n",
       "      <td>None</td>\n",
       "      <td>2019-04-29</td>\n",
       "      <td>NaN</td>\n",
       "      <td>Hemphill</td>\n",
       "      <td>WV</td>\n",
       "      <td>24801.0</td>\n",
       "      <td>...</td>\n",
       "      <td>West Virginia State Police</td>\n",
       "      <td>Gunshot</td>\n",
       "      <td>At 9:10 p.m., troopers received a 911 call abo...</td>\n",
       "      <td>Pending investigation</td>\n",
       "      <td>No known charges</td>\n",
       "      <td>https://www.bdtonline.com/news/woman-killed-in...</td>\n",
       "      <td>Unknown</td>\n",
       "      <td>Unclear</td>\n",
       "      <td>hammer</td>\n",
       "      <td>Rural</td>\n",
       "    </tr>\n",
       "    <tr>\n",
       "      <th>750</th>\n",
       "      <td>Name withheld by police</td>\n",
       "      <td>NaN</td>\n",
       "      <td>Female</td>\n",
       "      <td>Unknown race</td>\n",
       "      <td>None</td>\n",
       "      <td>2019-04-28</td>\n",
       "      <td>NaN</td>\n",
       "      <td>Welch</td>\n",
       "      <td>WV</td>\n",
       "      <td>24801.0</td>\n",
       "      <td>...</td>\n",
       "      <td>West Virginia State Police</td>\n",
       "      <td>Gunshot</td>\n",
       "      <td>Two troopers shot and killed a woman. Details ...</td>\n",
       "      <td>Pending investigation</td>\n",
       "      <td>No known charges</td>\n",
       "      <td>https://www.wboy.com/top-stories/suspect-kille...</td>\n",
       "      <td>No</td>\n",
       "      <td>Unclear</td>\n",
       "      <td>unclear</td>\n",
       "      <td>Rural</td>\n",
       "    </tr>\n",
       "    <tr>\n",
       "      <th>774</th>\n",
       "      <td>Akeen Brown</td>\n",
       "      <td>NaN</td>\n",
       "      <td>Male</td>\n",
       "      <td>Black</td>\n",
       "      <td>None</td>\n",
       "      <td>2019-04-17</td>\n",
       "      <td>NaN</td>\n",
       "      <td>Flint</td>\n",
       "      <td>MI</td>\n",
       "      <td>NaN</td>\n",
       "      <td>...</td>\n",
       "      <td>NaN</td>\n",
       "      <td>Gunshot</td>\n",
       "      <td>NaN</td>\n",
       "      <td>Pending investigation</td>\n",
       "      <td>No known charges</td>\n",
       "      <td>NaN</td>\n",
       "      <td>NaN</td>\n",
       "      <td>Allegedly Armed</td>\n",
       "      <td>gun</td>\n",
       "      <td>NaN</td>\n",
       "    </tr>\n",
       "    <tr>\n",
       "      <th>...</th>\n",
       "      <td>...</td>\n",
       "      <td>...</td>\n",
       "      <td>...</td>\n",
       "      <td>...</td>\n",
       "      <td>...</td>\n",
       "      <td>...</td>\n",
       "      <td>...</td>\n",
       "      <td>...</td>\n",
       "      <td>...</td>\n",
       "      <td>...</td>\n",
       "      <td>...</td>\n",
       "      <td>...</td>\n",
       "      <td>...</td>\n",
       "      <td>...</td>\n",
       "      <td>...</td>\n",
       "      <td>...</td>\n",
       "      <td>...</td>\n",
       "      <td>...</td>\n",
       "      <td>...</td>\n",
       "      <td>...</td>\n",
       "      <td>...</td>\n",
       "    </tr>\n",
       "    <tr>\n",
       "      <th>7007</th>\n",
       "      <td>Warren G. Cipriano</td>\n",
       "      <td>30</td>\n",
       "      <td>Male</td>\n",
       "      <td>Unknown race</td>\n",
       "      <td>None</td>\n",
       "      <td>2013-07-28</td>\n",
       "      <td>NaN</td>\n",
       "      <td>Gila Bend</td>\n",
       "      <td>AZ</td>\n",
       "      <td>85337.0</td>\n",
       "      <td>...</td>\n",
       "      <td>Maricopa County Sheriff's Office</td>\n",
       "      <td>Gunshot</td>\n",
       "      <td>An off-duty sheriff's deputy shot and killed a...</td>\n",
       "      <td>Unreported</td>\n",
       "      <td>No known charges</td>\n",
       "      <td>http://www.myfoxphoenix.com/story/22961570/201...</td>\n",
       "      <td>No</td>\n",
       "      <td>Allegedly Armed</td>\n",
       "      <td>baseball bat</td>\n",
       "      <td>Rural</td>\n",
       "    </tr>\n",
       "    <tr>\n",
       "      <th>7099</th>\n",
       "      <td>Marcial Martinez-Ramirez</td>\n",
       "      <td>62</td>\n",
       "      <td>Male</td>\n",
       "      <td>Hispanic</td>\n",
       "      <td>None</td>\n",
       "      <td>2013-06-29</td>\n",
       "      <td>NaN</td>\n",
       "      <td>Miami</td>\n",
       "      <td>FL</td>\n",
       "      <td>NaN</td>\n",
       "      <td>...</td>\n",
       "      <td>Miami-Dade Police Department</td>\n",
       "      <td>Gunshot</td>\n",
       "      <td>At about 9 p.m., police were summoned to a dis...</td>\n",
       "      <td>Unreported</td>\n",
       "      <td>No known charges</td>\n",
       "      <td>http://www.tampabay.com/projects/2017/investig...</td>\n",
       "      <td>No</td>\n",
       "      <td>Allegedly Armed</td>\n",
       "      <td>knife</td>\n",
       "      <td>NaN</td>\n",
       "    </tr>\n",
       "    <tr>\n",
       "      <th>7461</th>\n",
       "      <td>Jose Cruz</td>\n",
       "      <td>16</td>\n",
       "      <td>Male</td>\n",
       "      <td>Hispanic</td>\n",
       "      <td>None</td>\n",
       "      <td>2013-03-13</td>\n",
       "      <td>NaN</td>\n",
       "      <td>Addison</td>\n",
       "      <td>TX</td>\n",
       "      <td>NaN</td>\n",
       "      <td>...</td>\n",
       "      <td>Farmer's Branch Police Department</td>\n",
       "      <td>Gunshot</td>\n",
       "      <td>Teenagers tried to escape in Cruz's red Dodge ...</td>\n",
       "      <td>Charged with murder and aggravated assault</td>\n",
       "      <td>Charged with a crime</td>\n",
       "      <td>https://www.dallasnews.com/news/crime/2016/09/...</td>\n",
       "      <td>No</td>\n",
       "      <td>Unarmed</td>\n",
       "      <td>unarmed</td>\n",
       "      <td>NaN</td>\n",
       "    </tr>\n",
       "    <tr>\n",
       "      <th>7551</th>\n",
       "      <td>Jonathan Tims</td>\n",
       "      <td>27</td>\n",
       "      <td>Male</td>\n",
       "      <td>White</td>\n",
       "      <td>http://www.imbodenlive.com/wp-content/uploads/...</td>\n",
       "      <td>2013-02-07</td>\n",
       "      <td>NaN</td>\n",
       "      <td>Pocahontas</td>\n",
       "      <td>AR</td>\n",
       "      <td>72455.0</td>\n",
       "      <td>...</td>\n",
       "      <td>Pocahontas Police Department</td>\n",
       "      <td>Gunshot</td>\n",
       "      <td>Pocahontas officers were investigating a repor...</td>\n",
       "      <td>Justified</td>\n",
       "      <td>No known charges</td>\n",
       "      <td>http://www.imbodenlive.com/2013/03/06/pocahont...</td>\n",
       "      <td>Unknown</td>\n",
       "      <td>Allegedly Armed</td>\n",
       "      <td>gun</td>\n",
       "      <td>Rural</td>\n",
       "    </tr>\n",
       "    <tr>\n",
       "      <th>7554</th>\n",
       "      <td>Jimmy Lee Dykes</td>\n",
       "      <td>65</td>\n",
       "      <td>Male</td>\n",
       "      <td>White</td>\n",
       "      <td>http://i.dailymail.co.uk/i/pix/2013/02/01/arti...</td>\n",
       "      <td>2013-02-04</td>\n",
       "      <td>NaN</td>\n",
       "      <td>Midland City</td>\n",
       "      <td>AL</td>\n",
       "      <td>36350.0</td>\n",
       "      <td>...</td>\n",
       "      <td>Federal Bureau of Investigation</td>\n",
       "      <td>Gunshot</td>\n",
       "      <td>Six days earlier, subject killed a school bus ...</td>\n",
       "      <td>Unknown</td>\n",
       "      <td>No known charges</td>\n",
       "      <td>http://www.nydailynews.com/news/national/alaba...</td>\n",
       "      <td>Yes</td>\n",
       "      <td>Allegedly Armed</td>\n",
       "      <td>unknown weapon</td>\n",
       "      <td>Rural</td>\n",
       "    </tr>\n",
       "  </tbody>\n",
       "</table>\n",
       "<p>82 rows × 21 columns</p>\n",
       "</div>"
      ],
      "text/plain": [
       "                  Victims Name Victims Age Victims Gender  Victims Race  \\\n",
       "455              William Biggs          43           Male         White   \n",
       "528             Dennis Edwards         NaN           Male         White   \n",
       "745            Shawna Widemann          49         Female         Asian   \n",
       "750    Name withheld by police         NaN         Female  Unknown race   \n",
       "774                Akeen Brown         NaN           Male         Black   \n",
       "...                        ...         ...            ...           ...   \n",
       "7007        Warren G. Cipriano          30           Male  Unknown race   \n",
       "7099  Marcial Martinez-Ramirez          62           Male      Hispanic   \n",
       "7461                 Jose Cruz          16           Male      Hispanic   \n",
       "7551             Jonathan Tims          27           Male         White   \n",
       "7554           Jimmy Lee Dykes          65           Male         White   \n",
       "\n",
       "                                 URL of image of victim       Date  \\\n",
       "455                                                None 2019-08-05   \n",
       "528                                                None 2019-07-10   \n",
       "745                                                None 2019-04-29   \n",
       "750                                                None 2019-04-28   \n",
       "774                                                None 2019-04-17   \n",
       "...                                                 ...        ...   \n",
       "7007                                               None 2013-07-28   \n",
       "7099                                               None 2013-06-29   \n",
       "7461                                               None 2013-03-13   \n",
       "7551  http://www.imbodenlive.com/wp-content/uploads/... 2013-02-07   \n",
       "7554  http://i.dailymail.co.uk/i/pix/2013/02/01/arti... 2013-02-04   \n",
       "\n",
       "     Street Address of Incident          City State  Zipcode  ...  \\\n",
       "455                         NaN         Edray    WV  24954.0  ...   \n",
       "528                         NaN   Kansas City    KS      NaN  ...   \n",
       "745                         NaN      Hemphill    WV  24801.0  ...   \n",
       "750                         NaN         Welch    WV  24801.0  ...   \n",
       "774                         NaN         Flint    MI      NaN  ...   \n",
       "...                         ...           ...   ...      ...  ...   \n",
       "7007                        NaN     Gila Bend    AZ  85337.0  ...   \n",
       "7099                        NaN         Miami    FL      NaN  ...   \n",
       "7461                        NaN       Addison    TX      NaN  ...   \n",
       "7551                        NaN    Pocahontas    AR  72455.0  ...   \n",
       "7554                        NaN  Midland City    AL  36350.0  ...   \n",
       "\n",
       "           Agency responsible for death Cause of death  \\\n",
       "455          West Virginia State Police        Gunshot   \n",
       "528                                 NaN        Gunshot   \n",
       "745          West Virginia State Police        Gunshot   \n",
       "750          West Virginia State Police        Gunshot   \n",
       "774                                 NaN        Gunshot   \n",
       "...                                 ...            ...   \n",
       "7007   Maricopa County Sheriff's Office        Gunshot   \n",
       "7099       Miami-Dade Police Department        Gunshot   \n",
       "7461  Farmer's Branch Police Department        Gunshot   \n",
       "7551       Pocahontas Police Department        Gunshot   \n",
       "7554    Federal Bureau of Investigation        Gunshot   \n",
       "\n",
       "                           Description of Circumstances  \\\n",
       "455   At approximately 6 p.m., Pocahontas County She...   \n",
       "528                                                 NaN   \n",
       "745   At 9:10 p.m., troopers received a 911 call abo...   \n",
       "750   Two troopers shot and killed a woman. Details ...   \n",
       "774                                                 NaN   \n",
       "...                                                 ...   \n",
       "7007  An off-duty sheriff's deputy shot and killed a...   \n",
       "7099  At about 9 p.m., police were summoned to a dis...   \n",
       "7461  Teenagers tried to escape in Cruz's red Dodge ...   \n",
       "7551  Pocahontas officers were investigating a repor...   \n",
       "7554  Six days earlier, subject killed a school bus ...   \n",
       "\n",
       "                   Official Disposition of Death      Criminal Charges  \\\n",
       "455                        Pending investigation      No known charges   \n",
       "528                        Pending investigation      No known charges   \n",
       "745                        Pending investigation      No known charges   \n",
       "750                        Pending investigation      No known charges   \n",
       "774                        Pending investigation      No known charges   \n",
       "...                                          ...                   ...   \n",
       "7007                                  Unreported      No known charges   \n",
       "7099                                  Unreported      No known charges   \n",
       "7461  Charged with murder and aggravated assault  Charged with a crime   \n",
       "7551                                   Justified      No known charges   \n",
       "7554                                     Unknown      No known charges   \n",
       "\n",
       "                                      News Article Link  \\\n",
       "455   https://www.wboy.com/news/crime/suspect-dead-a...   \n",
       "528                                                 NaN   \n",
       "745   https://www.bdtonline.com/news/woman-killed-in...   \n",
       "750   https://www.wboy.com/top-stories/suspect-kille...   \n",
       "774                                                 NaN   \n",
       "...                                                 ...   \n",
       "7007  http://www.myfoxphoenix.com/story/22961570/201...   \n",
       "7099  http://www.tampabay.com/projects/2017/investig...   \n",
       "7461  https://www.dallasnews.com/news/crime/2016/09/...   \n",
       "7551  http://www.imbodenlive.com/2013/03/06/pocahont...   \n",
       "7554  http://www.nydailynews.com/news/national/alaba...   \n",
       "\n",
       "     Symptoms of mental illness?          Unarmed  Alleged Weapon  \\\n",
       "455                           No  Allegedly Armed             gun   \n",
       "528                          NaN  Allegedly Armed             gun   \n",
       "745                      Unknown          Unclear          hammer   \n",
       "750                           No          Unclear         unclear   \n",
       "774                          NaN  Allegedly Armed             gun   \n",
       "...                          ...              ...             ...   \n",
       "7007                          No  Allegedly Armed    baseball bat   \n",
       "7099                          No  Allegedly Armed           knife   \n",
       "7461                          No          Unarmed         unarmed   \n",
       "7551                     Unknown  Allegedly Armed             gun   \n",
       "7554                         Yes  Allegedly Armed  unknown weapon   \n",
       "\n",
       "     Geography Type  \n",
       "455           Rural  \n",
       "528             NaN  \n",
       "745           Rural  \n",
       "750           Rural  \n",
       "774             NaN  \n",
       "...             ...  \n",
       "7007          Rural  \n",
       "7099            NaN  \n",
       "7461            NaN  \n",
       "7551          Rural  \n",
       "7554          Rural  \n",
       "\n",
       "[82 rows x 21 columns]"
      ]
     },
     "execution_count": 22,
     "metadata": {},
     "output_type": "execute_result"
    }
   ],
   "source": [
    "killings[killings[\"Street Address of Incident\"].isnull() == True]"
   ]
  },
  {
   "cell_type": "code",
   "execution_count": 23,
   "metadata": {},
   "outputs": [],
   "source": [
    "# null_streets = killings[killings[\"Street Address of Incident\"].isnull() == True].index\n",
    "# killings.loc[null_streets, 'Street Address of Incident'] = 'None'\n",
    "killings['Street Address of Incident'].fillna('None', inplace=True)"
   ]
  },
  {
   "cell_type": "code",
   "execution_count": 24,
   "metadata": {},
   "outputs": [
    {
     "data": {
      "text/plain": [
       "Victims Name                       0\n",
       "Victims Age                       66\n",
       "Victims Gender                     0\n",
       "Victims Race                       0\n",
       "URL of image of victim             0\n",
       "Date                               0\n",
       "Street Address of Incident         0\n",
       "City                               6\n",
       "State                              0\n",
       "Zipcode                           38\n",
       "County                            15\n",
       "Agency responsible for death      16\n",
       "Cause of death                     0\n",
       "Description of Circumstances      20\n",
       "Official Disposition of Death    256\n",
       "Criminal Charges                   0\n",
       "News Article Link                 12\n",
       "Symptoms of mental illness?       11\n",
       "Unarmed                            0\n",
       "Alleged Weapon                     0\n",
       "Geography Type                    66\n",
       "dtype: int64"
      ]
     },
     "execution_count": 24,
     "metadata": {},
     "output_type": "execute_result"
    }
   ],
   "source": [
    "killings.isnull().sum()"
   ]
  },
  {
   "cell_type": "code",
   "execution_count": 25,
   "metadata": {},
   "outputs": [
    {
     "data": {
      "text/html": [
       "<div>\n",
       "<style scoped>\n",
       "    .dataframe tbody tr th:only-of-type {\n",
       "        vertical-align: middle;\n",
       "    }\n",
       "\n",
       "    .dataframe tbody tr th {\n",
       "        vertical-align: top;\n",
       "    }\n",
       "\n",
       "    .dataframe thead th {\n",
       "        text-align: right;\n",
       "    }\n",
       "</style>\n",
       "<table border=\"1\" class=\"dataframe\">\n",
       "  <thead>\n",
       "    <tr style=\"text-align: right;\">\n",
       "      <th></th>\n",
       "      <th>City</th>\n",
       "      <th>State</th>\n",
       "      <th>Zipcode</th>\n",
       "    </tr>\n",
       "  </thead>\n",
       "  <tbody>\n",
       "    <tr>\n",
       "      <th>1755</th>\n",
       "      <td>NaN</td>\n",
       "      <td>ID</td>\n",
       "      <td>NaN</td>\n",
       "    </tr>\n",
       "    <tr>\n",
       "      <th>3339</th>\n",
       "      <td>NaN</td>\n",
       "      <td>FL</td>\n",
       "      <td>34639.0</td>\n",
       "    </tr>\n",
       "    <tr>\n",
       "      <th>3344</th>\n",
       "      <td>NaN</td>\n",
       "      <td>TX</td>\n",
       "      <td>NaN</td>\n",
       "    </tr>\n",
       "    <tr>\n",
       "      <th>3475</th>\n",
       "      <td>NaN</td>\n",
       "      <td>CO</td>\n",
       "      <td>NaN</td>\n",
       "    </tr>\n",
       "    <tr>\n",
       "      <th>5561</th>\n",
       "      <td>NaN</td>\n",
       "      <td>FL</td>\n",
       "      <td>32259.0</td>\n",
       "    </tr>\n",
       "    <tr>\n",
       "      <th>6511</th>\n",
       "      <td>NaN</td>\n",
       "      <td>AZ</td>\n",
       "      <td>85607.0</td>\n",
       "    </tr>\n",
       "  </tbody>\n",
       "</table>\n",
       "</div>"
      ],
      "text/plain": [
       "     City State  Zipcode\n",
       "1755  NaN    ID      NaN\n",
       "3339  NaN    FL  34639.0\n",
       "3344  NaN    TX      NaN\n",
       "3475  NaN    CO      NaN\n",
       "5561  NaN    FL  32259.0\n",
       "6511  NaN    AZ  85607.0"
      ]
     },
     "execution_count": 25,
     "metadata": {},
     "output_type": "execute_result"
    }
   ],
   "source": [
    "killings.loc[killings['City'].isnull()==True,['City', 'State', 'Zipcode']]"
   ]
  },
  {
   "cell_type": "code",
   "execution_count": 26,
   "metadata": {},
   "outputs": [],
   "source": [
    "killings.loc[3339, 'City'] = \"Land O' Lakes\"\n",
    "killings.loc[5561, 'City'] = \"Jacksonville\"\n",
    "killings.loc[6511, 'City'] = \"Douglas\""
   ]
  },
  {
   "cell_type": "code",
   "execution_count": 27,
   "metadata": {},
   "outputs": [
    {
     "data": {
      "text/html": [
       "<div>\n",
       "<style scoped>\n",
       "    .dataframe tbody tr th:only-of-type {\n",
       "        vertical-align: middle;\n",
       "    }\n",
       "\n",
       "    .dataframe tbody tr th {\n",
       "        vertical-align: top;\n",
       "    }\n",
       "\n",
       "    .dataframe thead th {\n",
       "        text-align: right;\n",
       "    }\n",
       "</style>\n",
       "<table border=\"1\" class=\"dataframe\">\n",
       "  <thead>\n",
       "    <tr style=\"text-align: right;\">\n",
       "      <th></th>\n",
       "      <th>Victims Name</th>\n",
       "      <th>Victims Age</th>\n",
       "      <th>Victims Gender</th>\n",
       "      <th>Victims Race</th>\n",
       "      <th>URL of image of victim</th>\n",
       "      <th>Date</th>\n",
       "      <th>Street Address of Incident</th>\n",
       "      <th>City</th>\n",
       "      <th>State</th>\n",
       "      <th>Zipcode</th>\n",
       "      <th>...</th>\n",
       "      <th>Agency responsible for death</th>\n",
       "      <th>Cause of death</th>\n",
       "      <th>Description of Circumstances</th>\n",
       "      <th>Official Disposition of Death</th>\n",
       "      <th>Criminal Charges</th>\n",
       "      <th>News Article Link</th>\n",
       "      <th>Symptoms of mental illness?</th>\n",
       "      <th>Unarmed</th>\n",
       "      <th>Alleged Weapon</th>\n",
       "      <th>Geography Type</th>\n",
       "    </tr>\n",
       "  </thead>\n",
       "  <tbody>\n",
       "    <tr>\n",
       "      <th>1755</th>\n",
       "      <td>Name withheld by police</td>\n",
       "      <td>Unknown</td>\n",
       "      <td>Male</td>\n",
       "      <td>Unknown race</td>\n",
       "      <td>None</td>\n",
       "      <td>2018-05-25</td>\n",
       "      <td>None</td>\n",
       "      <td>NaN</td>\n",
       "      <td>ID</td>\n",
       "      <td>NaN</td>\n",
       "      <td>...</td>\n",
       "      <td>Elmore County Sheriff's Office</td>\n",
       "      <td>Gunshot</td>\n",
       "      <td>Around 8:50 a.m., deputies responded to a repo...</td>\n",
       "      <td>Pending investigation</td>\n",
       "      <td>No known charges</td>\n",
       "      <td>https://www.kivitv.com/news/1-man-killed-in-of...</td>\n",
       "      <td>No</td>\n",
       "      <td>Allegedly Armed</td>\n",
       "      <td>knife</td>\n",
       "      <td>NaN</td>\n",
       "    </tr>\n",
       "    <tr>\n",
       "      <th>3344</th>\n",
       "      <td>Jake Childers</td>\n",
       "      <td>36</td>\n",
       "      <td>Male</td>\n",
       "      <td>White</td>\n",
       "      <td>None</td>\n",
       "      <td>2016-12-27</td>\n",
       "      <td>None</td>\n",
       "      <td>NaN</td>\n",
       "      <td>TX</td>\n",
       "      <td>NaN</td>\n",
       "      <td>...</td>\n",
       "      <td>Texas Department of Public Safety</td>\n",
       "      <td>Gunshot</td>\n",
       "      <td>Jake Childers, an escaped inmate, went down af...</td>\n",
       "      <td>Pending investigation</td>\n",
       "      <td>No known charges</td>\n",
       "      <td>http://www.caller.com/story/news/crime/2016/12...</td>\n",
       "      <td>Unknown</td>\n",
       "      <td>Allegedly Armed</td>\n",
       "      <td>gun</td>\n",
       "      <td>NaN</td>\n",
       "    </tr>\n",
       "    <tr>\n",
       "      <th>3475</th>\n",
       "      <td>William Ray Score Jr.</td>\n",
       "      <td>47</td>\n",
       "      <td>Male</td>\n",
       "      <td>White</td>\n",
       "      <td>http://ak-cache.legacy.net/legacy/images/cobra...</td>\n",
       "      <td>2016-11-11</td>\n",
       "      <td>None</td>\n",
       "      <td>NaN</td>\n",
       "      <td>CO</td>\n",
       "      <td>NaN</td>\n",
       "      <td>...</td>\n",
       "      <td>Montrose County Sheriff's Office</td>\n",
       "      <td>Gunshot</td>\n",
       "      <td>William Ray Score Jr. died of a “distant” guns...</td>\n",
       "      <td>Pending investigation</td>\n",
       "      <td>No known charges</td>\n",
       "      <td>http://www.denverpost.com/2016/11/15/loveland-...</td>\n",
       "      <td>Unknown</td>\n",
       "      <td>Allegedly Armed</td>\n",
       "      <td>gun</td>\n",
       "      <td>NaN</td>\n",
       "    </tr>\n",
       "  </tbody>\n",
       "</table>\n",
       "<p>3 rows × 21 columns</p>\n",
       "</div>"
      ],
      "text/plain": [
       "                 Victims Name Victims Age Victims Gender  Victims Race  \\\n",
       "1755  Name withheld by police     Unknown           Male  Unknown race   \n",
       "3344            Jake Childers          36           Male         White   \n",
       "3475    William Ray Score Jr.          47           Male         White   \n",
       "\n",
       "                                 URL of image of victim       Date  \\\n",
       "1755                                               None 2018-05-25   \n",
       "3344                                               None 2016-12-27   \n",
       "3475  http://ak-cache.legacy.net/legacy/images/cobra... 2016-11-11   \n",
       "\n",
       "     Street Address of Incident City State  Zipcode  ...  \\\n",
       "1755                       None  NaN    ID      NaN  ...   \n",
       "3344                       None  NaN    TX      NaN  ...   \n",
       "3475                       None  NaN    CO      NaN  ...   \n",
       "\n",
       "           Agency responsible for death Cause of death  \\\n",
       "1755     Elmore County Sheriff's Office        Gunshot   \n",
       "3344  Texas Department of Public Safety        Gunshot   \n",
       "3475   Montrose County Sheriff's Office        Gunshot   \n",
       "\n",
       "                           Description of Circumstances  \\\n",
       "1755  Around 8:50 a.m., deputies responded to a repo...   \n",
       "3344  Jake Childers, an escaped inmate, went down af...   \n",
       "3475  William Ray Score Jr. died of a “distant” guns...   \n",
       "\n",
       "     Official Disposition of Death  Criminal Charges  \\\n",
       "1755         Pending investigation  No known charges   \n",
       "3344         Pending investigation  No known charges   \n",
       "3475         Pending investigation  No known charges   \n",
       "\n",
       "                                      News Article Link  \\\n",
       "1755  https://www.kivitv.com/news/1-man-killed-in-of...   \n",
       "3344  http://www.caller.com/story/news/crime/2016/12...   \n",
       "3475  http://www.denverpost.com/2016/11/15/loveland-...   \n",
       "\n",
       "     Symptoms of mental illness?          Unarmed Alleged Weapon  \\\n",
       "1755                          No  Allegedly Armed          knife   \n",
       "3344                     Unknown  Allegedly Armed            gun   \n",
       "3475                     Unknown  Allegedly Armed            gun   \n",
       "\n",
       "     Geography Type  \n",
       "1755            NaN  \n",
       "3344            NaN  \n",
       "3475            NaN  \n",
       "\n",
       "[3 rows x 21 columns]"
      ]
     },
     "execution_count": 27,
     "metadata": {},
     "output_type": "execute_result"
    }
   ],
   "source": [
    "killings.loc[killings['City'].isnull()==True,:]"
   ]
  },
  {
   "cell_type": "code",
   "execution_count": 28,
   "metadata": {},
   "outputs": [
    {
     "data": {
      "text/plain": [
       "Victims Name                       0\n",
       "Victims Age                       66\n",
       "Victims Gender                     0\n",
       "Victims Race                       0\n",
       "URL of image of victim             0\n",
       "Date                               0\n",
       "Street Address of Incident         0\n",
       "City                               3\n",
       "State                              0\n",
       "Zipcode                           38\n",
       "County                            15\n",
       "Agency responsible for death      16\n",
       "Cause of death                     0\n",
       "Description of Circumstances      20\n",
       "Official Disposition of Death    256\n",
       "Criminal Charges                   0\n",
       "News Article Link                 12\n",
       "Symptoms of mental illness?       11\n",
       "Unarmed                            0\n",
       "Alleged Weapon                     0\n",
       "Geography Type                    66\n",
       "dtype: int64"
      ]
     },
     "execution_count": 28,
     "metadata": {},
     "output_type": "execute_result"
    }
   ],
   "source": [
    "killings.isnull().sum()"
   ]
  },
  {
   "cell_type": "code",
   "execution_count": 29,
   "metadata": {},
   "outputs": [
    {
     "data": {
      "text/html": [
       "<div>\n",
       "<style scoped>\n",
       "    .dataframe tbody tr th:only-of-type {\n",
       "        vertical-align: middle;\n",
       "    }\n",
       "\n",
       "    .dataframe tbody tr th {\n",
       "        vertical-align: top;\n",
       "    }\n",
       "\n",
       "    .dataframe thead th {\n",
       "        text-align: right;\n",
       "    }\n",
       "</style>\n",
       "<table border=\"1\" class=\"dataframe\">\n",
       "  <thead>\n",
       "    <tr style=\"text-align: right;\">\n",
       "      <th></th>\n",
       "      <th>Street Address of Incident</th>\n",
       "      <th>City</th>\n",
       "      <th>State</th>\n",
       "      <th>Zipcode</th>\n",
       "      <th>County</th>\n",
       "    </tr>\n",
       "  </thead>\n",
       "  <tbody>\n",
       "    <tr>\n",
       "      <th>493</th>\n",
       "      <td>Bahalia Rd NE</td>\n",
       "      <td>Wesson</td>\n",
       "      <td>MS</td>\n",
       "      <td>39191.0</td>\n",
       "      <td>NaN</td>\n",
       "    </tr>\n",
       "    <tr>\n",
       "      <th>528</th>\n",
       "      <td>None</td>\n",
       "      <td>Kansas City</td>\n",
       "      <td>KS</td>\n",
       "      <td>NaN</td>\n",
       "      <td>NaN</td>\n",
       "    </tr>\n",
       "    <tr>\n",
       "      <th>774</th>\n",
       "      <td>None</td>\n",
       "      <td>Flint</td>\n",
       "      <td>MI</td>\n",
       "      <td>NaN</td>\n",
       "      <td>NaN</td>\n",
       "    </tr>\n",
       "    <tr>\n",
       "      <th>1250</th>\n",
       "      <td>None</td>\n",
       "      <td>Pratt</td>\n",
       "      <td>KS</td>\n",
       "      <td>NaN</td>\n",
       "      <td>NaN</td>\n",
       "    </tr>\n",
       "    <tr>\n",
       "      <th>1305</th>\n",
       "      <td>None</td>\n",
       "      <td>Quincy</td>\n",
       "      <td>FL</td>\n",
       "      <td>NaN</td>\n",
       "      <td>NaN</td>\n",
       "    </tr>\n",
       "    <tr>\n",
       "      <th>1322</th>\n",
       "      <td>None</td>\n",
       "      <td>Quinlan</td>\n",
       "      <td>TX</td>\n",
       "      <td>NaN</td>\n",
       "      <td>NaN</td>\n",
       "    </tr>\n",
       "    <tr>\n",
       "      <th>1336</th>\n",
       "      <td>None</td>\n",
       "      <td>Orem</td>\n",
       "      <td>OR</td>\n",
       "      <td>NaN</td>\n",
       "      <td>NaN</td>\n",
       "    </tr>\n",
       "    <tr>\n",
       "      <th>1346</th>\n",
       "      <td>None</td>\n",
       "      <td>Milwaukee</td>\n",
       "      <td>WI</td>\n",
       "      <td>NaN</td>\n",
       "      <td>NaN</td>\n",
       "    </tr>\n",
       "    <tr>\n",
       "      <th>1356</th>\n",
       "      <td>None</td>\n",
       "      <td>Hayti</td>\n",
       "      <td>MO</td>\n",
       "      <td>NaN</td>\n",
       "      <td>NaN</td>\n",
       "    </tr>\n",
       "    <tr>\n",
       "      <th>1367</th>\n",
       "      <td>None</td>\n",
       "      <td>Greenback</td>\n",
       "      <td>TN</td>\n",
       "      <td>NaN</td>\n",
       "      <td>NaN</td>\n",
       "    </tr>\n",
       "    <tr>\n",
       "      <th>1430</th>\n",
       "      <td>None</td>\n",
       "      <td>Spanaway</td>\n",
       "      <td>WA</td>\n",
       "      <td>NaN</td>\n",
       "      <td>NaN</td>\n",
       "    </tr>\n",
       "    <tr>\n",
       "      <th>1607</th>\n",
       "      <td>None</td>\n",
       "      <td>Lenoir</td>\n",
       "      <td>NC</td>\n",
       "      <td>NaN</td>\n",
       "      <td>NaN</td>\n",
       "    </tr>\n",
       "    <tr>\n",
       "      <th>1965</th>\n",
       "      <td>None</td>\n",
       "      <td>Scottsdale</td>\n",
       "      <td>AZ</td>\n",
       "      <td>NaN</td>\n",
       "      <td>NaN</td>\n",
       "    </tr>\n",
       "    <tr>\n",
       "      <th>1981</th>\n",
       "      <td>None</td>\n",
       "      <td>Utica</td>\n",
       "      <td>KY</td>\n",
       "      <td>NaN</td>\n",
       "      <td>NaN</td>\n",
       "    </tr>\n",
       "    <tr>\n",
       "      <th>3315</th>\n",
       "      <td>Lake Cook station</td>\n",
       "      <td>Deerfield</td>\n",
       "      <td>IL</td>\n",
       "      <td>NaN</td>\n",
       "      <td>NaN</td>\n",
       "    </tr>\n",
       "  </tbody>\n",
       "</table>\n",
       "</div>"
      ],
      "text/plain": [
       "     Street Address of Incident         City State  Zipcode County\n",
       "493               Bahalia Rd NE       Wesson    MS  39191.0    NaN\n",
       "528                        None  Kansas City    KS      NaN    NaN\n",
       "774                        None        Flint    MI      NaN    NaN\n",
       "1250                       None        Pratt    KS      NaN    NaN\n",
       "1305                       None       Quincy    FL      NaN    NaN\n",
       "1322                       None      Quinlan    TX      NaN    NaN\n",
       "1336                       None         Orem    OR      NaN    NaN\n",
       "1346                       None    Milwaukee    WI      NaN    NaN\n",
       "1356                       None        Hayti    MO      NaN    NaN\n",
       "1367                       None    Greenback    TN      NaN    NaN\n",
       "1430                       None     Spanaway    WA      NaN    NaN\n",
       "1607                       None       Lenoir    NC      NaN    NaN\n",
       "1965                       None   Scottsdale    AZ      NaN    NaN\n",
       "1981                       None        Utica    KY      NaN    NaN\n",
       "3315          Lake Cook station    Deerfield    IL      NaN    NaN"
      ]
     },
     "execution_count": 29,
     "metadata": {},
     "output_type": "execute_result"
    }
   ],
   "source": [
    "killings.loc[killings['County'].isnull()==True,['Street Address of Incident', 'City', 'State', 'Zipcode', 'County']]"
   ]
  },
  {
   "cell_type": "code",
   "execution_count": 30,
   "metadata": {},
   "outputs": [
    {
     "data": {
      "text/html": [
       "<div>\n",
       "<style scoped>\n",
       "    .dataframe tbody tr th:only-of-type {\n",
       "        vertical-align: middle;\n",
       "    }\n",
       "\n",
       "    .dataframe tbody tr th {\n",
       "        vertical-align: top;\n",
       "    }\n",
       "\n",
       "    .dataframe thead th {\n",
       "        text-align: right;\n",
       "    }\n",
       "</style>\n",
       "<table border=\"1\" class=\"dataframe\">\n",
       "  <thead>\n",
       "    <tr style=\"text-align: right;\">\n",
       "      <th></th>\n",
       "      <th>Street Address of Incident</th>\n",
       "      <th>City</th>\n",
       "      <th>State</th>\n",
       "      <th>Zipcode</th>\n",
       "      <th>County</th>\n",
       "    </tr>\n",
       "  </thead>\n",
       "  <tbody>\n",
       "  </tbody>\n",
       "</table>\n",
       "</div>"
      ],
      "text/plain": [
       "Empty DataFrame\n",
       "Columns: [Street Address of Incident, City, State, Zipcode, County]\n",
       "Index: []"
      ]
     },
     "execution_count": 30,
     "metadata": {},
     "output_type": "execute_result"
    }
   ],
   "source": [
    "killings.loc[528,'County'] = 'Wyandotte'\n",
    "killings.loc[774,'County'] = 'Genesee'\n",
    "killings.loc[1250,'County'] = 'Pratt'\n",
    "killings.loc[1305,'County'] = 'Gadsden'\n",
    "killings.loc[(killings['City']=='Quinlan') & (killings['State']=='TX') ,'County'] = 'Hunt'\n",
    "killings.loc[(killings['City']=='Wesson') & (killings['State']=='MS') ,'County'] = 'Copiah'\n",
    "killings.loc[(killings['City']=='Orem') & (killings['State']=='OR') ,'County'] = 'Utah'\n",
    "killings.loc[1346,'County'] = 'Milwaukee'\n",
    "killings.loc[1356,'County'] = 'Pemiscot'\n",
    "killings.loc[1367,'County'] = 'Loudon'\n",
    "killings.loc[1430,'County'] = 'Pierce'\n",
    "killings.loc[1607,'County'] = 'Caldwell'\n",
    "killings.loc[1965,'County'] = 'Maricopa'\n",
    "killings.loc[1981,'County'] = 'Daviess'\n",
    "killings.loc[3315,'County'] = 'Lake'\n",
    "killings.loc[killings['County'].isnull()==True,['Street Address of Incident', 'City', 'State', 'Zipcode', 'County']]"
   ]
  },
  {
   "cell_type": "code",
   "execution_count": 31,
   "metadata": {},
   "outputs": [],
   "source": [
    "# null_descriptions = killings[killings['A brief description of the circumstances surrounding the death'].isnull() == True].index\n",
    "# killings.loc[null_descriptions,'A brief description of the circumstances surrounding the death'] = 'Unavailable'\n",
    "killings['Description of Circumstances'].fillna('Unavailable', inplace=True)"
   ]
  },
  {
   "cell_type": "code",
   "execution_count": 32,
   "metadata": {},
   "outputs": [],
   "source": [
    "# null_articles = killings[killings['Link to news article or photo of official document'].isnull() == True].index\n",
    "# killings.loc[null_articles,'Link to news article or photo of official document'] = 'Unavailable'\n",
    "killings['News Article Link'].fillna('Unavailable', inplace=True)"
   ]
  },
  {
   "cell_type": "code",
   "execution_count": 33,
   "metadata": {},
   "outputs": [
    {
     "data": {
      "text/plain": [
       "array(['No', 'Unknown', 'Yes', 'Drug or alcohol use', nan, 'Unkown',\n",
       "       'Unknown ', 'unknown'], dtype=object)"
      ]
     },
     "execution_count": 33,
     "metadata": {},
     "output_type": "execute_result"
    }
   ],
   "source": [
    "killings['Symptoms of mental illness?'].unique()"
   ]
  },
  {
   "cell_type": "code",
   "execution_count": 34,
   "metadata": {},
   "outputs": [
    {
     "data": {
      "text/plain": [
       "array(['No', 'Unknown', 'Yes', 'Drug or alcohol use', nan, 'Unknown ',\n",
       "       'unknown'], dtype=object)"
      ]
     },
     "execution_count": 34,
     "metadata": {},
     "output_type": "execute_result"
    }
   ],
   "source": [
    "killings.loc[killings['Symptoms of mental illness?']=='Unkown','Symptoms of mental illness?'] = 'Unknown'\n",
    "killings['Symptoms of mental illness?'].unique()"
   ]
  },
  {
   "cell_type": "code",
   "execution_count": 35,
   "metadata": {},
   "outputs": [
    {
     "data": {
      "text/plain": [
       "array(['No', 'Unknown', 'Yes', 'Drug or alcohol use', nan, 'unknown'],\n",
       "      dtype=object)"
      ]
     },
     "execution_count": 35,
     "metadata": {},
     "output_type": "execute_result"
    }
   ],
   "source": [
    "killings.loc[killings['Symptoms of mental illness?']=='Unknown ','Symptoms of mental illness?'] = 'Unknown'\n",
    "killings['Symptoms of mental illness?'].unique()"
   ]
  },
  {
   "cell_type": "code",
   "execution_count": 36,
   "metadata": {},
   "outputs": [
    {
     "data": {
      "text/plain": [
       "array(['No', 'Unknown', 'Yes', 'Drug or alcohol use', nan], dtype=object)"
      ]
     },
     "execution_count": 36,
     "metadata": {},
     "output_type": "execute_result"
    }
   ],
   "source": [
    "killings.loc[killings['Symptoms of mental illness?']=='unknown','Symptoms of mental illness?'] = 'Unknown'\n",
    "killings['Symptoms of mental illness?'].unique()"
   ]
  },
  {
   "cell_type": "code",
   "execution_count": 37,
   "metadata": {},
   "outputs": [
    {
     "data": {
      "text/plain": [
       "array(['No', 'Unknown', 'Yes', 'Drug or alcohol use'], dtype=object)"
      ]
     },
     "execution_count": 37,
     "metadata": {},
     "output_type": "execute_result"
    }
   ],
   "source": [
    "killings.loc[killings['Symptoms of mental illness?'].isnull()==True,'Symptoms of mental illness?'] = 'Unknown'\n",
    "killings['Symptoms of mental illness?'].unique()"
   ]
  },
  {
   "cell_type": "code",
   "execution_count": 38,
   "metadata": {},
   "outputs": [
    {
     "data": {
      "text/plain": [
       "array(['Rural', 'Urban', 'Suburban', nan], dtype=object)"
      ]
     },
     "execution_count": 38,
     "metadata": {},
     "output_type": "execute_result"
    }
   ],
   "source": [
    "killings['Geography Type'].unique()"
   ]
  },
  {
   "cell_type": "code",
   "execution_count": 39,
   "metadata": {},
   "outputs": [
    {
     "data": {
      "text/html": [
       "<div>\n",
       "<style scoped>\n",
       "    .dataframe tbody tr th:only-of-type {\n",
       "        vertical-align: middle;\n",
       "    }\n",
       "\n",
       "    .dataframe tbody tr th {\n",
       "        vertical-align: top;\n",
       "    }\n",
       "\n",
       "    .dataframe thead th {\n",
       "        text-align: right;\n",
       "    }\n",
       "</style>\n",
       "<table border=\"1\" class=\"dataframe\">\n",
       "  <thead>\n",
       "    <tr style=\"text-align: right;\">\n",
       "      <th></th>\n",
       "      <th>Street Address of Incident</th>\n",
       "      <th>City</th>\n",
       "      <th>State</th>\n",
       "      <th>Zipcode</th>\n",
       "      <th>Geography Type</th>\n",
       "    </tr>\n",
       "  </thead>\n",
       "  <tbody>\n",
       "    <tr>\n",
       "      <th>522</th>\n",
       "      <td>1600 East J St</td>\n",
       "      <td>Tacoma</td>\n",
       "      <td>WA</td>\n",
       "      <td>98421.0</td>\n",
       "      <td>NaN</td>\n",
       "    </tr>\n",
       "    <tr>\n",
       "      <th>595</th>\n",
       "      <td>1100 Commerce St</td>\n",
       "      <td>Dallas</td>\n",
       "      <td>TX</td>\n",
       "      <td>75242.0</td>\n",
       "      <td>NaN</td>\n",
       "    </tr>\n",
       "    <tr>\n",
       "      <th>1000</th>\n",
       "      <td>CA-162 &amp; Aguas Frias Rd</td>\n",
       "      <td>Richvale</td>\n",
       "      <td>CA</td>\n",
       "      <td>95974.0</td>\n",
       "      <td>NaN</td>\n",
       "    </tr>\n",
       "    <tr>\n",
       "      <th>1004</th>\n",
       "      <td>Mercury Highway</td>\n",
       "      <td>Mercury</td>\n",
       "      <td>NV</td>\n",
       "      <td>89023.0</td>\n",
       "      <td>NaN</td>\n",
       "    </tr>\n",
       "    <tr>\n",
       "      <th>1281</th>\n",
       "      <td>1100 Griffin Dr</td>\n",
       "      <td>Charleston</td>\n",
       "      <td>WV</td>\n",
       "      <td>25387.0</td>\n",
       "      <td>NaN</td>\n",
       "    </tr>\n",
       "    <tr>\n",
       "      <th>1947</th>\n",
       "      <td>Bell Rd and El Mirage Rd</td>\n",
       "      <td>Surprise</td>\n",
       "      <td>AZ</td>\n",
       "      <td>85378.0</td>\n",
       "      <td>NaN</td>\n",
       "    </tr>\n",
       "    <tr>\n",
       "      <th>2072</th>\n",
       "      <td>2100 56th Ave SE</td>\n",
       "      <td>Woodworth</td>\n",
       "      <td>ND</td>\n",
       "      <td>58496.0</td>\n",
       "      <td>NaN</td>\n",
       "    </tr>\n",
       "    <tr>\n",
       "      <th>2207</th>\n",
       "      <td>1 Blanchard Road</td>\n",
       "      <td>San Jose</td>\n",
       "      <td>CA</td>\n",
       "      <td>95141.0</td>\n",
       "      <td>NaN</td>\n",
       "    </tr>\n",
       "    <tr>\n",
       "      <th>2419</th>\n",
       "      <td>East Weddell Drive and Fair Oaks Avenue</td>\n",
       "      <td>Sunnyvale</td>\n",
       "      <td>CA</td>\n",
       "      <td>60856.0</td>\n",
       "      <td>NaN</td>\n",
       "    </tr>\n",
       "    <tr>\n",
       "      <th>2488</th>\n",
       "      <td>200 W Main St</td>\n",
       "      <td>Sun City</td>\n",
       "      <td>KS</td>\n",
       "      <td>67143.0</td>\n",
       "      <td>NaN</td>\n",
       "    </tr>\n",
       "    <tr>\n",
       "      <th>3315</th>\n",
       "      <td>Lake Cook station</td>\n",
       "      <td>Deerfield</td>\n",
       "      <td>IL</td>\n",
       "      <td>NaN</td>\n",
       "      <td>NaN</td>\n",
       "    </tr>\n",
       "    <tr>\n",
       "      <th>3347</th>\n",
       "      <td>3001 W Hwy 146</td>\n",
       "      <td>La Grange</td>\n",
       "      <td>KY</td>\n",
       "      <td>40032.0</td>\n",
       "      <td>NaN</td>\n",
       "    </tr>\n",
       "    <tr>\n",
       "      <th>3581</th>\n",
       "      <td>2150 Stadium Dr</td>\n",
       "      <td>Boulder</td>\n",
       "      <td>CO</td>\n",
       "      <td>80309.0</td>\n",
       "      <td>NaN</td>\n",
       "    </tr>\n",
       "    <tr>\n",
       "      <th>3621</th>\n",
       "      <td>350 Trolley Line Blvd</td>\n",
       "      <td>Mashantucket</td>\n",
       "      <td>CT</td>\n",
       "      <td>6338.0</td>\n",
       "      <td>NaN</td>\n",
       "    </tr>\n",
       "    <tr>\n",
       "      <th>3699</th>\n",
       "      <td>Sanders Street</td>\n",
       "      <td>Myra</td>\n",
       "      <td>TX</td>\n",
       "      <td>76253.0</td>\n",
       "      <td>NaN</td>\n",
       "    </tr>\n",
       "    <tr>\n",
       "      <th>3740</th>\n",
       "      <td>Mockingbird Lane</td>\n",
       "      <td>Dallas</td>\n",
       "      <td>TX</td>\n",
       "      <td>NaN</td>\n",
       "      <td>NaN</td>\n",
       "    </tr>\n",
       "    <tr>\n",
       "      <th>4409</th>\n",
       "      <td>4727 Lannie Rd</td>\n",
       "      <td>Jacksonville</td>\n",
       "      <td>FL</td>\n",
       "      <td>NaN</td>\n",
       "      <td>NaN</td>\n",
       "    </tr>\n",
       "    <tr>\n",
       "      <th>4451</th>\n",
       "      <td>Unknown address</td>\n",
       "      <td>Seattle</td>\n",
       "      <td>WA</td>\n",
       "      <td>NaN</td>\n",
       "      <td>NaN</td>\n",
       "    </tr>\n",
       "    <tr>\n",
       "      <th>4535</th>\n",
       "      <td>5970 Old Porter Road</td>\n",
       "      <td>Portage</td>\n",
       "      <td>IN</td>\n",
       "      <td>NaN</td>\n",
       "      <td>NaN</td>\n",
       "    </tr>\n",
       "    <tr>\n",
       "      <th>4571</th>\n",
       "      <td>1015 NW 22nd Ave</td>\n",
       "      <td>Portland</td>\n",
       "      <td>OR</td>\n",
       "      <td>NaN</td>\n",
       "      <td>NaN</td>\n",
       "    </tr>\n",
       "    <tr>\n",
       "      <th>4592</th>\n",
       "      <td>13000 Veterans Memorial</td>\n",
       "      <td>Houston</td>\n",
       "      <td>TX</td>\n",
       "      <td>NaN</td>\n",
       "      <td>NaN</td>\n",
       "    </tr>\n",
       "    <tr>\n",
       "      <th>4593</th>\n",
       "      <td>13000 Veterans Memorial</td>\n",
       "      <td>Houston</td>\n",
       "      <td>TX</td>\n",
       "      <td>NaN</td>\n",
       "      <td>NaN</td>\n",
       "    </tr>\n",
       "    <tr>\n",
       "      <th>4594</th>\n",
       "      <td>22279 N Four Mile Rd</td>\n",
       "      <td>Fort Gibson</td>\n",
       "      <td>OK</td>\n",
       "      <td>NaN</td>\n",
       "      <td>NaN</td>\n",
       "    </tr>\n",
       "    <tr>\n",
       "      <th>4640</th>\n",
       "      <td>Melinda Dr</td>\n",
       "      <td>Winder</td>\n",
       "      <td>GA</td>\n",
       "      <td>NaN</td>\n",
       "      <td>NaN</td>\n",
       "    </tr>\n",
       "    <tr>\n",
       "      <th>5021</th>\n",
       "      <td>Unknown</td>\n",
       "      <td>Fort Totten</td>\n",
       "      <td>ND</td>\n",
       "      <td>NaN</td>\n",
       "      <td>NaN</td>\n",
       "    </tr>\n",
       "    <tr>\n",
       "      <th>5164</th>\n",
       "      <td>182 N4430 Rd</td>\n",
       "      <td>Rufe</td>\n",
       "      <td>OK</td>\n",
       "      <td>74755.0</td>\n",
       "      <td>NaN</td>\n",
       "    </tr>\n",
       "    <tr>\n",
       "      <th>5192</th>\n",
       "      <td>11157 Chico Ave</td>\n",
       "      <td>Pomona</td>\n",
       "      <td>CA</td>\n",
       "      <td>97166.0</td>\n",
       "      <td>NaN</td>\n",
       "    </tr>\n",
       "    <tr>\n",
       "      <th>5268</th>\n",
       "      <td>1790 East Voorhees Street</td>\n",
       "      <td>Harmony</td>\n",
       "      <td>IN</td>\n",
       "      <td>47853.0</td>\n",
       "      <td>NaN</td>\n",
       "    </tr>\n",
       "    <tr>\n",
       "      <th>5371</th>\n",
       "      <td>1201 E. Airtex Drive</td>\n",
       "      <td>Houston</td>\n",
       "      <td>TX</td>\n",
       "      <td>NaN</td>\n",
       "      <td>NaN</td>\n",
       "    </tr>\n",
       "    <tr>\n",
       "      <th>5623</th>\n",
       "      <td>116 Honors Way</td>\n",
       "      <td>Tallahassee</td>\n",
       "      <td>FL</td>\n",
       "      <td>32306.0</td>\n",
       "      <td>NaN</td>\n",
       "    </tr>\n",
       "    <tr>\n",
       "      <th>5709</th>\n",
       "      <td>SR 604</td>\n",
       "      <td>Jean</td>\n",
       "      <td>NV</td>\n",
       "      <td>89158.0</td>\n",
       "      <td>NaN</td>\n",
       "    </tr>\n",
       "    <tr>\n",
       "      <th>5805</th>\n",
       "      <td>1201 N Jack Nicklaus Dr</td>\n",
       "      <td>Wasilla</td>\n",
       "      <td>AK</td>\n",
       "      <td>99623.0</td>\n",
       "      <td>NaN</td>\n",
       "    </tr>\n",
       "    <tr>\n",
       "      <th>6080</th>\n",
       "      <td>Ship Canal Bridge, I-5</td>\n",
       "      <td>Seattle</td>\n",
       "      <td>WA</td>\n",
       "      <td>98195.0</td>\n",
       "      <td>NaN</td>\n",
       "    </tr>\n",
       "    <tr>\n",
       "      <th>6188</th>\n",
       "      <td>100 Universal City Plaza</td>\n",
       "      <td>Universal City</td>\n",
       "      <td>CA</td>\n",
       "      <td>91608.0</td>\n",
       "      <td>NaN</td>\n",
       "    </tr>\n",
       "    <tr>\n",
       "      <th>6442</th>\n",
       "      <td>Calico Basin Road and Blue Diamond Road</td>\n",
       "      <td>Las Vegas</td>\n",
       "      <td>NV</td>\n",
       "      <td>89161.0</td>\n",
       "      <td>NaN</td>\n",
       "    </tr>\n",
       "    <tr>\n",
       "      <th>6570</th>\n",
       "      <td>Antoine and Veteran's Memorial</td>\n",
       "      <td>Houston</td>\n",
       "      <td>TX</td>\n",
       "      <td>NaN</td>\n",
       "      <td>NaN</td>\n",
       "    </tr>\n",
       "    <tr>\n",
       "      <th>6573</th>\n",
       "      <td>200 NE 2nd Street</td>\n",
       "      <td>Tulsa</td>\n",
       "      <td>OK</td>\n",
       "      <td>NaN</td>\n",
       "      <td>NaN</td>\n",
       "    </tr>\n",
       "    <tr>\n",
       "      <th>6637</th>\n",
       "      <td>850 8th Street</td>\n",
       "      <td>Port Allen</td>\n",
       "      <td>LA</td>\n",
       "      <td>NaN</td>\n",
       "      <td>NaN</td>\n",
       "    </tr>\n",
       "    <tr>\n",
       "      <th>6643</th>\n",
       "      <td>3200 Westport Way</td>\n",
       "      <td>French Valley</td>\n",
       "      <td>CA</td>\n",
       "      <td>NaN</td>\n",
       "      <td>NaN</td>\n",
       "    </tr>\n",
       "    <tr>\n",
       "      <th>6697</th>\n",
       "      <td>Near Iowa State University's Campanile</td>\n",
       "      <td>Ames</td>\n",
       "      <td>IA</td>\n",
       "      <td>50011.0</td>\n",
       "      <td>NaN</td>\n",
       "    </tr>\n",
       "    <tr>\n",
       "      <th>6746</th>\n",
       "      <td>Interstate 75 and Old Dixie Highway</td>\n",
       "      <td>Atlanta</td>\n",
       "      <td>GA</td>\n",
       "      <td>30304.0</td>\n",
       "      <td>NaN</td>\n",
       "    </tr>\n",
       "    <tr>\n",
       "      <th>6848</th>\n",
       "      <td>1014 N St. SE</td>\n",
       "      <td>Washington</td>\n",
       "      <td>DC</td>\n",
       "      <td>20374.0</td>\n",
       "      <td>NaN</td>\n",
       "    </tr>\n",
       "    <tr>\n",
       "      <th>6862</th>\n",
       "      <td>4501 Torley St</td>\n",
       "      <td>Pittsburg</td>\n",
       "      <td>PA</td>\n",
       "      <td>NaN</td>\n",
       "      <td>NaN</td>\n",
       "    </tr>\n",
       "    <tr>\n",
       "      <th>6933</th>\n",
       "      <td>Boulder Highway and College Drive</td>\n",
       "      <td>Henderson</td>\n",
       "      <td>NV</td>\n",
       "      <td>89105.0</td>\n",
       "      <td>NaN</td>\n",
       "    </tr>\n",
       "  </tbody>\n",
       "</table>\n",
       "</div>"
      ],
      "text/plain": [
       "                   Street Address of Incident            City State  Zipcode  \\\n",
       "522                            1600 East J St          Tacoma    WA  98421.0   \n",
       "595                          1100 Commerce St          Dallas    TX  75242.0   \n",
       "1000                  CA-162 & Aguas Frias Rd        Richvale    CA  95974.0   \n",
       "1004                          Mercury Highway         Mercury    NV  89023.0   \n",
       "1281                          1100 Griffin Dr      Charleston    WV  25387.0   \n",
       "1947                 Bell Rd and El Mirage Rd        Surprise    AZ  85378.0   \n",
       "2072                         2100 56th Ave SE       Woodworth    ND  58496.0   \n",
       "2207                         1 Blanchard Road        San Jose    CA  95141.0   \n",
       "2419  East Weddell Drive and Fair Oaks Avenue       Sunnyvale    CA  60856.0   \n",
       "2488                            200 W Main St        Sun City    KS  67143.0   \n",
       "3315                        Lake Cook station       Deerfield    IL      NaN   \n",
       "3347                           3001 W Hwy 146       La Grange    KY  40032.0   \n",
       "3581                          2150 Stadium Dr         Boulder    CO  80309.0   \n",
       "3621                    350 Trolley Line Blvd    Mashantucket    CT   6338.0   \n",
       "3699                           Sanders Street            Myra    TX  76253.0   \n",
       "3740                         Mockingbird Lane          Dallas    TX      NaN   \n",
       "4409                           4727 Lannie Rd    Jacksonville    FL      NaN   \n",
       "4451                          Unknown address         Seattle    WA      NaN   \n",
       "4535                     5970 Old Porter Road         Portage    IN      NaN   \n",
       "4571                         1015 NW 22nd Ave        Portland    OR      NaN   \n",
       "4592                  13000 Veterans Memorial         Houston    TX      NaN   \n",
       "4593                  13000 Veterans Memorial         Houston    TX      NaN   \n",
       "4594                     22279 N Four Mile Rd     Fort Gibson    OK      NaN   \n",
       "4640                               Melinda Dr          Winder    GA      NaN   \n",
       "5021                                  Unknown     Fort Totten    ND      NaN   \n",
       "5164                             182 N4430 Rd            Rufe    OK  74755.0   \n",
       "5192                          11157 Chico Ave          Pomona    CA  97166.0   \n",
       "5268                1790 East Voorhees Street         Harmony    IN  47853.0   \n",
       "5371                     1201 E. Airtex Drive         Houston    TX      NaN   \n",
       "5623                           116 Honors Way     Tallahassee    FL  32306.0   \n",
       "5709                                   SR 604            Jean    NV  89158.0   \n",
       "5805                  1201 N Jack Nicklaus Dr         Wasilla    AK  99623.0   \n",
       "6080                   Ship Canal Bridge, I-5         Seattle    WA  98195.0   \n",
       "6188                 100 Universal City Plaza  Universal City    CA  91608.0   \n",
       "6442  Calico Basin Road and Blue Diamond Road       Las Vegas    NV  89161.0   \n",
       "6570           Antoine and Veteran's Memorial         Houston    TX      NaN   \n",
       "6573                        200 NE 2nd Street           Tulsa    OK      NaN   \n",
       "6637                           850 8th Street      Port Allen    LA      NaN   \n",
       "6643                        3200 Westport Way   French Valley    CA      NaN   \n",
       "6697   Near Iowa State University's Campanile            Ames    IA  50011.0   \n",
       "6746      Interstate 75 and Old Dixie Highway         Atlanta    GA  30304.0   \n",
       "6848                            1014 N St. SE      Washington    DC  20374.0   \n",
       "6862                           4501 Torley St       Pittsburg    PA      NaN   \n",
       "6933        Boulder Highway and College Drive       Henderson    NV  89105.0   \n",
       "\n",
       "     Geography Type  \n",
       "522             NaN  \n",
       "595             NaN  \n",
       "1000            NaN  \n",
       "1004            NaN  \n",
       "1281            NaN  \n",
       "1947            NaN  \n",
       "2072            NaN  \n",
       "2207            NaN  \n",
       "2419            NaN  \n",
       "2488            NaN  \n",
       "3315            NaN  \n",
       "3347            NaN  \n",
       "3581            NaN  \n",
       "3621            NaN  \n",
       "3699            NaN  \n",
       "3740            NaN  \n",
       "4409            NaN  \n",
       "4451            NaN  \n",
       "4535            NaN  \n",
       "4571            NaN  \n",
       "4592            NaN  \n",
       "4593            NaN  \n",
       "4594            NaN  \n",
       "4640            NaN  \n",
       "5021            NaN  \n",
       "5164            NaN  \n",
       "5192            NaN  \n",
       "5268            NaN  \n",
       "5371            NaN  \n",
       "5623            NaN  \n",
       "5709            NaN  \n",
       "5805            NaN  \n",
       "6080            NaN  \n",
       "6188            NaN  \n",
       "6442            NaN  \n",
       "6570            NaN  \n",
       "6573            NaN  \n",
       "6637            NaN  \n",
       "6643            NaN  \n",
       "6697            NaN  \n",
       "6746            NaN  \n",
       "6848            NaN  \n",
       "6862            NaN  \n",
       "6933            NaN  "
      ]
     },
     "execution_count": 39,
     "metadata": {},
     "output_type": "execute_result"
    }
   ],
   "source": [
    "killings.loc[(killings['Geography Type'].isnull()==True) & (killings['Street Address of Incident'] != 'None'), ['Street Address of Incident', 'City', 'State', 'Zipcode', 'Geography Type']]"
   ]
  },
  {
   "cell_type": "markdown",
   "metadata": {},
   "source": [
    "Time to update the null values in the Geography type column.  Note: The data in the data set uses households/sq mi based on zip codes to establish urban, suburban, or rural classification, but for the null values I used households/sq mi based on city instead as the information was more readily available.\n",
    "\n",
    "• urban: households per square mile >=2213.2 \n",
    "• suburban: households per square mile >=101.6 and < 2213.2\n",
    "• rural: households per square mile <101.6\n",
    "Source: http://jedkolko.com/wp-content/uploads/2015/05/Data-and-methodological-details-052715.pdf"
   ]
  },
  {
   "cell_type": "code",
   "execution_count": 40,
   "metadata": {},
   "outputs": [],
   "source": [
    "killings.loc[522, 'Geography Type'] = 'Suburban' #82540 households / 62.42 sq mi = 1322 households / sq mi (suburban)"
   ]
  },
  {
   "cell_type": "code",
   "execution_count": 41,
   "metadata": {},
   "outputs": [],
   "source": [
    "killings.loc[595, 'Geography Type'] = 'Suburban' #521198 households / 385.8 sq mi = 1351 households / sq mi (suburban)"
   ]
  },
  {
   "cell_type": "code",
   "execution_count": 42,
   "metadata": {},
   "outputs": [],
   "source": [
    "killings.loc[1000, 'Geography Type'] = 'Rural'"
   ]
  },
  {
   "cell_type": "code",
   "execution_count": 43,
   "metadata": {},
   "outputs": [],
   "source": [
    "killings.loc[1004, 'Geography Type'] = 'Rural'"
   ]
  },
  {
   "cell_type": "code",
   "execution_count": 44,
   "metadata": {},
   "outputs": [],
   "source": [
    "killings.loc[1281, 'Geography Type'] = 'Suburban' # 156,482 households / 156.6 sq. mi = 999 households / sq mi (suburban)"
   ]
  },
  {
   "cell_type": "code",
   "execution_count": 45,
   "metadata": {},
   "outputs": [],
   "source": [
    "killings.loc[1947, 'Geography Type'] = 'Suburban' # 48095 households / 108.3 sq. mi = 444 households / sq mi (suburban)"
   ]
  },
  {
   "cell_type": "code",
   "execution_count": 46,
   "metadata": {},
   "outputs": [],
   "source": [
    "killings.loc[2072, 'Geography Type'] = 'Suburban' # 33 households / .22 sq. mi = 150 households / sq mi (suburban, but just barely)"
   ]
  },
  {
   "cell_type": "code",
   "execution_count": 47,
   "metadata": {},
   "outputs": [],
   "source": [
    "killings.loc[2207, 'Geography Type'] = 'Suburban' # 321835 households / 181.4 sq. mi = 1774 households / sq mi (suburban, almost urban)"
   ]
  },
  {
   "cell_type": "code",
   "execution_count": 48,
   "metadata": {},
   "outputs": [],
   "source": [
    "killings.loc[2419, 'Geography Type'] = 'Urban' # 130885 households / 22.78 sq. mi = 5745 households / sq mi (urban)"
   ]
  },
  {
   "cell_type": "code",
   "execution_count": 49,
   "metadata": {},
   "outputs": [],
   "source": [
    "killings.loc[2488, 'Geography Type'] = 'Suburban' # 23 households / .14 sq. mi = 164 households / sq mi (Suburban, just barely)"
   ]
  },
  {
   "cell_type": "code",
   "execution_count": 50,
   "metadata": {},
   "outputs": [],
   "source": [
    "killings.loc[3315, 'Geography Type'] = 'Suburban' # 7013 households / 5.598 sq. mi = 1263 households / sq mi (suburban)"
   ]
  },
  {
   "cell_type": "code",
   "execution_count": 51,
   "metadata": {},
   "outputs": [],
   "source": [
    "killings.loc[3347, 'Geography Type'] = 'Suburban' # 3203 households / 7.14 sq. mi = 449 households / sq mi (Suburban)"
   ]
  },
  {
   "cell_type": "code",
   "execution_count": 52,
   "metadata": {},
   "outputs": [],
   "source": [
    "killings.loc[3581, 'Geography Type'] = 'Suburban' # 125894 households / 740 sq. mi = 170 households / sq mi (Suburban)"
   ]
  },
  {
   "cell_type": "markdown",
   "metadata": {},
   "source": [
    "The next location is at Foxwoods Casino in CT, which is technically part of Mashantucket CT., I think because it's considered an indian reservation.  The casino is surrounded by Ledyard CT. and it might be a better idea to use that city as it may be more representative of the household popluation size and square mileage need to classify the Geography type."
   ]
  },
  {
   "cell_type": "code",
   "execution_count": 53,
   "metadata": {},
   "outputs": [],
   "source": [
    "killings.loc[3621, 'Geography Type'] = 'Rural' # 62 households / 2.6 sq. mi = 24 households / sq mi (Rural)"
   ]
  },
  {
   "cell_type": "code",
   "execution_count": 54,
   "metadata": {},
   "outputs": [],
   "source": [
    "killings.loc[3699, 'Geography Type'] = 'Rural' # 115 households / 1.5 sq. mi = 77 households / sq mi (Rural)"
   ]
  },
  {
   "cell_type": "code",
   "execution_count": 55,
   "metadata": {},
   "outputs": [],
   "source": [
    "killings.loc[3740, 'Geography Type'] = 'Suburban' # 521198 households / 385.8 sq. mi = 1351 households / sq mi (Suburban)"
   ]
  },
  {
   "cell_type": "code",
   "execution_count": 56,
   "metadata": {},
   "outputs": [],
   "source": [
    "killings.loc[4409, ['Geography Type', 'Zipcode']] = 'Suburban', 32218.0 #359607 households / 875 sq mi = 411 (Suburban)"
   ]
  },
  {
   "cell_type": "code",
   "execution_count": 57,
   "metadata": {},
   "outputs": [],
   "source": [
    "killings.loc[4535, ['Geography Type', 'Zipcode']] = 'Suburban', 46368.0 #13992 households / 27.61 sq mi = 507 (Suburban)"
   ]
  },
  {
   "cell_type": "code",
   "execution_count": 58,
   "metadata": {},
   "outputs": [],
   "source": [
    "killings.loc[4571, ['Geography Type', 'Zipcode']] = 'Suburban', 97210.0 #264428 households / 145 sq mi = 1824 (Suburban)"
   ]
  },
  {
   "cell_type": "code",
   "execution_count": 59,
   "metadata": {},
   "outputs": [],
   "source": [
    "killings.loc[[4592, 4593], ['Geography Type', 'Zipcode']] = 'Suburban', 77014.0 #848340 households / 669 sq mi = 1268 (Suburban)"
   ]
  },
  {
   "cell_type": "code",
   "execution_count": 60,
   "metadata": {},
   "outputs": [],
   "source": [
    "killings.loc[4594, ['Geography Type', 'Zipcode']] = 'Suburban', 74434.0 #1639 households / 14.13 sq mi = 116 (Suburban)"
   ]
  },
  {
   "cell_type": "code",
   "execution_count": 61,
   "metadata": {},
   "outputs": [],
   "source": [
    "killings.loc[4640, ['Geography Type', 'Zipcode']] = 'Suburban', 30680.0 #5337 households / 14.15 sq mi = 377 (Suburban)"
   ]
  },
  {
   "cell_type": "code",
   "execution_count": 62,
   "metadata": {},
   "outputs": [],
   "source": [
    "killings.loc[5021, 'Geography Type'] = 'Rural' # 268 households / 8.842 sq. mi = 30 households / sq mi (Rural)"
   ]
  },
  {
   "cell_type": "code",
   "execution_count": 63,
   "metadata": {},
   "outputs": [],
   "source": [
    "killings.loc[5164, ['Geography Type', 'Street Address of Incident']] = 'Rural', '182 N 4430 Rd' # No census data on household population, but on Google maps it looks very rural"
   ]
  },
  {
   "cell_type": "code",
   "execution_count": 64,
   "metadata": {},
   "outputs": [],
   "source": [
    "killings.loc[5192, 'Geography Type'] = 'Suburban' # 39122 households / 22.99 sq. mi = 1702 households / sq mi (Suburban)"
   ]
  },
  {
   "cell_type": "code",
   "execution_count": 65,
   "metadata": {},
   "outputs": [],
   "source": [
    "killings.loc[5268, 'Geography Type'] = 'Suburban' # 355 households / 0.74 sq. mi = 480 households / sq mi (Suburban)"
   ]
  },
  {
   "cell_type": "code",
   "execution_count": 66,
   "metadata": {},
   "outputs": [],
   "source": [
    "killings.loc[5371, ['Geography Type', 'Zipcode']] = 'Suburban', 77073.0 #848340 households / 669 sq mi = 1268 (Suburban)"
   ]
  },
  {
   "cell_type": "code",
   "execution_count": 67,
   "metadata": {},
   "outputs": [],
   "source": [
    "killings.loc[5623, 'Geography Type'] = 'Suburban' # 63217 households / 103.1 sq. mi = 613 households / sq mi (Suburban)"
   ]
  },
  {
   "cell_type": "code",
   "execution_count": 68,
   "metadata": {},
   "outputs": [],
   "source": [
    "killings.loc[5709, 'Geography Type'] = 'Rural' # Jean is just outside of Las Vegas.  Has no residents but is considered a commercial town.  Seems rural enough."
   ]
  },
  {
   "cell_type": "code",
   "execution_count": 69,
   "metadata": {},
   "outputs": [],
   "source": [
    "killings.loc[5805, 'Geography Type'] = 'Suburban' # 3061 households / 13.13 sq. mi = 233 households / sq mi (Suburban)"
   ]
  },
  {
   "cell_type": "code",
   "execution_count": 70,
   "metadata": {},
   "outputs": [],
   "source": [
    "killings.loc[[4451, 6080], 'Geography Type'] = 'Urban' # 323446 households / 142.5 sq. mi = 2270 households / sq mi (Urban)"
   ]
  },
  {
   "cell_type": "code",
   "execution_count": 71,
   "metadata": {},
   "outputs": [],
   "source": [
    "killings.loc[6188, 'Geography Type'] = 'Urban' # 7229 households / 0.648 sq. mi = 11156 households / sq mi (Urban)\\"
   ]
  },
  {
   "cell_type": "code",
   "execution_count": 72,
   "metadata": {},
   "outputs": [],
   "source": [
    "killings.loc[6570, ['Street Address of Incident', 'Zipcode', 'Geography Type']] = '12097 Veterans Memorial Dr', 77067.0, 'Suburban' #848340 households / 669 sq mi = 1268 (Suburban)"
   ]
  },
  {
   "cell_type": "code",
   "execution_count": 73,
   "metadata": {},
   "outputs": [],
   "source": [
    "killings.loc[6442, 'Geography Type'] = 'Rural' # Outskirts of Las Vegas, seems very Rural"
   ]
  },
  {
   "cell_type": "code",
   "execution_count": 74,
   "metadata": {},
   "outputs": [],
   "source": [
    "killings.loc[6573, ['Geography Type', 'Zipcode', 'City']] = 'Suburban', 73104.0, 'Oklahoma City' # 240471 / 621 = 387 (Suburban)"
   ]
  },
  {
   "cell_type": "code",
   "execution_count": 75,
   "metadata": {},
   "outputs": [],
   "source": [
    "killings.loc[6637, ['Geography Type', 'Zipcode']] = 'Suburban', 70767.0 # 2162 / 3.328 = 650 (Suburban)"
   ]
  },
  {
   "cell_type": "code",
   "execution_count": 76,
   "metadata": {},
   "outputs": [],
   "source": [
    "killings.loc[6643, ['Street Address of Incident', 'Zipcode', 'Geography Type']] = '32000 Westport Way', 92596.0, 'Suburban' # 8539 / 10.9 = 783 (Suburban)"
   ]
  },
  {
   "cell_type": "code",
   "execution_count": 77,
   "metadata": {},
   "outputs": [],
   "source": [
    "killings.loc[6697, ['Street Address of Incident', 'Geography Type']] = '2335 Union Dr', 'Suburban' # 25243 / 224.27 = 113 (Suburban)"
   ]
  },
  {
   "cell_type": "code",
   "execution_count": 78,
   "metadata": {},
   "outputs": [],
   "source": [
    "killings.loc[6746, 'Geography Type'] = 'Suburban' # 199478 / 136.8 = 1458 (Suburban)"
   ]
  },
  {
   "cell_type": "code",
   "execution_count": 79,
   "metadata": {},
   "outputs": [],
   "source": [
    "killings.loc[6848, 'Geography Type'] = 'Urban' # 281322 / 68.34 = 4117 (Urban)"
   ]
  },
  {
   "cell_type": "code",
   "execution_count": 80,
   "metadata": {},
   "outputs": [],
   "source": [
    "killings.loc[6862, ['Zipcode', 'Geography Type']] = 15224.0, 'Urban' # 136275 / 58.34 = 2336"
   ]
  },
  {
   "cell_type": "code",
   "execution_count": 81,
   "metadata": {},
   "outputs": [],
   "source": [
    "killings.loc[6933, 'Geography Type'] = 'Suburban' # 113901 / 108 = 1055 (Suburban)"
   ]
  },
  {
   "cell_type": "code",
   "execution_count": 82,
   "metadata": {},
   "outputs": [
    {
     "data": {
      "text/html": [
       "<div>\n",
       "<style scoped>\n",
       "    .dataframe tbody tr th:only-of-type {\n",
       "        vertical-align: middle;\n",
       "    }\n",
       "\n",
       "    .dataframe tbody tr th {\n",
       "        vertical-align: top;\n",
       "    }\n",
       "\n",
       "    .dataframe thead th {\n",
       "        text-align: right;\n",
       "    }\n",
       "</style>\n",
       "<table border=\"1\" class=\"dataframe\">\n",
       "  <thead>\n",
       "    <tr style=\"text-align: right;\">\n",
       "      <th></th>\n",
       "      <th>Street Address of Incident</th>\n",
       "      <th>City</th>\n",
       "      <th>State</th>\n",
       "      <th>Zipcode</th>\n",
       "      <th>Geography Type</th>\n",
       "      <th>News Article Link</th>\n",
       "    </tr>\n",
       "  </thead>\n",
       "  <tbody>\n",
       "    <tr>\n",
       "      <th>528</th>\n",
       "      <td>None</td>\n",
       "      <td>Kansas City</td>\n",
       "      <td>KS</td>\n",
       "      <td>NaN</td>\n",
       "      <td>NaN</td>\n",
       "      <td>Unavailable</td>\n",
       "    </tr>\n",
       "    <tr>\n",
       "      <th>774</th>\n",
       "      <td>None</td>\n",
       "      <td>Flint</td>\n",
       "      <td>MI</td>\n",
       "      <td>NaN</td>\n",
       "      <td>NaN</td>\n",
       "      <td>Unavailable</td>\n",
       "    </tr>\n",
       "    <tr>\n",
       "      <th>1250</th>\n",
       "      <td>None</td>\n",
       "      <td>Pratt</td>\n",
       "      <td>KS</td>\n",
       "      <td>NaN</td>\n",
       "      <td>NaN</td>\n",
       "      <td>https://www.kansas.com/news/local/crime/articl...</td>\n",
       "    </tr>\n",
       "    <tr>\n",
       "      <th>1305</th>\n",
       "      <td>None</td>\n",
       "      <td>Quincy</td>\n",
       "      <td>FL</td>\n",
       "      <td>NaN</td>\n",
       "      <td>NaN</td>\n",
       "      <td>Unavailable</td>\n",
       "    </tr>\n",
       "    <tr>\n",
       "      <th>1322</th>\n",
       "      <td>None</td>\n",
       "      <td>Quinlan</td>\n",
       "      <td>TX</td>\n",
       "      <td>NaN</td>\n",
       "      <td>NaN</td>\n",
       "      <td>Unavailable</td>\n",
       "    </tr>\n",
       "    <tr>\n",
       "      <th>1336</th>\n",
       "      <td>None</td>\n",
       "      <td>Orem</td>\n",
       "      <td>OR</td>\n",
       "      <td>NaN</td>\n",
       "      <td>NaN</td>\n",
       "      <td>Unavailable</td>\n",
       "    </tr>\n",
       "    <tr>\n",
       "      <th>1346</th>\n",
       "      <td>None</td>\n",
       "      <td>Milwaukee</td>\n",
       "      <td>WI</td>\n",
       "      <td>NaN</td>\n",
       "      <td>NaN</td>\n",
       "      <td>Unavailable</td>\n",
       "    </tr>\n",
       "    <tr>\n",
       "      <th>1356</th>\n",
       "      <td>None</td>\n",
       "      <td>Hayti</td>\n",
       "      <td>MO</td>\n",
       "      <td>NaN</td>\n",
       "      <td>NaN</td>\n",
       "      <td>Unavailable</td>\n",
       "    </tr>\n",
       "    <tr>\n",
       "      <th>1367</th>\n",
       "      <td>None</td>\n",
       "      <td>Greenback</td>\n",
       "      <td>TN</td>\n",
       "      <td>NaN</td>\n",
       "      <td>NaN</td>\n",
       "      <td>Unavailable</td>\n",
       "    </tr>\n",
       "    <tr>\n",
       "      <th>1430</th>\n",
       "      <td>None</td>\n",
       "      <td>Spanaway</td>\n",
       "      <td>WA</td>\n",
       "      <td>NaN</td>\n",
       "      <td>NaN</td>\n",
       "      <td>Unavailable</td>\n",
       "    </tr>\n",
       "    <tr>\n",
       "      <th>1607</th>\n",
       "      <td>None</td>\n",
       "      <td>Lenoir</td>\n",
       "      <td>NC</td>\n",
       "      <td>NaN</td>\n",
       "      <td>NaN</td>\n",
       "      <td>Unavailable</td>\n",
       "    </tr>\n",
       "    <tr>\n",
       "      <th>1755</th>\n",
       "      <td>None</td>\n",
       "      <td>NaN</td>\n",
       "      <td>ID</td>\n",
       "      <td>NaN</td>\n",
       "      <td>NaN</td>\n",
       "      <td>https://www.kivitv.com/news/1-man-killed-in-of...</td>\n",
       "    </tr>\n",
       "    <tr>\n",
       "      <th>1812</th>\n",
       "      <td>None</td>\n",
       "      <td>Fairview</td>\n",
       "      <td>OH</td>\n",
       "      <td>43736.0</td>\n",
       "      <td>NaN</td>\n",
       "      <td>http://www.the-review.com/news/20180507/fairvi...</td>\n",
       "    </tr>\n",
       "    <tr>\n",
       "      <th>1965</th>\n",
       "      <td>None</td>\n",
       "      <td>Scottsdale</td>\n",
       "      <td>AZ</td>\n",
       "      <td>NaN</td>\n",
       "      <td>NaN</td>\n",
       "      <td>Unavailable</td>\n",
       "    </tr>\n",
       "    <tr>\n",
       "      <th>1981</th>\n",
       "      <td>None</td>\n",
       "      <td>Utica</td>\n",
       "      <td>KY</td>\n",
       "      <td>NaN</td>\n",
       "      <td>NaN</td>\n",
       "      <td>Unavailable</td>\n",
       "    </tr>\n",
       "    <tr>\n",
       "      <th>2813</th>\n",
       "      <td>None</td>\n",
       "      <td>Seattle</td>\n",
       "      <td>WA</td>\n",
       "      <td>NaN</td>\n",
       "      <td>NaN</td>\n",
       "      <td>http://komonews.com/news/local/detectives-inve...</td>\n",
       "    </tr>\n",
       "    <tr>\n",
       "      <th>3344</th>\n",
       "      <td>None</td>\n",
       "      <td>NaN</td>\n",
       "      <td>TX</td>\n",
       "      <td>NaN</td>\n",
       "      <td>NaN</td>\n",
       "      <td>http://www.caller.com/story/news/crime/2016/12...</td>\n",
       "    </tr>\n",
       "    <tr>\n",
       "      <th>3346</th>\n",
       "      <td>None</td>\n",
       "      <td>Kyle</td>\n",
       "      <td>SD</td>\n",
       "      <td>NaN</td>\n",
       "      <td>NaN</td>\n",
       "      <td>http://www.newscenter1.tv/story/34149961/triba...</td>\n",
       "    </tr>\n",
       "    <tr>\n",
       "      <th>3475</th>\n",
       "      <td>None</td>\n",
       "      <td>NaN</td>\n",
       "      <td>CO</td>\n",
       "      <td>NaN</td>\n",
       "      <td>NaN</td>\n",
       "      <td>http://www.denverpost.com/2016/11/15/loveland-...</td>\n",
       "    </tr>\n",
       "    <tr>\n",
       "      <th>6812</th>\n",
       "      <td>None</td>\n",
       "      <td>Freeport</td>\n",
       "      <td>TX</td>\n",
       "      <td>NaN</td>\n",
       "      <td>NaN</td>\n",
       "      <td>http://abclocal.go.com/ktrk/story?section=news...</td>\n",
       "    </tr>\n",
       "    <tr>\n",
       "      <th>7099</th>\n",
       "      <td>None</td>\n",
       "      <td>Miami</td>\n",
       "      <td>FL</td>\n",
       "      <td>NaN</td>\n",
       "      <td>NaN</td>\n",
       "      <td>http://www.tampabay.com/projects/2017/investig...</td>\n",
       "    </tr>\n",
       "    <tr>\n",
       "      <th>7461</th>\n",
       "      <td>None</td>\n",
       "      <td>Addison</td>\n",
       "      <td>TX</td>\n",
       "      <td>NaN</td>\n",
       "      <td>NaN</td>\n",
       "      <td>https://www.dallasnews.com/news/crime/2016/09/...</td>\n",
       "    </tr>\n",
       "  </tbody>\n",
       "</table>\n",
       "</div>"
      ],
      "text/plain": [
       "     Street Address of Incident         City State  Zipcode Geography Type  \\\n",
       "528                        None  Kansas City    KS      NaN            NaN   \n",
       "774                        None        Flint    MI      NaN            NaN   \n",
       "1250                       None        Pratt    KS      NaN            NaN   \n",
       "1305                       None       Quincy    FL      NaN            NaN   \n",
       "1322                       None      Quinlan    TX      NaN            NaN   \n",
       "1336                       None         Orem    OR      NaN            NaN   \n",
       "1346                       None    Milwaukee    WI      NaN            NaN   \n",
       "1356                       None        Hayti    MO      NaN            NaN   \n",
       "1367                       None    Greenback    TN      NaN            NaN   \n",
       "1430                       None     Spanaway    WA      NaN            NaN   \n",
       "1607                       None       Lenoir    NC      NaN            NaN   \n",
       "1755                       None          NaN    ID      NaN            NaN   \n",
       "1812                       None     Fairview    OH  43736.0            NaN   \n",
       "1965                       None   Scottsdale    AZ      NaN            NaN   \n",
       "1981                       None        Utica    KY      NaN            NaN   \n",
       "2813                       None      Seattle    WA      NaN            NaN   \n",
       "3344                       None          NaN    TX      NaN            NaN   \n",
       "3346                       None         Kyle    SD      NaN            NaN   \n",
       "3475                       None          NaN    CO      NaN            NaN   \n",
       "6812                       None     Freeport    TX      NaN            NaN   \n",
       "7099                       None        Miami    FL      NaN            NaN   \n",
       "7461                       None      Addison    TX      NaN            NaN   \n",
       "\n",
       "                                      News Article Link  \n",
       "528                                         Unavailable  \n",
       "774                                         Unavailable  \n",
       "1250  https://www.kansas.com/news/local/crime/articl...  \n",
       "1305                                        Unavailable  \n",
       "1322                                        Unavailable  \n",
       "1336                                        Unavailable  \n",
       "1346                                        Unavailable  \n",
       "1356                                        Unavailable  \n",
       "1367                                        Unavailable  \n",
       "1430                                        Unavailable  \n",
       "1607                                        Unavailable  \n",
       "1755  https://www.kivitv.com/news/1-man-killed-in-of...  \n",
       "1812  http://www.the-review.com/news/20180507/fairvi...  \n",
       "1965                                        Unavailable  \n",
       "1981                                        Unavailable  \n",
       "2813  http://komonews.com/news/local/detectives-inve...  \n",
       "3344  http://www.caller.com/story/news/crime/2016/12...  \n",
       "3346  http://www.newscenter1.tv/story/34149961/triba...  \n",
       "3475  http://www.denverpost.com/2016/11/15/loveland-...  \n",
       "6812  http://abclocal.go.com/ktrk/story?section=news...  \n",
       "7099  http://www.tampabay.com/projects/2017/investig...  \n",
       "7461  https://www.dallasnews.com/news/crime/2016/09/...  "
      ]
     },
     "execution_count": 82,
     "metadata": {},
     "output_type": "execute_result"
    }
   ],
   "source": [
    "killings.loc[killings['Geography Type'].isnull()==True, ['Street Address of Incident', 'City', 'State', 'Zipcode', 'Geography Type', 'News Article Link']]"
   ]
  },
  {
   "cell_type": "code",
   "execution_count": 83,
   "metadata": {},
   "outputs": [],
   "source": [
    "killings.loc[528, 'Geography Type'] = 'Suburban' # 53925 / 128.4 = 420 (Suburban)"
   ]
  },
  {
   "cell_type": "code",
   "execution_count": 84,
   "metadata": {},
   "outputs": [],
   "source": [
    "killings.loc[774, 'Geography Type'] = 'Suburban' # 40035 / 34.11 = 1174 (Suburban)"
   ]
  },
  {
   "cell_type": "code",
   "execution_count": 85,
   "metadata": {},
   "outputs": [],
   "source": [
    "# killings.loc[1029, 'Geography Type'] = 'Suburban' # 682 / 3.14 = 217 (Suburban)"
   ]
  },
  {
   "cell_type": "code",
   "execution_count": 86,
   "metadata": {},
   "outputs": [],
   "source": [
    "killings.loc[1250, ['Street Address of Incident', 'Zipcode', 'Geography Type']] = '500 N Main St', 67124.0, 'Suburban' # 2837 / 7.49 = 379 (Suburban)"
   ]
  },
  {
   "cell_type": "code",
   "execution_count": 87,
   "metadata": {},
   "outputs": [],
   "source": [
    "killings.loc[1305, 'Geography Type'] = 'Suburban' # 2810 / 11.54 = 244 (Suburban)"
   ]
  },
  {
   "cell_type": "code",
   "execution_count": 88,
   "metadata": {},
   "outputs": [],
   "source": [
    "killings.loc[1322, 'Geography Type'] = 'Suburban' # 574 / 1.324 = 434 (Suburban)"
   ]
  },
  {
   "cell_type": "code",
   "execution_count": 89,
   "metadata": {},
   "outputs": [],
   "source": [
    "killings.loc[1336, 'Geography Type'] = 'Suburban' # 28177 / 18.57 = 1517 (Suburban)"
   ]
  },
  {
   "cell_type": "code",
   "execution_count": 90,
   "metadata": {},
   "outputs": [],
   "source": [
    "killings.loc[1346, 'Geography Type'] = 'Urban' # 229556 / 96.81 = 2371 (Urban)"
   ]
  },
  {
   "cell_type": "code",
   "execution_count": 91,
   "metadata": {},
   "outputs": [],
   "source": [
    "killings.loc[1356, 'Geography Type'] = 'Suburban' # 1258 / 2.31 = 545 (Suburban)"
   ]
  },
  {
   "cell_type": "code",
   "execution_count": 92,
   "metadata": {},
   "outputs": [],
   "source": [
    "killings.loc[1367, 'Geography Type'] = 'Rural' # 394 / 8.452 = 47 (Rural)"
   ]
  },
  {
   "cell_type": "code",
   "execution_count": 93,
   "metadata": {},
   "outputs": [],
   "source": [
    "killings.loc[1430, 'Geography Type'] = 'Suburban' # 10780 / 8.687 = 1241 (Suburban)"
   ]
  },
  {
   "cell_type": "code",
   "execution_count": 94,
   "metadata": {},
   "outputs": [],
   "source": [
    "killings.loc[1607, 'Geography Type'] = 'Suburban' # 23121 / 19.7 = 1174 (Suburban)"
   ]
  },
  {
   "cell_type": "code",
   "execution_count": 95,
   "metadata": {},
   "outputs": [],
   "source": [
    "killings.loc[1812, ['Geography Type']] = 'Rural' # 32 / .4 = 80 (Rural)"
   ]
  },
  {
   "cell_type": "code",
   "execution_count": 96,
   "metadata": {},
   "outputs": [],
   "source": [
    "killings.loc[1965, 'Geography Type'] = 'Suburban' # 111221 / 184.4 = 603 (Suburban)"
   ]
  },
  {
   "cell_type": "code",
   "execution_count": 97,
   "metadata": {},
   "outputs": [],
   "source": [
    "killings.loc[1981, 'Geography Type'] = 'Suburban' # 118 / 1.05 = 112 (Suburban)"
   ]
  },
  {
   "cell_type": "code",
   "execution_count": 98,
   "metadata": {},
   "outputs": [],
   "source": [
    "killings.loc[2813, ['Street Address of Incident', 'Zipcode', 'Geography Type']] = '6800 62nd Ave NE', 98115.0, 'Urban' # 283510 / 83.78 = 3384 (Urban)"
   ]
  },
  {
   "cell_type": "code",
   "execution_count": 99,
   "metadata": {},
   "outputs": [],
   "source": [
    "killings.loc[3344, ['City', 'Zipcode', 'Geography Type']] = 'Campbellton', 78008.0, 'Rural' # 176 / 198.5 = 1 (Rural)"
   ]
  },
  {
   "cell_type": "code",
   "execution_count": 100,
   "metadata": {},
   "outputs": [],
   "source": [
    "killings.loc[3346, ['Zipcode', 'Geography Type']] = 57752.0, 'Rural' # 177 / 2.008 = 88 (Rural)"
   ]
  },
  {
   "cell_type": "code",
   "execution_count": 101,
   "metadata": {},
   "outputs": [],
   "source": [
    "killings.loc[3475, ['Street Address of Incident', 'Zipcode', 'Geography Type', 'City']] = 'X4 Rd', 81411.0, 'Rural', 'Bedrock' #Out in the middle of nowhere"
   ]
  },
  {
   "cell_type": "code",
   "execution_count": 102,
   "metadata": {},
   "outputs": [],
   "source": [
    "killings.loc[6812, 'Geography Type'] = 'Suburban' # 4034 / 17.1 = 236 (Suburban)"
   ]
  },
  {
   "cell_type": "code",
   "execution_count": 103,
   "metadata": {},
   "outputs": [],
   "source": [
    "killings.loc[7099, 'Geography Type'] = 'Urban' # 870051 / 55.25 = 15748 (Urban)"
   ]
  },
  {
   "cell_type": "code",
   "execution_count": 104,
   "metadata": {},
   "outputs": [],
   "source": [
    "killings.loc[7461, 'Geography Type'] = 'Suburban' # 8689 / 4.36 = 1993 (Suburban)"
   ]
  },
  {
   "cell_type": "code",
   "execution_count": 105,
   "metadata": {},
   "outputs": [
    {
     "data": {
      "text/plain": [
       "'https://drive.google.com/file/d/0B-l9Ys3cd80fai1PTmh3eVpIdmhrQWFrajJLZFBQSzk1SW1N/edit?usp=sharing'"
      ]
     },
     "execution_count": 105,
     "metadata": {},
     "output_type": "execute_result"
    }
   ],
   "source": [
    "killings.loc[6933, 'News Article Link']"
   ]
  },
  {
   "cell_type": "code",
   "execution_count": 106,
   "metadata": {},
   "outputs": [
    {
     "data": {
      "text/plain": [
       "Victims Name                                                  Edward John Scheboth\n",
       "Victims Age                                                                     63\n",
       "Victims Gender                                                                Male\n",
       "Victims Race                                                                 White\n",
       "URL of image of victim                                                        None\n",
       "Date                                                           2013-08-20 00:00:00\n",
       "Street Address of Incident                       Boulder Highway and College Drive\n",
       "City                                                                     Henderson\n",
       "State                                                                           NV\n",
       "Zipcode                                                                    89105.0\n",
       "County                                                                       Clark\n",
       "Agency responsible for death                           Henderson Police Department\n",
       "Cause of death                                                             Gunshot\n",
       "Description of Circumstances     Edward John Scheboth pulled up on Henderson po...\n",
       "Official Disposition of Death                                            Justified\n",
       "Criminal Charges                                                  No known charges\n",
       "News Article Link                https://drive.google.com/file/d/0B-l9Ys3cd80fa...\n",
       "Symptoms of mental illness?                                                     No\n",
       "Unarmed                                                            Allegedly Armed\n",
       "Alleged Weapon                                                                 gun\n",
       "Geography Type                                                            Suburban\n",
       "Name: 6933, dtype: object"
      ]
     },
     "execution_count": 106,
     "metadata": {},
     "output_type": "execute_result"
    }
   ],
   "source": [
    "killings.loc[6933]"
   ]
  },
  {
   "cell_type": "code",
   "execution_count": 107,
   "metadata": {},
   "outputs": [
    {
     "data": {
      "text/plain": [
       "'https://www.dallasnews.com/news/crime/2016/09/09/ex-farmers-branch-cop-indicted-shooting-killed-dallas-teen'"
      ]
     },
     "execution_count": 107,
     "metadata": {},
     "output_type": "execute_result"
    }
   ],
   "source": [
    "killings.loc[7461, 'News Article Link']"
   ]
  },
  {
   "cell_type": "code",
   "execution_count": 108,
   "metadata": {},
   "outputs": [
    {
     "data": {
      "text/plain": [
       "Victims Name                                                             Jose Cruz\n",
       "Victims Age                                                                     16\n",
       "Victims Gender                                                                Male\n",
       "Victims Race                                                              Hispanic\n",
       "URL of image of victim                                                        None\n",
       "Date                                                           2013-03-13 00:00:00\n",
       "Street Address of Incident                                                    None\n",
       "City                                                                       Addison\n",
       "State                                                                           TX\n",
       "Zipcode                                                                        NaN\n",
       "County                                                                      Dallas\n",
       "Agency responsible for death                     Farmer's Branch Police Department\n",
       "Cause of death                                                             Gunshot\n",
       "Description of Circumstances     Teenagers tried to escape in Cruz's red Dodge ...\n",
       "Official Disposition of Death           Charged with murder and aggravated assault\n",
       "Criminal Charges                                              Charged with a crime\n",
       "News Article Link                https://www.dallasnews.com/news/crime/2016/09/...\n",
       "Symptoms of mental illness?                                                     No\n",
       "Unarmed                                                                    Unarmed\n",
       "Alleged Weapon                                                             unarmed\n",
       "Geography Type                                                            Suburban\n",
       "Name: 7461, dtype: object"
      ]
     },
     "execution_count": 108,
     "metadata": {},
     "output_type": "execute_result"
    }
   ],
   "source": [
    "killings.loc[7461]"
   ]
  },
  {
   "cell_type": "code",
   "execution_count": 109,
   "metadata": {},
   "outputs": [
    {
     "data": {
      "text/plain": [
       "Victims Name                       0\n",
       "Victims Age                       66\n",
       "Victims Gender                     0\n",
       "Victims Race                       0\n",
       "URL of image of victim             0\n",
       "Date                               0\n",
       "Street Address of Incident         0\n",
       "City                               1\n",
       "State                              0\n",
       "Zipcode                           20\n",
       "County                             0\n",
       "Agency responsible for death      16\n",
       "Cause of death                     0\n",
       "Description of Circumstances       0\n",
       "Official Disposition of Death    256\n",
       "Criminal Charges                   0\n",
       "News Article Link                  0\n",
       "Symptoms of mental illness?        0\n",
       "Unarmed                            0\n",
       "Alleged Weapon                     0\n",
       "Geography Type                     1\n",
       "dtype: int64"
      ]
     },
     "execution_count": 109,
     "metadata": {},
     "output_type": "execute_result"
    }
   ],
   "source": [
    "killings.isnull().sum()"
   ]
  },
  {
   "cell_type": "code",
   "execution_count": 110,
   "metadata": {},
   "outputs": [],
   "source": [
    "killings.loc[killings['Official Disposition of Death'].isnull()==True, \n",
    "             'Official Disposition of Death'] = 'Unknown'"
   ]
  },
  {
   "cell_type": "code",
   "execution_count": 111,
   "metadata": {},
   "outputs": [
    {
     "data": {
      "text/plain": [
       "Victims Name                      0\n",
       "Victims Age                      66\n",
       "Victims Gender                    0\n",
       "Victims Race                      0\n",
       "URL of image of victim            0\n",
       "Date                              0\n",
       "Street Address of Incident        0\n",
       "City                              1\n",
       "State                             0\n",
       "Zipcode                          20\n",
       "County                            0\n",
       "Agency responsible for death     16\n",
       "Cause of death                    0\n",
       "Description of Circumstances      0\n",
       "Official Disposition of Death     0\n",
       "Criminal Charges                  0\n",
       "News Article Link                 0\n",
       "Symptoms of mental illness?       0\n",
       "Unarmed                           0\n",
       "Alleged Weapon                    0\n",
       "Geography Type                    1\n",
       "dtype: int64"
      ]
     },
     "execution_count": 111,
     "metadata": {},
     "output_type": "execute_result"
    }
   ],
   "source": [
    "killings.isnull().sum()"
   ]
  },
  {
   "cell_type": "code",
   "execution_count": 112,
   "metadata": {},
   "outputs": [],
   "source": [
    "killings.loc[killings['Agency responsible for death'].isnull()==True, 'Agency responsible for death'] = 'Unknown'"
   ]
  },
  {
   "cell_type": "code",
   "execution_count": 113,
   "metadata": {},
   "outputs": [
    {
     "data": {
      "text/plain": [
       "Victims Name                      0\n",
       "Victims Age                      66\n",
       "Victims Gender                    0\n",
       "Victims Race                      0\n",
       "URL of image of victim            0\n",
       "Date                              0\n",
       "Street Address of Incident        0\n",
       "City                              1\n",
       "State                             0\n",
       "Zipcode                          20\n",
       "County                            0\n",
       "Agency responsible for death      0\n",
       "Cause of death                    0\n",
       "Description of Circumstances      0\n",
       "Official Disposition of Death     0\n",
       "Criminal Charges                  0\n",
       "News Article Link                 0\n",
       "Symptoms of mental illness?       0\n",
       "Unarmed                           0\n",
       "Alleged Weapon                    0\n",
       "Geography Type                    1\n",
       "dtype: int64"
      ]
     },
     "execution_count": 113,
     "metadata": {},
     "output_type": "execute_result"
    }
   ],
   "source": [
    "killings.isnull().sum()"
   ]
  },
  {
   "cell_type": "markdown",
   "metadata": {},
   "source": [
    "Since we've done as much as we can in the way of researching population densities and manually entering the geography type.  We'll impute the remaing missing values (only 1 entry) with the mode of that column (Suburban)"
   ]
  },
  {
   "cell_type": "code",
   "execution_count": 114,
   "metadata": {},
   "outputs": [
    {
     "data": {
      "text/plain": [
       "Suburban    3848\n",
       "Urban       2097\n",
       "Rural       1716\n",
       "Name: Geography Type, dtype: int64"
      ]
     },
     "execution_count": 114,
     "metadata": {},
     "output_type": "execute_result"
    }
   ],
   "source": [
    "killings['Geography Type'].value_counts()"
   ]
  },
  {
   "cell_type": "code",
   "execution_count": 115,
   "metadata": {},
   "outputs": [],
   "source": [
    "#killings.loc[killings['Geography Type'].isnull() == True, 'Geography Type']\n",
    "mode = killings['Geography Type'].mode()[0]\n",
    "# killings.loc[killings['Geography Type'].isnull() == True, 'Geography Type'] = str(mode)\n",
    "# killings.loc[killings['Geography Type'].isnull() == True, 'Geography Type']\n",
    "killings['Geography Type'].fillna(mode, inplace=True)"
   ]
  },
  {
   "cell_type": "code",
   "execution_count": 116,
   "metadata": {},
   "outputs": [
    {
     "data": {
      "text/plain": [
       "Victims Name                      0\n",
       "Victims Age                      66\n",
       "Victims Gender                    0\n",
       "Victims Race                      0\n",
       "URL of image of victim            0\n",
       "Date                              0\n",
       "Street Address of Incident        0\n",
       "City                              1\n",
       "State                             0\n",
       "Zipcode                          20\n",
       "County                            0\n",
       "Agency responsible for death      0\n",
       "Cause of death                    0\n",
       "Description of Circumstances      0\n",
       "Official Disposition of Death     0\n",
       "Criminal Charges                  0\n",
       "News Article Link                 0\n",
       "Symptoms of mental illness?       0\n",
       "Unarmed                           0\n",
       "Alleged Weapon                    0\n",
       "Geography Type                    0\n",
       "dtype: int64"
      ]
     },
     "execution_count": 116,
     "metadata": {},
     "output_type": "execute_result"
    }
   ],
   "source": [
    "killings.isnull().sum()"
   ]
  },
  {
   "cell_type": "code",
   "execution_count": 117,
   "metadata": {},
   "outputs": [
    {
     "data": {
      "text/plain": [
       "Victims Name                                               Name withheld by police\n",
       "Victims Age                                                                Unknown\n",
       "Victims Gender                                                                Male\n",
       "Victims Race                                                          Unknown race\n",
       "URL of image of victim                                                        None\n",
       "Date                                                           2018-05-25 00:00:00\n",
       "Street Address of Incident                                                    None\n",
       "City                                                                           NaN\n",
       "State                                                                           ID\n",
       "Zipcode                                                                        NaN\n",
       "County                                                                      Elmore\n",
       "Agency responsible for death                        Elmore County Sheriff's Office\n",
       "Cause of death                                                             Gunshot\n",
       "Description of Circumstances     Around 8:50 a.m., deputies responded to a repo...\n",
       "Official Disposition of Death                                Pending investigation\n",
       "Criminal Charges                                                  No known charges\n",
       "News Article Link                https://www.kivitv.com/news/1-man-killed-in-of...\n",
       "Symptoms of mental illness?                                                     No\n",
       "Unarmed                                                            Allegedly Armed\n",
       "Alleged Weapon                                                               knife\n",
       "Geography Type                                                            Suburban\n",
       "Name: 1755, dtype: object"
      ]
     },
     "execution_count": 117,
     "metadata": {},
     "output_type": "execute_result"
    }
   ],
   "source": [
    "killings.loc[1755]"
   ]
  },
  {
   "cell_type": "markdown",
   "metadata": {},
   "source": [
    "Since row 1755 has so many missing values, contains so little information, and is the one entry remaining with NaN for the city, I'm going to drop it."
   ]
  },
  {
   "cell_type": "code",
   "execution_count": 118,
   "metadata": {},
   "outputs": [],
   "source": [
    "killings.drop(labels=1755, inplace=True)"
   ]
  },
  {
   "cell_type": "code",
   "execution_count": 119,
   "metadata": {},
   "outputs": [
    {
     "data": {
      "text/plain": [
       "Victims Name                      0\n",
       "Victims Age                      66\n",
       "Victims Gender                    0\n",
       "Victims Race                      0\n",
       "URL of image of victim            0\n",
       "Date                              0\n",
       "Street Address of Incident        0\n",
       "City                              0\n",
       "State                             0\n",
       "Zipcode                          19\n",
       "County                            0\n",
       "Agency responsible for death      0\n",
       "Cause of death                    0\n",
       "Description of Circumstances      0\n",
       "Official Disposition of Death     0\n",
       "Criminal Charges                  0\n",
       "News Article Link                 0\n",
       "Symptoms of mental illness?       0\n",
       "Unarmed                           0\n",
       "Alleged Weapon                    0\n",
       "Geography Type                    0\n",
       "dtype: int64"
      ]
     },
     "execution_count": 119,
     "metadata": {},
     "output_type": "execute_result"
    }
   ],
   "source": [
    "killings.isnull().sum()"
   ]
  },
  {
   "cell_type": "code",
   "execution_count": 120,
   "metadata": {},
   "outputs": [],
   "source": [
    "killings.loc[killings[\"Victims Age\"]=='Unknown', \"Victims Age\"] = np.nan"
   ]
  },
  {
   "cell_type": "code",
   "execution_count": 121,
   "metadata": {},
   "outputs": [
    {
     "data": {
      "text/plain": [
       "array(['28', nan, '57', '23', '37', '49', '47', '51', '27', '50', '76',\n",
       "       '29', '34', '31', '52', '43', '42', '16', '35', '59', '56', '65',\n",
       "       '60', '38', '24', '46', '40', '26', '61', '44', '21', '25', '41',\n",
       "       '63', '22', '18', '30', '55', '66', '68', '17', '70', '58', '20',\n",
       "       '54', '48', '36', '32', '33', '39', '45', '62', '19', '53', '75',\n",
       "       '64', '67', '74', '77', '69', '73', '80', '14', '71', '81', '6',\n",
       "       '78', '72', '84', '15', '89', '1', '40s', '82', '79', '91', '83',\n",
       "       '13', '86', '10', '12', '95', '5', '93', '7', '107', '87'],\n",
       "      dtype=object)"
      ]
     },
     "execution_count": 121,
     "metadata": {},
     "output_type": "execute_result"
    }
   ],
   "source": [
    "killings['Victims Age'].unique()"
   ]
  },
  {
   "cell_type": "code",
   "execution_count": 122,
   "metadata": {},
   "outputs": [],
   "source": [
    "killings.loc[killings[\"Victims Age\"]=='40s', \"Victims Age\"] = 40.0"
   ]
  },
  {
   "cell_type": "code",
   "execution_count": 123,
   "metadata": {},
   "outputs": [
    {
     "data": {
      "text/plain": [
       "Victims Name                             object\n",
       "Victims Age                              object\n",
       "Victims Gender                           object\n",
       "Victims Race                             object\n",
       "URL of image of victim                   object\n",
       "Date                             datetime64[ns]\n",
       "Street Address of Incident               object\n",
       "City                                     object\n",
       "State                                    object\n",
       "Zipcode                                 float64\n",
       "County                                   object\n",
       "Agency responsible for death             object\n",
       "Cause of death                           object\n",
       "Description of Circumstances             object\n",
       "Official Disposition of Death            object\n",
       "Criminal Charges                         object\n",
       "News Article Link                        object\n",
       "Symptoms of mental illness?              object\n",
       "Unarmed                                  object\n",
       "Alleged Weapon                           object\n",
       "Geography Type                           object\n",
       "dtype: object"
      ]
     },
     "execution_count": 123,
     "metadata": {},
     "output_type": "execute_result"
    }
   ],
   "source": [
    "killings.dtypes"
   ]
  },
  {
   "cell_type": "code",
   "execution_count": 124,
   "metadata": {},
   "outputs": [],
   "source": [
    "killings[\"Victims Age\"] = killings[\"Victims Age\"].astype('float64')"
   ]
  },
  {
   "cell_type": "code",
   "execution_count": 125,
   "metadata": {},
   "outputs": [
    {
     "data": {
      "image/png": "[encoded data removed]",
      "text/plain": [
       "<Figure size 432x288 with 1 Axes>"
      ]
     },
     "metadata": {
      "needs_background": "light"
     },
     "output_type": "display_data"
    }
   ],
   "source": [
    "killings.hist(\"Victims Age\")\n",
    "plt.show()"
   ]
  },
  {
   "cell_type": "code",
   "execution_count": 126,
   "metadata": {},
   "outputs": [],
   "source": [
    "median_age = round(killings[\"Victims Age\"].median())\n",
    "killings[\"Victims Age\"] = killings[\"Victims Age\"].fillna(round(median_age))"
   ]
  },
  {
   "cell_type": "code",
   "execution_count": 127,
   "metadata": {},
   "outputs": [
    {
     "data": {
      "text/plain": [
       "Victims Name                      0\n",
       "Victims Age                       0\n",
       "Victims Gender                    0\n",
       "Victims Race                      0\n",
       "URL of image of victim            0\n",
       "Date                              0\n",
       "Street Address of Incident        0\n",
       "City                              0\n",
       "State                             0\n",
       "Zipcode                          19\n",
       "County                            0\n",
       "Agency responsible for death      0\n",
       "Cause of death                    0\n",
       "Description of Circumstances      0\n",
       "Official Disposition of Death     0\n",
       "Criminal Charges                  0\n",
       "News Article Link                 0\n",
       "Symptoms of mental illness?       0\n",
       "Unarmed                           0\n",
       "Alleged Weapon                    0\n",
       "Geography Type                    0\n",
       "dtype: int64"
      ]
     },
     "execution_count": 127,
     "metadata": {},
     "output_type": "execute_result"
    }
   ],
   "source": [
    "killings.isnull().sum()"
   ]
  },
  {
   "cell_type": "code",
   "execution_count": 128,
   "metadata": {},
   "outputs": [
    {
     "name": "stdout",
     "output_type": "stream",
     "text": [
      "<class 'pandas.core.frame.DataFrame'>\n",
      "Int64Index: 7661 entries, 0 to 7662\n",
      "Data columns (total 21 columns):\n",
      " #   Column                         Non-Null Count  Dtype         \n",
      "---  ------                         --------------  -----         \n",
      " 0   Victims Name                   7661 non-null   object        \n",
      " 1   Victims Age                    7661 non-null   float64       \n",
      " 2   Victims Gender                 7661 non-null   object        \n",
      " 3   Victims Race                   7661 non-null   object        \n",
      " 4   URL of image of victim         7661 non-null   object        \n",
      " 5   Date                           7661 non-null   datetime64[ns]\n",
      " 6   Street Address of Incident     7661 non-null   object        \n",
      " 7   City                           7661 non-null   object        \n",
      " 8   State                          7661 non-null   object        \n",
      " 9   Zipcode                        7642 non-null   float64       \n",
      " 10  County                         7661 non-null   object        \n",
      " 11  Agency responsible for death   7661 non-null   object        \n",
      " 12  Cause of death                 7661 non-null   object        \n",
      " 13  Description of Circumstances   7661 non-null   object        \n",
      " 14  Official Disposition of Death  7661 non-null   object        \n",
      " 15  Criminal Charges               7661 non-null   object        \n",
      " 16  News Article Link              7661 non-null   object        \n",
      " 17  Symptoms of mental illness?    7661 non-null   object        \n",
      " 18  Unarmed                        7661 non-null   object        \n",
      " 19  Alleged Weapon                 7661 non-null   object        \n",
      " 20  Geography Type                 7661 non-null   object        \n",
      "dtypes: datetime64[ns](1), float64(2), object(18)\n",
      "memory usage: 1.3+ MB\n"
     ]
    }
   ],
   "source": [
    "killings.info()"
   ]
  },
  {
   "cell_type": "code",
   "execution_count": 129,
   "metadata": {},
   "outputs": [],
   "source": [
    "zipcode_null = killings.loc[killings['Zipcode'].isnull()==True,:].index\n",
    "killings.drop(zipcode_null,inplace=True)"
   ]
  },
  {
   "cell_type": "code",
   "execution_count": 130,
   "metadata": {},
   "outputs": [
    {
     "data": {
      "text/plain": [
       "Victims Name                     0\n",
       "Victims Age                      0\n",
       "Victims Gender                   0\n",
       "Victims Race                     0\n",
       "URL of image of victim           0\n",
       "Date                             0\n",
       "Street Address of Incident       0\n",
       "City                             0\n",
       "State                            0\n",
       "Zipcode                          0\n",
       "County                           0\n",
       "Agency responsible for death     0\n",
       "Cause of death                   0\n",
       "Description of Circumstances     0\n",
       "Official Disposition of Death    0\n",
       "Criminal Charges                 0\n",
       "News Article Link                0\n",
       "Symptoms of mental illness?      0\n",
       "Unarmed                          0\n",
       "Alleged Weapon                   0\n",
       "Geography Type                   0\n",
       "dtype: int64"
      ]
     },
     "execution_count": 130,
     "metadata": {},
     "output_type": "execute_result"
    }
   ],
   "source": [
    "killings.isnull().sum()"
   ]
  },
  {
   "cell_type": "code",
   "execution_count": 131,
   "metadata": {},
   "outputs": [
    {
     "data": {
      "text/plain": [
       "Pending investigation                                                             4984\n",
       "Unreported                                                                        1138\n",
       "Justified                                                                          653\n",
       "Unknown                                                                            507\n",
       "Pending Investigation                                                              125\n",
       "                                                                                  ... \n",
       "Charged, Convicted of 2nd degree manslaughter, Sentenced to 4 years                  1\n",
       "Pending investigation                                                                1\n",
       "Justified by internal review                                                         1\n",
       "Charged with negligent homicide, Acquitted                                           1\n",
       "No Charges; Civil Suit finds officers were negligent and partially responsible       1\n",
       "Name: Official Disposition of Death, Length: 98, dtype: int64"
      ]
     },
     "execution_count": 131,
     "metadata": {},
     "output_type": "execute_result"
    }
   ],
   "source": [
    "killings['Official Disposition of Death'].value_counts()"
   ]
  },
  {
   "cell_type": "code",
   "execution_count": 132,
   "metadata": {},
   "outputs": [
    {
     "data": {
      "text/plain": [
       "array(['Pending investigation', 'Justified by Prosecuting Attorney',\n",
       "       'Criminal', 'Justified by County Prosecutor',\n",
       "       'Justified by District Attorney', 'Unreported',\n",
       "       \"Justified by State Attorney's Office\",\n",
       "       \"Justified by State's Attorney\", 'Justified by County Attorney',\n",
       "       'Justified by outside agency', 'Charged with a crime',\n",
       "       'Administrative discipline', 'Murder/suicide',\n",
       "       'Justified by internal review', 'Charged with manslaughter',\n",
       "       'Justified by Prosecutor', 'Officer indicted/Pending', 'Unknown',\n",
       "       'Charged with murder', 'Charged with voluntary manslaughter',\n",
       "       'Charged', 'Charged, Convicted of Third Degree Murder',\n",
       "       'Charged with involuntary manslaughter',\n",
       "       'Charged with first-degree murder', 'Charged, Convicted',\n",
       "       'Accidental', 'Charged with murder, Acquitted',\n",
       "       'Charged with second-degree murder',\n",
       "       'Charged with reckless homicide', 'Justified',\n",
       "       'Charged with manslaughter, acquitted',\n",
       "       'No indictment from federal prosecutors, local prosecutors still deciding',\n",
       "       'Charged with felony murder',\n",
       "       'Indicted, charged with manslaughter',\n",
       "       'Unjustified, Officer fired',\n",
       "       'Charged with criminal homicide, assault, and reckless endangerment',\n",
       "       'Charged, Convicted, Sentenced to 5 years in prison',\n",
       "       'Pending Investigation', 'Charged, convicted of manslaughter',\n",
       "       'Charged, Convicted of voluntary manslaughter, Sentenced to 3 months in jail',\n",
       "       'No Charges', 'Under investigation', 'Pending investigaton',\n",
       "       'Charged, Mistrial declared', 'Pending investigation ',\n",
       "       'Charged, Convicted of aggravated manslaughter and child endangerment, Sentenced to 30 years in prison',\n",
       "       'Indicted', 'Pending investigations', ' Pending investigation',\n",
       "       'Pending investigation; Georgia Bureau of Investigation',\n",
       "       'Pending investigation; Snohomish County Multiagency Response Team',\n",
       "       \"Pending investigation; Minnesota Bureau of Criminal Apprehension, Minnesota State Patrol, Anoka County Sheriff's Office, Fridley Police Department, Lino Lakes Police Department\",\n",
       "       \"Justified; New York State Police investigation; Schwalm's brother offered condolences to the deputy because of his brother's illness.\",\n",
       "       'Charged with 1st degree murder',\n",
       "       'Unreported; Police Department Regulations Changed',\n",
       "       'Ongoing investigation',\n",
       "       'Charged, Convicted of manslaughter, Sentenced to 2.5 years in prison',\n",
       "       \"Charged, Mistrial declared, Pled Guilty for Violating Scott's Civil Rights\",\n",
       "       'Charged, Convicted of 2nd degree manslaughter, Sentenced to 4 years',\n",
       "       'Pending investigation  ', 'Charged, Acquitted',\n",
       "       'Charged with negligent homicide, Acquitted', 'No Known Charges',\n",
       "       'Charged with felony negligent homicide',\n",
       "       'Charged, Convicted of second-degree manslaughter and one count of official misconduct, Sentenced to five years probation.',\n",
       "       'Charged, Convicted of second-degree murder, Sentenced to 20 years in prison',\n",
       "       'Charged, Convicted of second-degree murder', 'Found Excusable',\n",
       "       'Charged, Convicted of felony murder, Sentenced to life without parole, plus 16 years',\n",
       "       'Charged, Convicted of misdemeanor reckless conduct with a firearm, Sentenced to 1 year in prison',\n",
       "       'Found Not Guilty', 'Charged, Convicted of murder',\n",
       "       'Charged with manslaughter, Acquitted',\n",
       "       'Charged, Convicted of felony murder, Sentenced to life in prison',\n",
       "       'Charged with murder and involuntary manslaughter, Convicted, Sentenced to Life in Prison',\n",
       "       'Charged with murder, aquitted', 'No indictment',\n",
       "       'Charged, Convicted of misdemeanor misconduct in office, Sentenced to 3 years probation ',\n",
       "       'Charged, Convicted of murder, Sentenced to 30 years in prison',\n",
       "       'Charged with 2nd degreee murder', 'Insufficient Evidence',\n",
       "       'justified', 'Grand jury/No bill or Cleared',\n",
       "       'Charged, Convicted of involuntary manslaugher, Sentenced to 1 year in jail, 3 years suspended',\n",
       "       'Charged, Convicted of first-degree murder, Sentenced to life in prison',\n",
       "       'Charged, Convicted of murder, Sentenced to 50 years',\n",
       "       'Charged, convicted of manslaughter, Sentenced to five years probation.',\n",
       "       'Charged with manslaughter, Charges Tossed under Stand Your Ground law',\n",
       "       'Charged with manslaughter, Charges Dismissed in Federal Court',\n",
       "       'Justified; Civil Suit',\n",
       "       'Charged, Convicted, Sentenced to 18 months',\n",
       "       'Charged with 1st degree murder, armed criminal action and two counts of child endangerment, Acquitted',\n",
       "       'Charged, Convicted of voluntary manslaughter, Sentenced to 6 years',\n",
       "       'unknown',\n",
       "       'Charged with homicide and felony firearm charges, Acquitted',\n",
       "       'Charged with criminally negligent homicide, Acquitted',\n",
       "       'Cleared by district attorney',\n",
       "       'No Charges; Civil Suit finds officers were negligent and partially responsible'],\n",
       "      dtype=object)"
      ]
     },
     "execution_count": 132,
     "metadata": {},
     "output_type": "execute_result"
    }
   ],
   "source": [
    "killings['Official Disposition of Death'].unique()"
   ]
  },
  {
   "cell_type": "code",
   "execution_count": 133,
   "metadata": {},
   "outputs": [],
   "source": [
    "killings.loc[killings['Official Disposition of Death'].str.lower().str.contains('unjustified'), 'Official Disposition of Death'] = 'Unjustified'"
   ]
  },
  {
   "cell_type": "code",
   "execution_count": 134,
   "metadata": {},
   "outputs": [],
   "source": [
    "killings.loc[killings['Official Disposition of Death'].str.lower().str.contains('justified'), 'Official Disposition of Death'] = 'Justified'"
   ]
  },
  {
   "cell_type": "code",
   "execution_count": 135,
   "metadata": {},
   "outputs": [],
   "source": [
    "killings.loc[killings['Official Disposition of Death'].str.lower().str.contains('convicted'), 'Official Disposition of Death'] = 'Convicted'"
   ]
  },
  {
   "cell_type": "code",
   "execution_count": 136,
   "metadata": {},
   "outputs": [],
   "source": [
    "killings.loc[killings['Official Disposition of Death'].str.lower().str.contains('acquitted'), 'Official Disposition of Death'] = 'Acquitted'"
   ]
  },
  {
   "cell_type": "code",
   "execution_count": 137,
   "metadata": {},
   "outputs": [],
   "source": [
    "killings.loc[killings['Official Disposition of Death'].str.lower().str.contains('charged'), 'Official Disposition of Death'] = 'Charged'"
   ]
  },
  {
   "cell_type": "code",
   "execution_count": 138,
   "metadata": {},
   "outputs": [],
   "source": [
    "killings.loc[killings['Official Disposition of Death'].str.lower().str.contains('pending investigation'), 'Official Disposition of Death'] = 'Pending Investigation'"
   ]
  },
  {
   "cell_type": "code",
   "execution_count": 139,
   "metadata": {},
   "outputs": [],
   "source": [
    "killings.loc[killings['Official Disposition of Death'].str.lower().str.contains('unknown'), 'Official Disposition of Death'] = 'Unknown'"
   ]
  },
  {
   "cell_type": "code",
   "execution_count": 140,
   "metadata": {},
   "outputs": [],
   "source": [
    "killings.loc[killings['Official Disposition of Death'].str.lower().str.contains('pending investigaton'), 'Official Disposition of Death'] = 'Pending Investigation'"
   ]
  },
  {
   "cell_type": "code",
   "execution_count": 141,
   "metadata": {},
   "outputs": [],
   "source": [
    "killings.loc[killings['Official Disposition of Death'].str.lower().str.contains('ongoing investigation'), 'Official Disposition of Death'] = 'Under Investigation'"
   ]
  },
  {
   "cell_type": "code",
   "execution_count": 142,
   "metadata": {},
   "outputs": [],
   "source": [
    "killings.loc[killings['Official Disposition of Death'].str.lower().str.contains('unknown'), 'Official Disposition of Death'] = 'Unknown'"
   ]
  },
  {
   "cell_type": "code",
   "execution_count": 143,
   "metadata": {},
   "outputs": [],
   "source": [
    "killings.loc[killings['Official Disposition of Death'].str.lower().str.contains('no indictment'), 'Official Disposition of Death'] = 'No indictment'"
   ]
  },
  {
   "cell_type": "code",
   "execution_count": 144,
   "metadata": {},
   "outputs": [],
   "source": [
    "killings.loc[killings['Official Disposition of Death'].str.lower().str.contains('No charges'), 'Official Disposition of Death'] = 'No charges'"
   ]
  },
  {
   "cell_type": "code",
   "execution_count": 145,
   "metadata": {},
   "outputs": [],
   "source": [
    "killings.loc[killings['Official Disposition of Death'].str.lower().str.contains('unreported'), 'Official Disposition of Death'] = 'Unreported'"
   ]
  },
  {
   "cell_type": "code",
   "execution_count": 146,
   "metadata": {},
   "outputs": [],
   "source": [
    "killings.loc[killings['Official Disposition of Death'].str.lower().str.contains('under investigation'), 'Official Disposition of Death'] = 'Under Investigation'"
   ]
  },
  {
   "cell_type": "code",
   "execution_count": 147,
   "metadata": {},
   "outputs": [],
   "source": [
    "killings.loc[killings['Official Disposition of Death'].str.lower().str.contains('indicted'), 'Official Disposition of Death'] = 'Indicted'"
   ]
  },
  {
   "cell_type": "code",
   "execution_count": 148,
   "metadata": {},
   "outputs": [],
   "source": [
    "killings.loc[killings['Official Disposition of Death'].str.lower().str.contains('no charges'), 'Official Disposition of Death'] = 'No charges'"
   ]
  },
  {
   "cell_type": "code",
   "execution_count": 149,
   "metadata": {},
   "outputs": [],
   "source": [
    "killings.loc[killings['Official Disposition of Death'].str.lower().str.contains('no known charges'), 'Official Disposition of Death'] = 'No charges'"
   ]
  },
  {
   "cell_type": "code",
   "execution_count": 150,
   "metadata": {},
   "outputs": [
    {
     "data": {
      "text/plain": [
       "Pending Investigation            5120\n",
       "Unreported                       1139\n",
       "Justified                         687\n",
       "Unknown                           508\n",
       "Charged                            51\n",
       "Murder/suicide                     25\n",
       "Convicted                          25\n",
       "Criminal                           22\n",
       "Under Investigation                17\n",
       "Grand jury/No bill or Cleared      14\n",
       "Acquitted                          12\n",
       "Found Excusable                     6\n",
       "No charges                          5\n",
       "Found Not Guilty                    2\n",
       "Cleared by district attorney        2\n",
       "No indictment                       2\n",
       "Indicted                            2\n",
       "Insufficient Evidence               1\n",
       "Administrative discipline           1\n",
       "Accidental                          1\n",
       "Name: Official Disposition of Death, dtype: int64"
      ]
     },
     "execution_count": 150,
     "metadata": {},
     "output_type": "execute_result"
    }
   ],
   "source": [
    "killings['Official Disposition of Death'].value_counts()"
   ]
  },
  {
   "cell_type": "code",
   "execution_count": 151,
   "metadata": {},
   "outputs": [
    {
     "data": {
      "text/html": [
       "<div>\n",
       "<style scoped>\n",
       "    .dataframe tbody tr th:only-of-type {\n",
       "        vertical-align: middle;\n",
       "    }\n",
       "\n",
       "    .dataframe tbody tr th {\n",
       "        vertical-align: top;\n",
       "    }\n",
       "\n",
       "    .dataframe thead th {\n",
       "        text-align: right;\n",
       "    }\n",
       "</style>\n",
       "<table border=\"1\" class=\"dataframe\">\n",
       "  <thead>\n",
       "    <tr style=\"text-align: right;\">\n",
       "      <th></th>\n",
       "      <th>Victims Name</th>\n",
       "      <th>Victims Age</th>\n",
       "      <th>Victims Gender</th>\n",
       "      <th>Victims Race</th>\n",
       "      <th>URL of image of victim</th>\n",
       "      <th>Date</th>\n",
       "      <th>Street Address of Incident</th>\n",
       "      <th>City</th>\n",
       "      <th>State</th>\n",
       "      <th>Zipcode</th>\n",
       "      <th>...</th>\n",
       "      <th>Agency responsible for death</th>\n",
       "      <th>Cause of death</th>\n",
       "      <th>Description of Circumstances</th>\n",
       "      <th>Official Disposition of Death</th>\n",
       "      <th>Criminal Charges</th>\n",
       "      <th>News Article Link</th>\n",
       "      <th>Symptoms of mental illness?</th>\n",
       "      <th>Unarmed</th>\n",
       "      <th>Alleged Weapon</th>\n",
       "      <th>Geography Type</th>\n",
       "    </tr>\n",
       "  </thead>\n",
       "  <tbody>\n",
       "    <tr>\n",
       "      <th>0</th>\n",
       "      <td>Eric M. Tellez</td>\n",
       "      <td>28.0</td>\n",
       "      <td>Male</td>\n",
       "      <td>White</td>\n",
       "      <td>https://fatalencounters.org/wp-content/uploads...</td>\n",
       "      <td>2019-12-31</td>\n",
       "      <td>Broad St.</td>\n",
       "      <td>Globe</td>\n",
       "      <td>AZ</td>\n",
       "      <td>85501.0</td>\n",
       "      <td>...</td>\n",
       "      <td>Globe Police Department</td>\n",
       "      <td>Gunshot</td>\n",
       "      <td>After midnight, a patrol officer was on routin...</td>\n",
       "      <td>Pending Investigation</td>\n",
       "      <td>No known charges</td>\n",
       "      <td>https://www.azfamily.com/news/phoenix-man-arme...</td>\n",
       "      <td>No</td>\n",
       "      <td>Allegedly Armed</td>\n",
       "      <td>knife</td>\n",
       "      <td>Rural</td>\n",
       "    </tr>\n",
       "    <tr>\n",
       "      <th>1</th>\n",
       "      <td>Name withheld by police</td>\n",
       "      <td>34.0</td>\n",
       "      <td>Male</td>\n",
       "      <td>Unknown race</td>\n",
       "      <td>None</td>\n",
       "      <td>2019-12-31</td>\n",
       "      <td>7239-7411 I-40</td>\n",
       "      <td>Memphis</td>\n",
       "      <td>AR</td>\n",
       "      <td>38103.0</td>\n",
       "      <td>...</td>\n",
       "      <td>Memphis Police Department, Arkansas State Police</td>\n",
       "      <td>Gunshot</td>\n",
       "      <td>Police began a chase regarding a kidnapping, e...</td>\n",
       "      <td>Pending Investigation</td>\n",
       "      <td>No known charges</td>\n",
       "      <td>https://www.fox16.com/local-news-2/kidnapping-...</td>\n",
       "      <td>No</td>\n",
       "      <td>Unclear</td>\n",
       "      <td>unclear</td>\n",
       "      <td>Urban</td>\n",
       "    </tr>\n",
       "    <tr>\n",
       "      <th>2</th>\n",
       "      <td>Terry Hudson</td>\n",
       "      <td>57.0</td>\n",
       "      <td>Male</td>\n",
       "      <td>Black</td>\n",
       "      <td>None</td>\n",
       "      <td>2019-12-31</td>\n",
       "      <td>3600 N 24th St</td>\n",
       "      <td>Omaha</td>\n",
       "      <td>NE</td>\n",
       "      <td>68110.0</td>\n",
       "      <td>...</td>\n",
       "      <td>Omaha Police Department</td>\n",
       "      <td>Gunshot</td>\n",
       "      <td>Police responded to a domestic incident on the...</td>\n",
       "      <td>Pending Investigation</td>\n",
       "      <td>No known charges</td>\n",
       "      <td>https://www.ketv.com/article/omaha-police-offi...</td>\n",
       "      <td>No</td>\n",
       "      <td>Allegedly Armed</td>\n",
       "      <td>gun</td>\n",
       "      <td>Urban</td>\n",
       "    </tr>\n",
       "    <tr>\n",
       "      <th>3</th>\n",
       "      <td>Malik Williams</td>\n",
       "      <td>23.0</td>\n",
       "      <td>Male</td>\n",
       "      <td>Black</td>\n",
       "      <td>None</td>\n",
       "      <td>2019-12-31</td>\n",
       "      <td>30800 14th Avenue South</td>\n",
       "      <td>Federal Way</td>\n",
       "      <td>WA</td>\n",
       "      <td>98003.0</td>\n",
       "      <td>...</td>\n",
       "      <td>Federal Way Police Department</td>\n",
       "      <td>Gunshot</td>\n",
       "      <td>Police responded to a domestic dispute. Police...</td>\n",
       "      <td>Pending Investigation</td>\n",
       "      <td>No known charges</td>\n",
       "      <td>https://www.king5.com/article/news/local/2-fed...</td>\n",
       "      <td>No</td>\n",
       "      <td>Allegedly Armed</td>\n",
       "      <td>gun</td>\n",
       "      <td>Suburban</td>\n",
       "    </tr>\n",
       "    <tr>\n",
       "      <th>4</th>\n",
       "      <td>Frederick Perkins</td>\n",
       "      <td>37.0</td>\n",
       "      <td>Male</td>\n",
       "      <td>Black</td>\n",
       "      <td>None</td>\n",
       "      <td>2019-12-31</td>\n",
       "      <td>17057 N Outer 40 Rd</td>\n",
       "      <td>Chesterfield</td>\n",
       "      <td>MO</td>\n",
       "      <td>63005.0</td>\n",
       "      <td>...</td>\n",
       "      <td>Chesterfield Police Department</td>\n",
       "      <td>Gunshot</td>\n",
       "      <td>Police went to Chesterfield Outlets about 1 p....</td>\n",
       "      <td>Pending Investigation</td>\n",
       "      <td>No known charges</td>\n",
       "      <td>https://www.stltoday.com/news/local/crime-and-...</td>\n",
       "      <td>No</td>\n",
       "      <td>Vehicle</td>\n",
       "      <td>vehicle</td>\n",
       "      <td>Suburban</td>\n",
       "    </tr>\n",
       "  </tbody>\n",
       "</table>\n",
       "<p>5 rows × 21 columns</p>\n",
       "</div>"
      ],
      "text/plain": [
       "              Victims Name  Victims Age Victims Gender  Victims Race  \\\n",
       "0           Eric M. Tellez         28.0           Male         White   \n",
       "1  Name withheld by police         34.0           Male  Unknown race   \n",
       "2             Terry Hudson         57.0           Male         Black   \n",
       "3           Malik Williams         23.0           Male         Black   \n",
       "4        Frederick Perkins         37.0           Male         Black   \n",
       "\n",
       "                              URL of image of victim       Date  \\\n",
       "0  https://fatalencounters.org/wp-content/uploads... 2019-12-31   \n",
       "1                                               None 2019-12-31   \n",
       "2                                               None 2019-12-31   \n",
       "3                                               None 2019-12-31   \n",
       "4                                               None 2019-12-31   \n",
       "\n",
       "  Street Address of Incident          City State  Zipcode  ...  \\\n",
       "0                 Broad St.          Globe    AZ  85501.0  ...   \n",
       "1             7239-7411 I-40       Memphis    AR  38103.0  ...   \n",
       "2             3600 N 24th St         Omaha    NE  68110.0  ...   \n",
       "3    30800 14th Avenue South   Federal Way    WA  98003.0  ...   \n",
       "4        17057 N Outer 40 Rd  Chesterfield    MO  63005.0  ...   \n",
       "\n",
       "                       Agency responsible for death Cause of death  \\\n",
       "0                           Globe Police Department        Gunshot   \n",
       "1  Memphis Police Department, Arkansas State Police        Gunshot   \n",
       "2                           Omaha Police Department        Gunshot   \n",
       "3                     Federal Way Police Department        Gunshot   \n",
       "4                    Chesterfield Police Department        Gunshot   \n",
       "\n",
       "                        Description of Circumstances  \\\n",
       "0  After midnight, a patrol officer was on routin...   \n",
       "1  Police began a chase regarding a kidnapping, e...   \n",
       "2  Police responded to a domestic incident on the...   \n",
       "3  Police responded to a domestic dispute. Police...   \n",
       "4  Police went to Chesterfield Outlets about 1 p....   \n",
       "\n",
       "  Official Disposition of Death  Criminal Charges  \\\n",
       "0         Pending Investigation  No known charges   \n",
       "1         Pending Investigation  No known charges   \n",
       "2         Pending Investigation  No known charges   \n",
       "3         Pending Investigation  No known charges   \n",
       "4         Pending Investigation  No known charges   \n",
       "\n",
       "                                   News Article Link  \\\n",
       "0  https://www.azfamily.com/news/phoenix-man-arme...   \n",
       "1  https://www.fox16.com/local-news-2/kidnapping-...   \n",
       "2  https://www.ketv.com/article/omaha-police-offi...   \n",
       "3  https://www.king5.com/article/news/local/2-fed...   \n",
       "4  https://www.stltoday.com/news/local/crime-and-...   \n",
       "\n",
       "  Symptoms of mental illness?          Unarmed Alleged Weapon Geography Type  \n",
       "0                          No  Allegedly Armed          knife          Rural  \n",
       "1                          No          Unclear        unclear          Urban  \n",
       "2                          No  Allegedly Armed            gun          Urban  \n",
       "3                          No  Allegedly Armed            gun       Suburban  \n",
       "4                          No          Vehicle        vehicle       Suburban  \n",
       "\n",
       "[5 rows x 21 columns]"
      ]
     },
     "execution_count": 151,
     "metadata": {},
     "output_type": "execute_result"
    }
   ],
   "source": [
    "killings.head()"
   ]
  },
  {
   "cell_type": "code",
   "execution_count": 152,
   "metadata": {},
   "outputs": [
    {
     "data": {
      "text/plain": [
       "No known charges                                                                 7505\n",
       "Charged with a crime                                                               48\n",
       "No                                                                                 37\n",
       "Charged, Acquitted                                                                 17\n",
       "Charged, Mistrial                                                                   5\n",
       "Charged, Convicted                                                                  4\n",
       "Charged, Convicted, Sentenced to 30 years in prison                                 2\n",
       "Charged, Convicted, Sentenced to 5 years probation.                                 2\n",
       "Charged, Charges Tossed                                                             2\n",
       "Charged, Convicted, Sentenced to life in prison                                     2\n",
       "Charged, Convicted, Sentenced to Life in Prison                                     1\n",
       "Charged, Convicted, Sentenced to 1 year in jail, 3 years suspended                  1\n",
       "Charged, Convicted, Sentenced to 3 years probation                                  1\n",
       "Charged, Convicted, Sentenced to life in prison without parole, plus 16 years       1\n",
       "Charged, Convicted, Sentenced to 50 years                                           1\n",
       "Charged, Convicted, Sentenced to 18 months                                          1\n",
       "Charged, Convicted, Sentenced to 1 year in prison                                   1\n",
       "Charged, Convicted, Sentenced to 4 years                                            1\n",
       "Charged, Convicted, Sentenced to 16 years in prison                                 1\n",
       "Charged, Convicted, Sentenced to 20 years in prison                                 1\n",
       "Charged, Mistrial, Plead Guilty to Civil Rights Charges                             1\n",
       "Charged, Convicted, Sentenced to 2.5 years in prison                                1\n",
       "Charged, Convicted, Sentenced to 3 months in jail                                   1\n",
       "Charged, Convicted, Sentenced to 40 years in prison                                 1\n",
       "Charged, Convicted, Sentenced to 5 years in prison                                  1\n",
       "NO                                                                                  1\n",
       "Charged with manslaughter                                                           1\n",
       "Charged, Convicted, Sentenced to 6 years                                            1\n",
       "Name: Criminal Charges, dtype: int64"
      ]
     },
     "execution_count": 152,
     "metadata": {},
     "output_type": "execute_result"
    }
   ],
   "source": [
    "killings['Criminal Charges'].value_counts()"
   ]
  },
  {
   "cell_type": "code",
   "execution_count": 153,
   "metadata": {},
   "outputs": [],
   "source": [
    "killings.loc[killings['Criminal Charges'] == 'No', 'Criminal Charges'] = 'No Charges'\n",
    "killings.loc[killings['Criminal Charges'] == 'NO', 'Criminal Charges'] = 'No Charges'\n",
    "killings.loc[killings['Criminal Charges'] == 'No known charges', 'Criminal Charges'] = 'No Charges'"
   ]
  },
  {
   "cell_type": "code",
   "execution_count": 154,
   "metadata": {},
   "outputs": [
    {
     "data": {
      "text/plain": [
       "No Charges                                                                       7543\n",
       "Charged with a crime                                                               48\n",
       "Charged, Acquitted                                                                 17\n",
       "Charged, Mistrial                                                                   5\n",
       "Charged, Convicted                                                                  4\n",
       "Charged, Charges Tossed                                                             2\n",
       "Charged, Convicted, Sentenced to life in prison                                     2\n",
       "Charged, Convicted, Sentenced to 30 years in prison                                 2\n",
       "Charged, Convicted, Sentenced to 5 years probation.                                 2\n",
       "Charged, Convicted, Sentenced to 3 months in jail                                   1\n",
       "Charged, Convicted, Sentenced to 5 years in prison                                  1\n",
       "Charged, Convicted, Sentenced to 18 months                                          1\n",
       "Charged with manslaughter                                                           1\n",
       "Charged, Convicted, Sentenced to 50 years                                           1\n",
       "Charged, Convicted, Sentenced to 1 year in jail, 3 years suspended                  1\n",
       "Charged, Convicted, Sentenced to 3 years probation                                  1\n",
       "Charged, Convicted, Sentenced to Life in Prison                                     1\n",
       "Charged, Convicted, Sentenced to 1 year in prison                                   1\n",
       "Charged, Convicted, Sentenced to 2.5 years in prison                                1\n",
       "Charged, Convicted, Sentenced to life in prison without parole, plus 16 years       1\n",
       "Charged, Convicted, Sentenced to 16 years in prison                                 1\n",
       "Charged, Convicted, Sentenced to 20 years in prison                                 1\n",
       "Charged, Convicted, Sentenced to 40 years in prison                                 1\n",
       "Charged, Convicted, Sentenced to 4 years                                            1\n",
       "Charged, Mistrial, Plead Guilty to Civil Rights Charges                             1\n",
       "Charged, Convicted, Sentenced to 6 years                                            1\n",
       "Name: Criminal Charges, dtype: int64"
      ]
     },
     "execution_count": 154,
     "metadata": {},
     "output_type": "execute_result"
    }
   ],
   "source": [
    "killings['Criminal Charges'].value_counts()"
   ]
  },
  {
   "cell_type": "code",
   "execution_count": 155,
   "metadata": {},
   "outputs": [
    {
     "name": "stdout",
     "output_type": "stream",
     "text": [
      "\n",
      "1. Deputies shot and killed a carjacking suspect who had his 7-year-old daughter in the vehicle. The vehicle was disabled and in a remote field.\n",
      "http://kstp.com/news/suspect-dead-child-safe-north-branch-carjacking/4538090/\n",
      "\n",
      "\n",
      "2. Police went to a Home Depot following a call reporting shots fired. When they got there, they exchanged gunfire with a man, killing him. Details were mostly withheld by police.\n",
      "http://kxan.com/2017/04/24/suspect-dead-after-exchanging-gunfire-with-officers-at-killeen-marketplace/\n",
      "\n",
      "\n",
      "3. Deputies responded to a domestic disturbance and decided to call child welfare officials to the scene. According to police, Tarrant then pulled out a gun and pointed it at deputies.\n",
      "http://www.wsbtv.com/news/news/local/gbi-investigates-deadly-officer-involved-shooting-/npR4n/\n",
      "\n",
      "\n",
      "4. Deputies arrived at Keeton's house as part of a drug investigation, authorities said. Keeton fired at deputies when they approached and was killed when they returned fire, police said.\n",
      "http://www.clarionledger.com/story/news/2015/10/28/fatal-deputy-involved-shooting-monroe-county/74730994/\n",
      "\n",
      "\n",
      "5. Officers were investigating an auto theft and attempted to stop Villarreal when he drove the stolen car into a parking lot, according to authorities. Police opened fire after Villarreal allegedly backed his car into a police cruiser.\n",
      "http://www.desertsun.com/story/news/crime_courts/2015/10/14/possible-shooting-indio-apartments/73951052/\n",
      "\n",
      "\n",
      "6. Anthony was in the car when a cops ordered him to abandoned the car, \"exhibiting erratic behavior\" and was shot with the taser. He died at the hospital.\n",
      "http://www.dallasnews.com/news/metro/20150609-man-who-died-after-police-used-stun-gun-identified.ece\n",
      "\n",
      "\n",
      "7. Police responded to a call of a man attempting to break-into a house. They had reason to believe he was on drugs. The man allegedly made an aggressive stance toward police and was tasered an unknown number of times. He became unresponsive and was put in an ambulance and died at the hospital early the next morning.\n",
      "http://www.baltimoresun.com/news/maryland/bs-md-hagerstown-custody-death-20150417-story.html\n",
      "\n",
      "\n",
      "8. Police responded to a 911 hang-up and found a man sitting on his lawn pointing a shotgun at himself. He allegedly pointed it at police and asked them to kill him. They obliged.\n",
      "http://patch.com/california/encinitas/sheriffs-deputy-shoots-encinitas-man-dead-apparent-suicide-cop-0\n",
      "\n",
      "\n",
      "9. Garcha was being questioned by the sheriff's office about information on a runaway girl. The sheriff drove Garcha into town and both were in the sheriff's car when Garcha stabbed the deputy. The deputy shot Garcha.\n",
      "http://chippewa.com/news/local/call-about-runaway-leads-to-stabbing-shooting/article_714d656e-8f0a-5430-84f0-3f888ea9e699.html\n",
      "\n",
      "\n",
      "10. Anderson suffered from schizophrenia, and officers agreed with the family that she should be taken to a medical center for evaluation. When officers cuffed Anderson and tried to place her inside their vehicle she resisted. Officers then tasered her and tackled her to the ground, forcing her head onto the ground. Anderson became unresponsive and was pronounced dead at the hospital.\n",
      "http://www.cleveland.com/metro/index.ssf/2014/11/cleveland_woman_with_mental_il_1.html\n",
      "\n",
      "\n",
      "11. Officers responded to call about a man walking along the freeway holding an assault rifle. Officers arrived and shot the victim in the back. It was later learned that the victim was holding a pellet gun. The details of the shooting remain \"sketchy,\" according to Wilson's family.\n",
      "http://www.reviewjournal.com/news/las-vegas/parents-want-answers-son-s-fatal-nhp-shooting\n",
      "\n",
      "\n",
      "12. Police responded to a 911 call about a fight in a home. When police arrived, things quickly escalated, and by the end of the night, Mbegbu was in a hospital morgue. Police said Mbegbu became physical with responding officers and forced them to react. Mbegbu fought with officers, spilled liquid on them and kicked an officer in the groin, according to investigators. Mbegdu was then tasered, shortly after he died.\n",
      "http://www.azcentral.com/story/news/local/phoenix/2014/10/15/phoenix-police-taser-death-abrk/17321969/\n",
      "\n",
      "\n",
      "13. Showman herself called police in the mid-morning, claiming to be armed with an Uzi and threatening her family. She had a long history of mental health issues. When officers arrived Showman met them outside, holding a cordless drill. Officers felt threatened and they shot her to death.\n",
      "http://www.sfgate.com/crime/article/Teen-shot-by-San-Jose-cop-while-holding-drill-ID-d-5696601.php\n",
      "\n",
      "\n",
      "14. Eastman tried to break into a car. When officers approached Eastman, he fired a gun at them. Officers then shot and killed Eastman.\n",
      "http://www.mysanantonio.com/news/local/article/Man-killed-by-officer-had-past-murder-conviction-5667993.php#photo-6684438\n",
      "\n",
      "\n",
      "15. Day was agitated and was threatening his family with a knife. When officers arrived they tried to subdue him with a taser. A police canine then tried to stop him. Day then attacked the canine with a machete prompting officers to shoot and kill him Day.\n",
      "http://fox5sandiego.com/2014/07/14/mentally-ill-refugee-killed-by-police/\n",
      "\n",
      "\n",
      "16. Coleman's wife Lauri Coryell reported to 911 that Coleman, staying at a motel, had left a suicidal voicemail. Officers John Nickelson, Marcus Tennigkeit, Jared Cooley and Breck Wright, Sgt. Vanessa Purdy and Lt. Al Byers communicated with him through his door and via phone for several hours. When Beyers decided the suicide was imminent, Wright battered the door open and they went in with guns and a taser. Police state that Coleman was allegedly \"wielding a knife and a bottle of Wild Turkey bourbon in a threatening manner, both of which he allegedly swung toward Tennigkeit, apparently connecting with the bottle.\" Tennigkeit, Nickelson and Cooley fired 18 shots, hitting Coleman 16 times and killing him. As of 10/14, Coryell and other victim families were fighting to have Tennigkeit, Nickelson, Cooley and other Oroville officers fired.\n",
      "http://www.orovillemr.com/news/ci_25657943/man-killed-officer-involved-shooting-at-oroville-motel\n",
      "\n",
      "\n",
      "17. Little was walking near an elementary school when police arrived and ordered him to drop his firearm. When he refused, an officer opened fire and fatally struck Little.\n",
      "http://www.wusa9.com/story/news/local/dc/2014/04/07/man-killed-police-shooting-plummer-elementary-school/7410219/\n",
      "\n",
      "\n",
      "18. Burch was shot in a traffic stop when police \"knew\" he was wanted for a federal drug charge and identity theft warrant. Shot after macing officers, who punched him first.\n",
      "http://www.kirotv.com/news/news/one-person-dead-after-early-morning-officer-involv/nc9HL/\n",
      "\n",
      "\n",
      "19. An off-duty Oklahoma Highway Patrol trooper fatally shot a suspected intruder in an apartment in Deep Deuce.\n",
      "http://newsok.com/man-shot-by-oklahoma-highway-patrol-trooper-was-correction-center-escapee/article/3919183\n",
      "\n",
      "\n",
      "20. Spokane Police Officers responded to a suspicious person call near the area of Division and N. River Drive. Officers were advised a red Dodge truck had intentionally collided with another vehicle in what appeared to be a possible road rage incident. Officers located the red Dodge a short time later on N. Division. A short pursuit was initiated by Officers which ended in the parking lot of the Salvation Army, located at 204 E. Indiana. When Officers attempted to contact the suspect an altercation took place. Officers ultimately shot the suspect.\n",
      "http://www.khq.com/story/23228789/officer-involved-shooting-in-n-spokane\n",
      "\n",
      "\n",
      "21. Officers called to Johnson's home found the 50-year-old perched in a tree and armed. Johnson and officers exchanged gunfire, with one officer suffering a gunshot wound before Johnson was fatally shot.\n",
      "http://stmedia.startribune.com/documents/BCA_Johnson.pdf\n",
      "\n",
      "\n",
      "22. The incident began with a 911 call from someone at Schenck's home, claiming there had been an assault. Shortly after Yellow Springs police arrived at the residence, they reported shots fired on the property. Police requested assistance from the Greene County Combined SWAT Team. They soon received aid from about 63 units from 10 jurisdictions in the area. Greene County Coroner confirmed that Paul E. Schenck had died in his home during the standoff.\n",
      "http://ysnews.com/news/2013/08/yellow-springs-villagers-seek-answers-over-death\n",
      "\n",
      "\n",
      "23. An off-duty sheriff's deputy shot and killed a man who charged him with a bat Sunday night in Gila Bend after answering a call about a domestic violence incident. A couple was arguing on a street and the woman's boyfriend allegedly was threatening her with a baseball bat. The deputy was the first to arrive on the scene and the man refused commands to drop the bat. The deputy said the man then charged him in an aggressive manner, and he feared for his life and shot the man once in the chest.\n",
      "http://www.myfoxphoenix.com/story/22961570/2013/07/29/mcso-says-deputy-fatally-shoots-man-in-gila-bend\n",
      "\n",
      "\n",
      "24. Navarrete's reaction to a militarized no-knock drug raid of his apartment at 5:00 a.m. was to train a semi-automatic rifle at one of the troopers from his bed. Ordered twice to drop the weapon, he froze, and the trooper shot him fatally three times.\n",
      "https://northwesternda.org/sites/default/files/Findings%20in%20Fatal%20July%202013%20Shooting.pdf\n",
      "\n",
      "\n",
      "25. UAPD officer had pulled the car over on a routine stop because of an improper registration. As he approached the vehicle, the driver produced a handgun, causing the officer to fire, police said.\n",
      "http://www.cleveland.com/metro/index.ssf/2013/05/university_of_akron_police_off.html\n",
      "\n"
     ]
    }
   ],
   "source": [
    "convicted = killings[killings['Criminal Charges'].str.lower().str.contains('convicted')]\n",
    "for i, index in enumerate(convicted.index):\n",
    "    print()\n",
    "    print(str(i+1) + '. ' + killings.iloc[index]['Description of Circumstances'])\n",
    "    print(killings.iloc[index]['News Article Link'])\n",
    "    print()"
   ]
  },
  {
   "cell_type": "code",
   "execution_count": 156,
   "metadata": {},
   "outputs": [],
   "source": [
    "import urllib.request\n",
    "\n",
    "def is_url_working(x):\n",
    "    #import urllib.request\n",
    "    print('starting')\n",
    "    try:\n",
    "        test_url = urllib.request.urlopen(x)\n",
    "        return 'Yes'\n",
    "    except:\n",
    "        return 'No'\n",
    "    \n",
    "# killings['URL working?'] = killings['Link to news article or photo of official document'].apply(is_url_working)"
   ]
  },
  {
   "cell_type": "code",
   "execution_count": 157,
   "metadata": {},
   "outputs": [],
   "source": [
    "killings.loc[killings[\"Victims Race\"] == 'Unknown race', \"Victims Race\"] = 'Unknown'\n",
    "killings.loc[killings[\"Victims Race\"] == 'Unknown Race', \"Victims Race\"] = 'Unknown'"
   ]
  },
  {
   "cell_type": "code",
   "execution_count": 158,
   "metadata": {},
   "outputs": [],
   "source": [
    "killings.loc[killings[\"Victims Race\"]=='Asian', \"Victims Race\"] = 'Asian/Pacific Islander'\n",
    "killings.loc[killings[\"Victims Race\"]=='Pacific Islander', \"Victims Race\"] = 'Asian/Pacific Islander'"
   ]
  },
  {
   "cell_type": "code",
   "execution_count": 159,
   "metadata": {},
   "outputs": [
    {
     "data": {
      "text/plain": [
       "White                     3372\n",
       "Black                     1941\n",
       "Hispanic                  1332\n",
       "Unknown                    728\n",
       "Asian/Pacific Islander     159\n",
       "Native American            110\n",
       "Name: Victims Race, dtype: int64"
      ]
     },
     "execution_count": 159,
     "metadata": {},
     "output_type": "execute_result"
    }
   ],
   "source": [
    "killings[\"Victims Race\"].value_counts()"
   ]
  },
  {
   "cell_type": "code",
   "execution_count": 160,
   "metadata": {},
   "outputs": [
    {
     "data": {
      "text/plain": [
       "Name withheld by police    204\n",
       "Michael Brown                3\n",
       "Robert Edwards               3\n",
       "Michael Johnson              2\n",
       "Darius Smith                 2\n",
       "                          ... \n",
       "Dennis Flowers               1\n",
       "Nathaniel Richmond           1\n",
       "Thomas Selje                 1\n",
       "Tyler D. Whitmire            1\n",
       "Andrew Layton                1\n",
       "Name: Victims Name, Length: 7398, dtype: int64"
      ]
     },
     "execution_count": 160,
     "metadata": {},
     "output_type": "execute_result"
    }
   ],
   "source": [
    "killings['Victims Name'].value_counts()"
   ]
  },
  {
   "cell_type": "code",
   "execution_count": 161,
   "metadata": {},
   "outputs": [
    {
     "data": {
      "text/html": [
       "<div>\n",
       "<style scoped>\n",
       "    .dataframe tbody tr th:only-of-type {\n",
       "        vertical-align: middle;\n",
       "    }\n",
       "\n",
       "    .dataframe tbody tr th {\n",
       "        vertical-align: top;\n",
       "    }\n",
       "\n",
       "    .dataframe thead th {\n",
       "        text-align: right;\n",
       "    }\n",
       "</style>\n",
       "<table border=\"1\" class=\"dataframe\">\n",
       "  <thead>\n",
       "    <tr style=\"text-align: right;\">\n",
       "      <th></th>\n",
       "      <th>First Name</th>\n",
       "      <th>Last Name</th>\n",
       "    </tr>\n",
       "  </thead>\n",
       "  <tbody>\n",
       "    <tr>\n",
       "      <th>0</th>\n",
       "      <td>Eric</td>\n",
       "      <td>Tellez</td>\n",
       "    </tr>\n",
       "    <tr>\n",
       "      <th>1</th>\n",
       "      <td>Unknown</td>\n",
       "      <td>Unknown</td>\n",
       "    </tr>\n",
       "    <tr>\n",
       "      <th>2</th>\n",
       "      <td>Terry</td>\n",
       "      <td>Hudson</td>\n",
       "    </tr>\n",
       "    <tr>\n",
       "      <th>3</th>\n",
       "      <td>Malik</td>\n",
       "      <td>Williams</td>\n",
       "    </tr>\n",
       "    <tr>\n",
       "      <th>4</th>\n",
       "      <td>Frederick</td>\n",
       "      <td>Perkins</td>\n",
       "    </tr>\n",
       "    <tr>\n",
       "      <th>...</th>\n",
       "      <td>...</td>\n",
       "      <td>...</td>\n",
       "    </tr>\n",
       "    <tr>\n",
       "      <th>7658</th>\n",
       "      <td>Mark</td>\n",
       "      <td>Chavez</td>\n",
       "    </tr>\n",
       "    <tr>\n",
       "      <th>7659</th>\n",
       "      <td>Tyree</td>\n",
       "      <td>Bell</td>\n",
       "    </tr>\n",
       "    <tr>\n",
       "      <th>7660</th>\n",
       "      <td>Christopher</td>\n",
       "      <td>Tavares</td>\n",
       "    </tr>\n",
       "    <tr>\n",
       "      <th>7661</th>\n",
       "      <td>Andrew</td>\n",
       "      <td>Closson</td>\n",
       "    </tr>\n",
       "    <tr>\n",
       "      <th>7662</th>\n",
       "      <td>Andrew</td>\n",
       "      <td>Layton</td>\n",
       "    </tr>\n",
       "  </tbody>\n",
       "</table>\n",
       "<p>7642 rows × 2 columns</p>\n",
       "</div>"
      ],
      "text/plain": [
       "       First Name Last Name\n",
       "0            Eric    Tellez\n",
       "1         Unknown   Unknown\n",
       "2           Terry    Hudson\n",
       "3           Malik  Williams\n",
       "4       Frederick   Perkins\n",
       "...           ...       ...\n",
       "7658         Mark    Chavez\n",
       "7659        Tyree      Bell\n",
       "7660  Christopher   Tavares\n",
       "7661       Andrew   Closson\n",
       "7662       Andrew    Layton\n",
       "\n",
       "[7642 rows x 2 columns]"
      ]
     },
     "execution_count": 161,
     "metadata": {},
     "output_type": "execute_result"
    }
   ],
   "source": [
    "killings[['First Name', 'Last Name']] = killings['Victims Name'].loc[killings['Victims Name'].str.split().str.len() == 2].str.split(expand=True)\n",
    "\n",
    "killings.loc[killings['Victims Name'].str.split().str.len() != 2, 'First Name'] = killings['Victims Name'].str.split().str[0]\n",
    "killings.loc[killings['Victims Name'].str.split().str.len() != 2, 'Last Name'] = killings['Victims Name'].apply(lambda x: HumanName(x).last)\n",
    "# killings.loc[killings['Victims Name'].str.split().str.len() != 2, ['First Name', 'Last Name']] = [killings['Victims Name'].str.split().str[0], killings['Victims Name'].str.split().str[-1]]\n",
    "\n",
    "killings.loc[killings['Victims Name'] == 'Name withheld by police', ['First Name', 'Last Name']] = ['Unknown', 'Unknown']\n",
    "\n",
    "killings[['First Name', 'Last Name']]"
   ]
  },
  {
   "cell_type": "code",
   "execution_count": 162,
   "metadata": {},
   "outputs": [
    {
     "data": {
      "text/plain": [
       "Michael        209\n",
       "Unknown        206\n",
       "James          143\n",
       "John           140\n",
       "David          132\n",
       "Robert         130\n",
       "Christopher    115\n",
       "William        114\n",
       "Daniel         103\n",
       "Jose            84\n",
       "Anthony         80\n",
       "Joseph          79\n",
       "Jason           76\n",
       "Charles         69\n",
       "Joshua          67\n",
       "Richard         65\n",
       "Thomas          63\n",
       "Matthew         62\n",
       "Mark            58\n",
       "Eric            56\n",
       "Steven          54\n",
       "Kenneth         53\n",
       "Brandon         50\n",
       "Kevin           46\n",
       "Andrew          46\n",
       "Jonathan        44\n",
       "Jeffrey         43\n",
       "Juan            43\n",
       "Brian           43\n",
       "Timothy         40\n",
       "Paul            39\n",
       "Ronald          36\n",
       "Stephen         36\n",
       "Jeremy          34\n",
       "Ryan            34\n",
       "Luis            33\n",
       "Scott           32\n",
       "Justin          32\n",
       "Nicholas        32\n",
       "Donald          30\n",
       "Aaron           29\n",
       "Gary            29\n",
       "Carlos          27\n",
       "Patrick         27\n",
       "Larry           27\n",
       "Edward          26\n",
       "Dennis          26\n",
       "Jesse           26\n",
       "Gregory         26\n",
       "Shawn           25\n",
       "Name: First Name, dtype: int64"
      ]
     },
     "execution_count": 162,
     "metadata": {},
     "output_type": "execute_result"
    }
   ],
   "source": [
    "killings['First Name'].value_counts()[0:50]"
   ]
  },
  {
   "cell_type": "code",
   "execution_count": 163,
   "metadata": {},
   "outputs": [
    {
     "data": {
      "text/plain": [
       "Unknown      204\n",
       "Smith         91\n",
       "Johnson       77\n",
       "Brown         58\n",
       "Williams      54\n",
       "Jones         48\n",
       "Davis         39\n",
       "Hall          34\n",
       "Rodriguez     33\n",
       "Martinez      32\n",
       "Garcia        31\n",
       "Anderson      30\n",
       "Hernandez     30\n",
       "Harris        29\n",
       "Thomas        29\n",
       "Martin        27\n",
       "Robinson      27\n",
       "Ramirez       26\n",
       "Clark         25\n",
       "White         24\n",
       "Gonzalez      24\n",
       "Lopez         24\n",
       "Jackson       23\n",
       "Thompson      23\n",
       "Wilson        22\n",
       "Taylor        22\n",
       "Miller        22\n",
       "Allen         19\n",
       "Torres        18\n",
       "Walker        17\n",
       "Sanchez       16\n",
       "Young         16\n",
       "Baker         16\n",
       "King          16\n",
       "Edwards       16\n",
       "Flores        16\n",
       "Scott         16\n",
       "Rivera        16\n",
       "Perez         15\n",
       "Carter        15\n",
       "Collins       14\n",
       "Moore         14\n",
       "Brooks        14\n",
       "Evans         14\n",
       "Mitchell      14\n",
       "Lewis         14\n",
       "Rogers        14\n",
       "Lee           13\n",
       "West          13\n",
       "Herrera       12\n",
       "Alvarez       12\n",
       "Phillips      12\n",
       "Turner        12\n",
       "Cruz          12\n",
       "Robertson     12\n",
       "Morris        12\n",
       "Coleman       11\n",
       "Hill          11\n",
       "Green         11\n",
       "Chavez        11\n",
       "Name: Last Name, dtype: int64"
      ]
     },
     "execution_count": 163,
     "metadata": {},
     "output_type": "execute_result"
    }
   ],
   "source": [
    "killings['Last Name'].value_counts()[0:60]"
   ]
  },
  {
   "cell_type": "code",
   "execution_count": 164,
   "metadata": {},
   "outputs": [
    {
     "data": {
      "text/html": [
       "<div>\n",
       "<style scoped>\n",
       "    .dataframe tbody tr th:only-of-type {\n",
       "        vertical-align: middle;\n",
       "    }\n",
       "\n",
       "    .dataframe tbody tr th {\n",
       "        vertical-align: top;\n",
       "    }\n",
       "\n",
       "    .dataframe thead th {\n",
       "        text-align: right;\n",
       "    }\n",
       "</style>\n",
       "<table border=\"1\" class=\"dataframe\">\n",
       "  <thead>\n",
       "    <tr style=\"text-align: right;\">\n",
       "      <th></th>\n",
       "      <th>Victims Name</th>\n",
       "      <th>Victims Age</th>\n",
       "      <th>Victims Gender</th>\n",
       "      <th>Victims Race</th>\n",
       "      <th>URL of image of victim</th>\n",
       "      <th>Date</th>\n",
       "      <th>Street Address of Incident</th>\n",
       "      <th>City</th>\n",
       "      <th>State</th>\n",
       "      <th>Zipcode</th>\n",
       "      <th>...</th>\n",
       "      <th>Description of Circumstances</th>\n",
       "      <th>Official Disposition of Death</th>\n",
       "      <th>Criminal Charges</th>\n",
       "      <th>News Article Link</th>\n",
       "      <th>Symptoms of mental illness?</th>\n",
       "      <th>Unarmed</th>\n",
       "      <th>Alleged Weapon</th>\n",
       "      <th>Geography Type</th>\n",
       "      <th>First Name</th>\n",
       "      <th>Last Name</th>\n",
       "    </tr>\n",
       "  </thead>\n",
       "  <tbody>\n",
       "    <tr>\n",
       "      <th>0</th>\n",
       "      <td>Eric M. Tellez</td>\n",
       "      <td>28.0</td>\n",
       "      <td>Male</td>\n",
       "      <td>White</td>\n",
       "      <td>https://fatalencounters.org/wp-content/uploads...</td>\n",
       "      <td>2019-12-31</td>\n",
       "      <td>Broad St.</td>\n",
       "      <td>Globe</td>\n",
       "      <td>AZ</td>\n",
       "      <td>85501.0</td>\n",
       "      <td>...</td>\n",
       "      <td>After midnight, a patrol officer was on routin...</td>\n",
       "      <td>Pending Investigation</td>\n",
       "      <td>No Charges</td>\n",
       "      <td>https://www.azfamily.com/news/phoenix-man-arme...</td>\n",
       "      <td>No</td>\n",
       "      <td>Allegedly Armed</td>\n",
       "      <td>knife</td>\n",
       "      <td>Rural</td>\n",
       "      <td>Eric</td>\n",
       "      <td>Tellez</td>\n",
       "    </tr>\n",
       "    <tr>\n",
       "      <th>1</th>\n",
       "      <td>Name withheld by police</td>\n",
       "      <td>34.0</td>\n",
       "      <td>Male</td>\n",
       "      <td>Unknown</td>\n",
       "      <td>None</td>\n",
       "      <td>2019-12-31</td>\n",
       "      <td>7239-7411 I-40</td>\n",
       "      <td>Memphis</td>\n",
       "      <td>AR</td>\n",
       "      <td>38103.0</td>\n",
       "      <td>...</td>\n",
       "      <td>Police began a chase regarding a kidnapping, e...</td>\n",
       "      <td>Pending Investigation</td>\n",
       "      <td>No Charges</td>\n",
       "      <td>https://www.fox16.com/local-news-2/kidnapping-...</td>\n",
       "      <td>No</td>\n",
       "      <td>Unclear</td>\n",
       "      <td>unclear</td>\n",
       "      <td>Urban</td>\n",
       "      <td>Unknown</td>\n",
       "      <td>Unknown</td>\n",
       "    </tr>\n",
       "    <tr>\n",
       "      <th>2</th>\n",
       "      <td>Terry Hudson</td>\n",
       "      <td>57.0</td>\n",
       "      <td>Male</td>\n",
       "      <td>Black</td>\n",
       "      <td>None</td>\n",
       "      <td>2019-12-31</td>\n",
       "      <td>3600 N 24th St</td>\n",
       "      <td>Omaha</td>\n",
       "      <td>NE</td>\n",
       "      <td>68110.0</td>\n",
       "      <td>...</td>\n",
       "      <td>Police responded to a domestic incident on the...</td>\n",
       "      <td>Pending Investigation</td>\n",
       "      <td>No Charges</td>\n",
       "      <td>https://www.ketv.com/article/omaha-police-offi...</td>\n",
       "      <td>No</td>\n",
       "      <td>Allegedly Armed</td>\n",
       "      <td>gun</td>\n",
       "      <td>Urban</td>\n",
       "      <td>Terry</td>\n",
       "      <td>Hudson</td>\n",
       "    </tr>\n",
       "    <tr>\n",
       "      <th>3</th>\n",
       "      <td>Malik Williams</td>\n",
       "      <td>23.0</td>\n",
       "      <td>Male</td>\n",
       "      <td>Black</td>\n",
       "      <td>None</td>\n",
       "      <td>2019-12-31</td>\n",
       "      <td>30800 14th Avenue South</td>\n",
       "      <td>Federal Way</td>\n",
       "      <td>WA</td>\n",
       "      <td>98003.0</td>\n",
       "      <td>...</td>\n",
       "      <td>Police responded to a domestic dispute. Police...</td>\n",
       "      <td>Pending Investigation</td>\n",
       "      <td>No Charges</td>\n",
       "      <td>https://www.king5.com/article/news/local/2-fed...</td>\n",
       "      <td>No</td>\n",
       "      <td>Allegedly Armed</td>\n",
       "      <td>gun</td>\n",
       "      <td>Suburban</td>\n",
       "      <td>Malik</td>\n",
       "      <td>Williams</td>\n",
       "    </tr>\n",
       "    <tr>\n",
       "      <th>4</th>\n",
       "      <td>Frederick Perkins</td>\n",
       "      <td>37.0</td>\n",
       "      <td>Male</td>\n",
       "      <td>Black</td>\n",
       "      <td>None</td>\n",
       "      <td>2019-12-31</td>\n",
       "      <td>17057 N Outer 40 Rd</td>\n",
       "      <td>Chesterfield</td>\n",
       "      <td>MO</td>\n",
       "      <td>63005.0</td>\n",
       "      <td>...</td>\n",
       "      <td>Police went to Chesterfield Outlets about 1 p....</td>\n",
       "      <td>Pending Investigation</td>\n",
       "      <td>No Charges</td>\n",
       "      <td>https://www.stltoday.com/news/local/crime-and-...</td>\n",
       "      <td>No</td>\n",
       "      <td>Vehicle</td>\n",
       "      <td>vehicle</td>\n",
       "      <td>Suburban</td>\n",
       "      <td>Frederick</td>\n",
       "      <td>Perkins</td>\n",
       "    </tr>\n",
       "  </tbody>\n",
       "</table>\n",
       "<p>5 rows × 23 columns</p>\n",
       "</div>"
      ],
      "text/plain": [
       "              Victims Name  Victims Age Victims Gender Victims Race  \\\n",
       "0           Eric M. Tellez         28.0           Male        White   \n",
       "1  Name withheld by police         34.0           Male      Unknown   \n",
       "2             Terry Hudson         57.0           Male        Black   \n",
       "3           Malik Williams         23.0           Male        Black   \n",
       "4        Frederick Perkins         37.0           Male        Black   \n",
       "\n",
       "                              URL of image of victim       Date  \\\n",
       "0  https://fatalencounters.org/wp-content/uploads... 2019-12-31   \n",
       "1                                               None 2019-12-31   \n",
       "2                                               None 2019-12-31   \n",
       "3                                               None 2019-12-31   \n",
       "4                                               None 2019-12-31   \n",
       "\n",
       "  Street Address of Incident          City State  Zipcode  ...  \\\n",
       "0                 Broad St.          Globe    AZ  85501.0  ...   \n",
       "1             7239-7411 I-40       Memphis    AR  38103.0  ...   \n",
       "2             3600 N 24th St         Omaha    NE  68110.0  ...   \n",
       "3    30800 14th Avenue South   Federal Way    WA  98003.0  ...   \n",
       "4        17057 N Outer 40 Rd  Chesterfield    MO  63005.0  ...   \n",
       "\n",
       "                        Description of Circumstances  \\\n",
       "0  After midnight, a patrol officer was on routin...   \n",
       "1  Police began a chase regarding a kidnapping, e...   \n",
       "2  Police responded to a domestic incident on the...   \n",
       "3  Police responded to a domestic dispute. Police...   \n",
       "4  Police went to Chesterfield Outlets about 1 p....   \n",
       "\n",
       "  Official Disposition of Death Criminal Charges  \\\n",
       "0         Pending Investigation       No Charges   \n",
       "1         Pending Investigation       No Charges   \n",
       "2         Pending Investigation       No Charges   \n",
       "3         Pending Investigation       No Charges   \n",
       "4         Pending Investigation       No Charges   \n",
       "\n",
       "                                   News Article Link  \\\n",
       "0  https://www.azfamily.com/news/phoenix-man-arme...   \n",
       "1  https://www.fox16.com/local-news-2/kidnapping-...   \n",
       "2  https://www.ketv.com/article/omaha-police-offi...   \n",
       "3  https://www.king5.com/article/news/local/2-fed...   \n",
       "4  https://www.stltoday.com/news/local/crime-and-...   \n",
       "\n",
       "  Symptoms of mental illness?          Unarmed Alleged Weapon Geography Type  \\\n",
       "0                          No  Allegedly Armed          knife          Rural   \n",
       "1                          No          Unclear        unclear          Urban   \n",
       "2                          No  Allegedly Armed            gun          Urban   \n",
       "3                          No  Allegedly Armed            gun       Suburban   \n",
       "4                          No          Vehicle        vehicle       Suburban   \n",
       "\n",
       "  First Name Last Name  \n",
       "0       Eric    Tellez  \n",
       "1    Unknown   Unknown  \n",
       "2      Terry    Hudson  \n",
       "3      Malik  Williams  \n",
       "4  Frederick   Perkins  \n",
       "\n",
       "[5 rows x 23 columns]"
      ]
     },
     "execution_count": 164,
     "metadata": {},
     "output_type": "execute_result"
    }
   ],
   "source": [
    "killings.head()"
   ]
  },
  {
   "cell_type": "code",
   "execution_count": 166,
   "metadata": {},
   "outputs": [],
   "source": [
    "killings.to_csv('./csv_files/police_killings_clean.csv', index=False)"
   ]
  },
  {
   "cell_type": "code",
   "execution_count": null,
   "metadata": {},
   "outputs": [],
   "source": []
  },
  {
   "cell_type": "code",
   "execution_count": null,
   "metadata": {},
   "outputs": [],
   "source": []
  },
  {
   "cell_type": "code",
   "execution_count": null,
   "metadata": {},
   "outputs": [],
   "source": []
  }
 ],
 "metadata": {
  "kernelspec": {
   "display_name": "Python 3 (ipykernel)",
   "language": "python",
   "name": "python3"
  },
  "language_info": {
   "codemirror_mode": {
    "name": "ipython",
    "version": 3
   },
   "file_extension": ".py",
   "mimetype": "text/x-python",
   "name": "python",
   "nbconvert_exporter": "python",
   "pygments_lexer": "ipython3",
   "version": "3.9.9"
  }
 },
 "nbformat": 4,
 "nbformat_minor": 4
}
